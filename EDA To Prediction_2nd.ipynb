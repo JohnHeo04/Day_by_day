{
 "cells": [
  {
   "cell_type": "markdown",
   "metadata": {},
   "source": [
    "# EDA To Prediction (DIeTanic)"
   ]
  },
  {
   "cell_type": "markdown",
   "metadata": {},
   "source": [
    "The sinking of the Titanic is one of the most infamous shipwrecks in history. On April 15, 1912, during her maiden voyage, the Titanic sank after colliding with an iceberg, killing 1502 out of 2224 passengers and crew. That's why the name DieTanic. This is a very unforgetable disaster that no one in the world can forget.\n",
    "\n",
    "It took about $7.5 million to build the Titanic and it sunk under the ocean due to collision. The Titanic Dataset is a very good dataset for begineers to start a journey in data science and participate in competitions in Kaggle.\n",
    "\n",
    "The Objective of this notebook is to give an idea how is the workflow in any predictive modeling problem. How do we check features, how do we add new features and some Machine Learning Concepts. I have tried to keep the notebook as basic as possible so that even newbies can understand every phase of it.\n",
    "\n",
    "If You Like the notebook and think that it helped you..PLEASE UPVOTE. It will keep me motivated."
   ]
  },
  {
   "cell_type": "markdown",
   "metadata": {},
   "source": [
    "### Contents of the Notebook:\n",
    "\n",
    "#### Part1: Exploratory Data Analysis(EDA):\n",
    "1) Analysis of the features.\n",
    "\n",
    "2) Finding any relations or trends considering multiple features.\n",
    "\n",
    "#### Part2: Feature Engineering and Data Cleaning:\n",
    "1) Adding any few features.\n",
    "\n",
    "2) Removing redundant features.\n",
    "\n",
    "3) Converting features into suitable form for modeling.\n",
    "\n",
    "#### Part3: Predictive Modeling\n",
    "1) Running Basic Algorithms.\n",
    "\n",
    "2) Cross Validation.\n",
    "\n",
    "3) Ensembling.\n",
    "\n",
    "4) Important Features Extraction."
   ]
  },
  {
   "cell_type": "markdown",
   "metadata": {},
   "source": [
    "### Part:1 Exploratory Data Analysis(EDA)"
   ]
  },
  {
   "cell_type": "code",
   "execution_count": 3,
   "metadata": {},
   "outputs": [],
   "source": [
    "import numpy as np\n",
    "import pandas as pd\n",
    "import matplotlib.pyplot as plt\n",
    "import seaborn as sns\n",
    "plt.style.use('fivethirtyeight')\n",
    "import warnings\n",
    "warnings.filterwarnings('ignore')\n",
    "%matplotlib inline"
   ]
  },
  {
   "cell_type": "code",
   "execution_count": 4,
   "metadata": {},
   "outputs": [],
   "source": [
    "data=pd.read_csv('train.csv')"
   ]
  },
  {
   "cell_type": "code",
   "execution_count": 5,
   "metadata": {},
   "outputs": [
    {
     "data": {
      "text/html": [
       "<div>\n",
       "<style scoped>\n",
       "    .dataframe tbody tr th:only-of-type {\n",
       "        vertical-align: middle;\n",
       "    }\n",
       "\n",
       "    .dataframe tbody tr th {\n",
       "        vertical-align: top;\n",
       "    }\n",
       "\n",
       "    .dataframe thead th {\n",
       "        text-align: right;\n",
       "    }\n",
       "</style>\n",
       "<table border=\"1\" class=\"dataframe\">\n",
       "  <thead>\n",
       "    <tr style=\"text-align: right;\">\n",
       "      <th></th>\n",
       "      <th>PassengerId</th>\n",
       "      <th>Survived</th>\n",
       "      <th>Pclass</th>\n",
       "      <th>Name</th>\n",
       "      <th>Sex</th>\n",
       "      <th>Age</th>\n",
       "      <th>SibSp</th>\n",
       "      <th>Parch</th>\n",
       "      <th>Ticket</th>\n",
       "      <th>Fare</th>\n",
       "      <th>Cabin</th>\n",
       "      <th>Embarked</th>\n",
       "    </tr>\n",
       "  </thead>\n",
       "  <tbody>\n",
       "    <tr>\n",
       "      <th>0</th>\n",
       "      <td>1</td>\n",
       "      <td>0</td>\n",
       "      <td>3</td>\n",
       "      <td>Braund, Mr. Owen Harris</td>\n",
       "      <td>male</td>\n",
       "      <td>22.0</td>\n",
       "      <td>1</td>\n",
       "      <td>0</td>\n",
       "      <td>A/5 21171</td>\n",
       "      <td>7.2500</td>\n",
       "      <td>NaN</td>\n",
       "      <td>S</td>\n",
       "    </tr>\n",
       "    <tr>\n",
       "      <th>1</th>\n",
       "      <td>2</td>\n",
       "      <td>1</td>\n",
       "      <td>1</td>\n",
       "      <td>Cumings, Mrs. John Bradley (Florence Briggs Th...</td>\n",
       "      <td>female</td>\n",
       "      <td>38.0</td>\n",
       "      <td>1</td>\n",
       "      <td>0</td>\n",
       "      <td>PC 17599</td>\n",
       "      <td>71.2833</td>\n",
       "      <td>C85</td>\n",
       "      <td>C</td>\n",
       "    </tr>\n",
       "    <tr>\n",
       "      <th>2</th>\n",
       "      <td>3</td>\n",
       "      <td>1</td>\n",
       "      <td>3</td>\n",
       "      <td>Heikkinen, Miss. Laina</td>\n",
       "      <td>female</td>\n",
       "      <td>26.0</td>\n",
       "      <td>0</td>\n",
       "      <td>0</td>\n",
       "      <td>STON/O2. 3101282</td>\n",
       "      <td>7.9250</td>\n",
       "      <td>NaN</td>\n",
       "      <td>S</td>\n",
       "    </tr>\n",
       "    <tr>\n",
       "      <th>3</th>\n",
       "      <td>4</td>\n",
       "      <td>1</td>\n",
       "      <td>1</td>\n",
       "      <td>Futrelle, Mrs. Jacques Heath (Lily May Peel)</td>\n",
       "      <td>female</td>\n",
       "      <td>35.0</td>\n",
       "      <td>1</td>\n",
       "      <td>0</td>\n",
       "      <td>113803</td>\n",
       "      <td>53.1000</td>\n",
       "      <td>C123</td>\n",
       "      <td>S</td>\n",
       "    </tr>\n",
       "    <tr>\n",
       "      <th>4</th>\n",
       "      <td>5</td>\n",
       "      <td>0</td>\n",
       "      <td>3</td>\n",
       "      <td>Allen, Mr. William Henry</td>\n",
       "      <td>male</td>\n",
       "      <td>35.0</td>\n",
       "      <td>0</td>\n",
       "      <td>0</td>\n",
       "      <td>373450</td>\n",
       "      <td>8.0500</td>\n",
       "      <td>NaN</td>\n",
       "      <td>S</td>\n",
       "    </tr>\n",
       "  </tbody>\n",
       "</table>\n",
       "</div>"
      ],
      "text/plain": [
       "   PassengerId  Survived  Pclass  \\\n",
       "0            1         0       3   \n",
       "1            2         1       1   \n",
       "2            3         1       3   \n",
       "3            4         1       1   \n",
       "4            5         0       3   \n",
       "\n",
       "                                                Name     Sex   Age  SibSp  \\\n",
       "0                            Braund, Mr. Owen Harris    male  22.0      1   \n",
       "1  Cumings, Mrs. John Bradley (Florence Briggs Th...  female  38.0      1   \n",
       "2                             Heikkinen, Miss. Laina  female  26.0      0   \n",
       "3       Futrelle, Mrs. Jacques Heath (Lily May Peel)  female  35.0      1   \n",
       "4                           Allen, Mr. William Henry    male  35.0      0   \n",
       "\n",
       "   Parch            Ticket     Fare Cabin Embarked  \n",
       "0      0         A/5 21171   7.2500   NaN        S  \n",
       "1      0          PC 17599  71.2833   C85        C  \n",
       "2      0  STON/O2. 3101282   7.9250   NaN        S  \n",
       "3      0            113803  53.1000  C123        S  \n",
       "4      0            373450   8.0500   NaN        S  "
      ]
     },
     "execution_count": 5,
     "metadata": {},
     "output_type": "execute_result"
    }
   ],
   "source": [
    "data.head()"
   ]
  },
  {
   "cell_type": "code",
   "execution_count": 7,
   "metadata": {},
   "outputs": [
    {
     "data": {
      "text/plain": [
       "PassengerId      0\n",
       "Survived         0\n",
       "Pclass           0\n",
       "Name             0\n",
       "Sex              0\n",
       "Age            177\n",
       "SibSp            0\n",
       "Parch            0\n",
       "Ticket           0\n",
       "Fare             0\n",
       "Cabin          687\n",
       "Embarked         2\n",
       "dtype: int64"
      ]
     },
     "execution_count": 7,
     "metadata": {},
     "output_type": "execute_result"
    }
   ],
   "source": [
    "data.isnull().sum() # checking for total null values"
   ]
  },
  {
   "cell_type": "markdown",
   "metadata": {},
   "source": [
    "The __Age, Cabin and Embarked__ have null values. I will try to fix them. "
   ]
  },
  {
   "cell_type": "markdown",
   "metadata": {},
   "source": [
    "### How many Survived?"
   ]
  },
  {
   "cell_type": "code",
   "execution_count": 11,
   "metadata": {},
   "outputs": [
    {
     "data": {
      "image/png": "[encoded data removed]",
      "text/plain": [
       "<Figure size 1296x576 with 2 Axes>"
      ]
     },
     "metadata": {
      "needs_background": "light"
     },
     "output_type": "display_data"
    }
   ],
   "source": [
    "f, ax= plt.subplots(1,2,figsize=(18,8))\n",
    "data['Survived'].value_counts().plot.pie(explode=[0,0.1], autopct='%1.1f%%', ax=ax[0], shadow=True)\n",
    "ax[0].set_title('Survived')\n",
    "ax[0].set_ylabel('')\n",
    "sns.countplot('Survived', data=data, ax=ax[1])\n",
    "ax[1].set_title('Survived')\n",
    "plt.show()"
   ]
  },
  {
   "cell_type": "markdown",
   "metadata": {},
   "source": [
    "It is evident that not many passengers survived the accident.\n",
    "\n",
    "Out of 891 passengers in training set, only around 350 survived i.e Only 38.4% of the total training set survived the crash. We need to dig down more to get better insights from the data and see which categories of the passengers did survive and who didn't.\n",
    "\n",
    "We will try to check the survival rate by using the different features of the dataset. Some of the features being Se, Port Of Embarcation, Age, etc.\n",
    "\n",
    "First let us understand the different types of features."
   ]
  },
  {
   "cell_type": "markdown",
   "metadata": {},
   "source": [
    "### Types Of Features\n",
    "\n",
    "#### Categorical Features:\n",
    "A categorical variable is one that has two or more categories and each value in that feature can be categorised by them. For example, gender is a categorical variable having two categories (male and female). Now we cannot sort or give any ordering to such variables. They are also known as __Nominal Variables.__\n",
    "\n",
    "Categorical Features in the dataset: Sex, Embarked.\n",
    "\n",
    "#### Ordinal Features:\n",
    "An ordinal variable is similar to categorical values, but the difference between them is that we can have relative ordering or sorting between the values. For eg: I we have a feature like __Height__ with values __Tall, Medium, Short,__ then Height is a ordinal variable. Here we can have a relative sort in the variable.\n",
    "\n",
    "Ordinal Features in the dataset: PClass\n",
    "\n",
    "#### Continous Feature:\n",
    "A feature is said to be continous if it can take values between any two points or between the minimum or maximum values in the features column.\n",
    "\n",
    "Continous Features in the dataset: Age"
   ]
  },
  {
   "cell_type": "markdown",
   "metadata": {},
   "source": [
    "### Analysing The Features"
   ]
  },
  {
   "cell_type": "markdown",
   "metadata": {},
   "source": [
    "#### Sex --> Categorical Feature"
   ]
  },
  {
   "cell_type": "code",
   "execution_count": 12,
   "metadata": {},
   "outputs": [
    {
     "data": {
      "text/plain": [
       "Sex     Survived\n",
       "female  0            81\n",
       "        1           233\n",
       "male    0           468\n",
       "        1           109\n",
       "Name: Survived, dtype: int64"
      ]
     },
     "execution_count": 12,
     "metadata": {},
     "output_type": "execute_result"
    }
   ],
   "source": [
    "data.groupby(['Sex','Survived'])['Survived'].count()"
   ]
  },
  {
   "cell_type": "code",
   "execution_count": 13,
   "metadata": {},
   "outputs": [
    {
     "data": {
      "image/png": "[encoded data removed]",
      "text/plain": [
       "<Figure size 1296x576 with 2 Axes>"
      ]
     },
     "metadata": {
      "needs_background": "light"
     },
     "output_type": "display_data"
    }
   ],
   "source": [
    "f,ax=plt.subplots(1,2,figsize=(18,8))\n",
    "data[['Sex','Survived']].groupby(['Sex']).mean().plot.bar(ax=ax[0])\n",
    "ax[0].set_title('Survived vs Sex')\n",
    "sns.countplot('Sex',hue='Survived',data=data,ax=ax[1])\n",
    "ax[1].set_title('Sex:Survived vs Dead')\n",
    "plt.show()"
   ]
  },
  {
   "cell_type": "markdown",
   "metadata": {},
   "source": [
    "This looks interesting. The number of men on the ship is lot more than the number of women. Still the number of women saved is almost twice the number of males saved. The survival rates for a __women on the ship is around 75% while that for men in around 18~19%__.\n",
    "\n",
    "This looks to be a __very important__ feature for modeling. But is it the best??\n",
    "Let's check other features."
   ]
  },
  {
   "cell_type": "markdown",
   "metadata": {},
   "source": [
    "### Pcalss --> Ordinal Feature"
   ]
  },
  {
   "cell_type": "code",
   "execution_count": 14,
   "metadata": {},
   "outputs": [
    {
     "data": {
      "text/html": [
       "<style  type=\"text/css\" >\n",
       "    #T_381eda62_ad6f_11e9_88c1_d4619d166172row0_col0 {\n",
       "            background-color:  #ffff66;\n",
       "        }    #T_381eda62_ad6f_11e9_88c1_d4619d166172row0_col1 {\n",
       "            background-color:  #cee666;\n",
       "        }    #T_381eda62_ad6f_11e9_88c1_d4619d166172row0_col2 {\n",
       "            background-color:  #f4fa66;\n",
       "        }    #T_381eda62_ad6f_11e9_88c1_d4619d166172row1_col0 {\n",
       "            background-color:  #f6fa66;\n",
       "        }    #T_381eda62_ad6f_11e9_88c1_d4619d166172row1_col1 {\n",
       "            background-color:  #ffff66;\n",
       "        }    #T_381eda62_ad6f_11e9_88c1_d4619d166172row1_col2 {\n",
       "            background-color:  #ffff66;\n",
       "        }    #T_381eda62_ad6f_11e9_88c1_d4619d166172row2_col0 {\n",
       "            background-color:  #60b066;\n",
       "        }    #T_381eda62_ad6f_11e9_88c1_d4619d166172row2_col1 {\n",
       "            background-color:  #dfef66;\n",
       "        }    #T_381eda62_ad6f_11e9_88c1_d4619d166172row2_col2 {\n",
       "            background-color:  #90c866;\n",
       "        }    #T_381eda62_ad6f_11e9_88c1_d4619d166172row3_col0 {\n",
       "            background-color:  #008066;\n",
       "        }    #T_381eda62_ad6f_11e9_88c1_d4619d166172row3_col1 {\n",
       "            background-color:  #008066;\n",
       "        }    #T_381eda62_ad6f_11e9_88c1_d4619d166172row3_col2 {\n",
       "            background-color:  #008066;\n",
       "        }</style>  \n",
       "<table id=\"T_381eda62_ad6f_11e9_88c1_d4619d166172\" > \n",
       "<thead>    <tr> \n",
       "        <th class=\"index_name level0\" >Survived</th> \n",
       "        <th class=\"col_heading level0 col0\" >0</th> \n",
       "        <th class=\"col_heading level0 col1\" >1</th> \n",
       "        <th class=\"col_heading level0 col2\" >All</th> \n",
       "    </tr>    <tr> \n",
       "        <th class=\"index_name level0\" >Pclass</th> \n",
       "        <th class=\"blank\" ></th> \n",
       "        <th class=\"blank\" ></th> \n",
       "        <th class=\"blank\" ></th> \n",
       "    </tr></thead> \n",
       "<tbody>    <tr> \n",
       "        <th id=\"T_381eda62_ad6f_11e9_88c1_d4619d166172level0_row0\" class=\"row_heading level0 row0\" >1</th> \n",
       "        <td id=\"T_381eda62_ad6f_11e9_88c1_d4619d166172row0_col0\" class=\"data row0 col0\" >80</td> \n",
       "        <td id=\"T_381eda62_ad6f_11e9_88c1_d4619d166172row0_col1\" class=\"data row0 col1\" >136</td> \n",
       "        <td id=\"T_381eda62_ad6f_11e9_88c1_d4619d166172row0_col2\" class=\"data row0 col2\" >216</td> \n",
       "    </tr>    <tr> \n",
       "        <th id=\"T_381eda62_ad6f_11e9_88c1_d4619d166172level0_row1\" class=\"row_heading level0 row1\" >2</th> \n",
       "        <td id=\"T_381eda62_ad6f_11e9_88c1_d4619d166172row1_col0\" class=\"data row1 col0\" >97</td> \n",
       "        <td id=\"T_381eda62_ad6f_11e9_88c1_d4619d166172row1_col1\" class=\"data row1 col1\" >87</td> \n",
       "        <td id=\"T_381eda62_ad6f_11e9_88c1_d4619d166172row1_col2\" class=\"data row1 col2\" >184</td> \n",
       "    </tr>    <tr> \n",
       "        <th id=\"T_381eda62_ad6f_11e9_88c1_d4619d166172level0_row2\" class=\"row_heading level0 row2\" >3</th> \n",
       "        <td id=\"T_381eda62_ad6f_11e9_88c1_d4619d166172row2_col0\" class=\"data row2 col0\" >372</td> \n",
       "        <td id=\"T_381eda62_ad6f_11e9_88c1_d4619d166172row2_col1\" class=\"data row2 col1\" >119</td> \n",
       "        <td id=\"T_381eda62_ad6f_11e9_88c1_d4619d166172row2_col2\" class=\"data row2 col2\" >491</td> \n",
       "    </tr>    <tr> \n",
       "        <th id=\"T_381eda62_ad6f_11e9_88c1_d4619d166172level0_row3\" class=\"row_heading level0 row3\" >All</th> \n",
       "        <td id=\"T_381eda62_ad6f_11e9_88c1_d4619d166172row3_col0\" class=\"data row3 col0\" >549</td> \n",
       "        <td id=\"T_381eda62_ad6f_11e9_88c1_d4619d166172row3_col1\" class=\"data row3 col1\" >342</td> \n",
       "        <td id=\"T_381eda62_ad6f_11e9_88c1_d4619d166172row3_col2\" class=\"data row3 col2\" >891</td> \n",
       "    </tr></tbody> \n",
       "</table> "
      ],
      "text/plain": [
       "<pandas.io.formats.style.Styler at 0x1a1db74c88>"
      ]
     },
     "execution_count": 14,
     "metadata": {},
     "output_type": "execute_result"
    }
   ],
   "source": [
    "pd.crosstab(data.Pclass, data.Survived, margins=True).style.background_gradient(cmap='summer_r')"
   ]
  },
  {
   "cell_type": "code",
   "execution_count": 16,
   "metadata": {},
   "outputs": [
    {
     "data": {
      "image/png": "[encoded data removed]",
      "text/plain": [
       "<Figure size 1296x576 with 2 Axes>"
      ]
     },
     "metadata": {
      "needs_background": "light"
     },
     "output_type": "display_data"
    }
   ],
   "source": [
    "f,ax=plt.subplots(1,2,figsize=(18,8))\n",
    "data['Pclass'].value_counts().plot.bar(color=['#CF7F32','#FFDF00','#D3D3D3'], ax=ax[0])\n",
    "ax[0].set_title('Number Of Passengers By Pclass')\n",
    "ax[0].set_ylabel('Count')\n",
    "sns.countplot('Pclass',hue='Survived',data=data, ax=ax[1])\n",
    "ax[1].set_title('Pclass: Survived vs Dead')\n",
    "plt.show()"
   ]
  },
  {
   "cell_type": "markdown",
   "metadata": {},
   "source": [
    "People say __Money Can't Buy Everything.__ But we can clearly see that Passengers Of Pclass 1 were given a very high priority while rescue. Even thoygh the number of Passengers in Pclass 3 were a lot higher, still the number of survival from them is very low, somewhere around __25%__.\n",
    "\n",
    "For Pclass 1% survived is around __63%__ while for Pclass2 is around __48%__. So money and status matters. Such a materialistic world.\n",
    "\n",
    "Let's Dive in little bit more and check for other interesting observations. Let's check survival rate with Sex and Pclass together."
   ]
  },
  {
   "cell_type": "code",
   "execution_count": 17,
   "metadata": {},
   "outputs": [
    {
     "data": {
      "text/html": [
       "<style  type=\"text/css\" >\n",
       "    #T_d8d79f64_ad71_11e9_88c1_d4619d166172row0_col0 {\n",
       "            background-color:  #ffff66;\n",
       "        }    #T_d8d79f64_ad71_11e9_88c1_d4619d166172row0_col1 {\n",
       "            background-color:  #ffff66;\n",
       "        }    #T_d8d79f64_ad71_11e9_88c1_d4619d166172row0_col2 {\n",
       "            background-color:  #f1f866;\n",
       "        }    #T_d8d79f64_ad71_11e9_88c1_d4619d166172row0_col3 {\n",
       "            background-color:  #ffff66;\n",
       "        }    #T_d8d79f64_ad71_11e9_88c1_d4619d166172row1_col0 {\n",
       "            background-color:  #96cb66;\n",
       "        }    #T_d8d79f64_ad71_11e9_88c1_d4619d166172row1_col1 {\n",
       "            background-color:  #a3d166;\n",
       "        }    #T_d8d79f64_ad71_11e9_88c1_d4619d166172row1_col2 {\n",
       "            background-color:  #f1f866;\n",
       "        }    #T_d8d79f64_ad71_11e9_88c1_d4619d166172row1_col3 {\n",
       "            background-color:  #cfe766;\n",
       "        }    #T_d8d79f64_ad71_11e9_88c1_d4619d166172row2_col0 {\n",
       "            background-color:  #a7d366;\n",
       "        }    #T_d8d79f64_ad71_11e9_88c1_d4619d166172row2_col1 {\n",
       "            background-color:  #85c266;\n",
       "        }    #T_d8d79f64_ad71_11e9_88c1_d4619d166172row2_col2 {\n",
       "            background-color:  #6eb666;\n",
       "        }    #T_d8d79f64_ad71_11e9_88c1_d4619d166172row2_col3 {\n",
       "            background-color:  #85c266;\n",
       "        }    #T_d8d79f64_ad71_11e9_88c1_d4619d166172row3_col0 {\n",
       "            background-color:  #cde666;\n",
       "        }    #T_d8d79f64_ad71_11e9_88c1_d4619d166172row3_col1 {\n",
       "            background-color:  #f0f866;\n",
       "        }    #T_d8d79f64_ad71_11e9_88c1_d4619d166172row3_col2 {\n",
       "            background-color:  #ffff66;\n",
       "        }    #T_d8d79f64_ad71_11e9_88c1_d4619d166172row3_col3 {\n",
       "            background-color:  #f7fb66;\n",
       "        }    #T_d8d79f64_ad71_11e9_88c1_d4619d166172row4_col0 {\n",
       "            background-color:  #008066;\n",
       "        }    #T_d8d79f64_ad71_11e9_88c1_d4619d166172row4_col1 {\n",
       "            background-color:  #008066;\n",
       "        }    #T_d8d79f64_ad71_11e9_88c1_d4619d166172row4_col2 {\n",
       "            background-color:  #008066;\n",
       "        }    #T_d8d79f64_ad71_11e9_88c1_d4619d166172row4_col3 {\n",
       "            background-color:  #008066;\n",
       "        }</style>  \n",
       "<table id=\"T_d8d79f64_ad71_11e9_88c1_d4619d166172\" > \n",
       "<thead>    <tr> \n",
       "        <th class=\"blank\" ></th> \n",
       "        <th class=\"index_name level0\" >Pclass</th> \n",
       "        <th class=\"col_heading level0 col0\" >1</th> \n",
       "        <th class=\"col_heading level0 col1\" >2</th> \n",
       "        <th class=\"col_heading level0 col2\" >3</th> \n",
       "        <th class=\"col_heading level0 col3\" >All</th> \n",
       "    </tr>    <tr> \n",
       "        <th class=\"index_name level0\" >Sex</th> \n",
       "        <th class=\"index_name level1\" >Survived</th> \n",
       "        <th class=\"blank\" ></th> \n",
       "        <th class=\"blank\" ></th> \n",
       "        <th class=\"blank\" ></th> \n",
       "        <th class=\"blank\" ></th> \n",
       "    </tr></thead> \n",
       "<tbody>    <tr> \n",
       "        <th id=\"T_d8d79f64_ad71_11e9_88c1_d4619d166172level0_row0\" class=\"row_heading level0 row0\" rowspan=2>female</th> \n",
       "        <th id=\"T_d8d79f64_ad71_11e9_88c1_d4619d166172level1_row0\" class=\"row_heading level1 row0\" >0</th> \n",
       "        <td id=\"T_d8d79f64_ad71_11e9_88c1_d4619d166172row0_col0\" class=\"data row0 col0\" >3</td> \n",
       "        <td id=\"T_d8d79f64_ad71_11e9_88c1_d4619d166172row0_col1\" class=\"data row0 col1\" >6</td> \n",
       "        <td id=\"T_d8d79f64_ad71_11e9_88c1_d4619d166172row0_col2\" class=\"data row0 col2\" >72</td> \n",
       "        <td id=\"T_d8d79f64_ad71_11e9_88c1_d4619d166172row0_col3\" class=\"data row0 col3\" >81</td> \n",
       "    </tr>    <tr> \n",
       "        <th id=\"T_d8d79f64_ad71_11e9_88c1_d4619d166172level1_row1\" class=\"row_heading level1 row1\" >1</th> \n",
       "        <td id=\"T_d8d79f64_ad71_11e9_88c1_d4619d166172row1_col0\" class=\"data row1 col0\" >91</td> \n",
       "        <td id=\"T_d8d79f64_ad71_11e9_88c1_d4619d166172row1_col1\" class=\"data row1 col1\" >70</td> \n",
       "        <td id=\"T_d8d79f64_ad71_11e9_88c1_d4619d166172row1_col2\" class=\"data row1 col2\" >72</td> \n",
       "        <td id=\"T_d8d79f64_ad71_11e9_88c1_d4619d166172row1_col3\" class=\"data row1 col3\" >233</td> \n",
       "    </tr>    <tr> \n",
       "        <th id=\"T_d8d79f64_ad71_11e9_88c1_d4619d166172level0_row2\" class=\"row_heading level0 row2\" rowspan=2>male</th> \n",
       "        <th id=\"T_d8d79f64_ad71_11e9_88c1_d4619d166172level1_row2\" class=\"row_heading level1 row2\" >0</th> \n",
       "        <td id=\"T_d8d79f64_ad71_11e9_88c1_d4619d166172row2_col0\" class=\"data row2 col0\" >77</td> \n",
       "        <td id=\"T_d8d79f64_ad71_11e9_88c1_d4619d166172row2_col1\" class=\"data row2 col1\" >91</td> \n",
       "        <td id=\"T_d8d79f64_ad71_11e9_88c1_d4619d166172row2_col2\" class=\"data row2 col2\" >300</td> \n",
       "        <td id=\"T_d8d79f64_ad71_11e9_88c1_d4619d166172row2_col3\" class=\"data row2 col3\" >468</td> \n",
       "    </tr>    <tr> \n",
       "        <th id=\"T_d8d79f64_ad71_11e9_88c1_d4619d166172level1_row3\" class=\"row_heading level1 row3\" >1</th> \n",
       "        <td id=\"T_d8d79f64_ad71_11e9_88c1_d4619d166172row3_col0\" class=\"data row3 col0\" >45</td> \n",
       "        <td id=\"T_d8d79f64_ad71_11e9_88c1_d4619d166172row3_col1\" class=\"data row3 col1\" >17</td> \n",
       "        <td id=\"T_d8d79f64_ad71_11e9_88c1_d4619d166172row3_col2\" class=\"data row3 col2\" >47</td> \n",
       "        <td id=\"T_d8d79f64_ad71_11e9_88c1_d4619d166172row3_col3\" class=\"data row3 col3\" >109</td> \n",
       "    </tr>    <tr> \n",
       "        <th id=\"T_d8d79f64_ad71_11e9_88c1_d4619d166172level0_row4\" class=\"row_heading level0 row4\" >All</th> \n",
       "        <th id=\"T_d8d79f64_ad71_11e9_88c1_d4619d166172level1_row4\" class=\"row_heading level1 row4\" ></th> \n",
       "        <td id=\"T_d8d79f64_ad71_11e9_88c1_d4619d166172row4_col0\" class=\"data row4 col0\" >216</td> \n",
       "        <td id=\"T_d8d79f64_ad71_11e9_88c1_d4619d166172row4_col1\" class=\"data row4 col1\" >184</td> \n",
       "        <td id=\"T_d8d79f64_ad71_11e9_88c1_d4619d166172row4_col2\" class=\"data row4 col2\" >491</td> \n",
       "        <td id=\"T_d8d79f64_ad71_11e9_88c1_d4619d166172row4_col3\" class=\"data row4 col3\" >891</td> \n",
       "    </tr></tbody> \n",
       "</table> "
      ],
      "text/plain": [
       "<pandas.io.formats.style.Styler at 0x1a1d2ea048>"
      ]
     },
     "execution_count": 17,
     "metadata": {},
     "output_type": "execute_result"
    }
   ],
   "source": [
    "pd.crosstab([data.Sex, data.Survived], data.Pclass, margins=True).style.background_gradient(cmap='summer_r')"
   ]
  },
  {
   "cell_type": "code",
   "execution_count": 18,
   "metadata": {},
   "outputs": [
    {
     "data": {
      "image/png": "[encoded data removed]",
      "text/plain": [
       "<Figure size 430.5x360 with 1 Axes>"
      ]
     },
     "metadata": {
      "needs_background": "light"
     },
     "output_type": "display_data"
    }
   ],
   "source": [
    "sns.factorplot('Pclass','Survived',hue='Sex',data=data)\n",
    "plt.show()"
   ]
  },
  {
   "cell_type": "markdown",
   "metadata": {},
   "source": [
    "We use __FactorPlot__ in this case, becaues they make the seperation of categorical values easy.\n",
    "\n",
    "Looking at the __CrossTab__ and the __FactorPlot__, we can easily infer that survival for __Women from Pclass1__ is about __95~96%__, as only 3 out of 94 Women from Pclass2 died.\n",
    "\n",
    "It is evident that irrespective of Pclass, Women were given first priority while rescue. Even Men from Pclass1 have a very low survival rate.\n",
    "\n",
    "Looks like Pclass is also an important feature. Let's analyse other features."
   ]
  },
  {
   "cell_type": "markdown",
   "metadata": {},
   "source": [
    "### Age --> Continous Feature"
   ]
  },
  {
   "cell_type": "code",
   "execution_count": 19,
   "metadata": {},
   "outputs": [
    {
     "name": "stdout",
     "output_type": "stream",
     "text": [
      "Oldest Passsenger was of: 80.0 Years\n",
      "Youngest Passenger was of: 0.42 Years\n",
      "Average Age on the ship: 29.69911764705882 Years\n"
     ]
    }
   ],
   "source": [
    "print('Oldest Passsenger was of:', data['Age'].max(),'Years')\n",
    "print('Youngest Passenger was of:', data['Age'].min(), 'Years')\n",
    "print('Average Age on the ship:', data['Age'].mean(), 'Years')"
   ]
  },
  {
   "cell_type": "code",
   "execution_count": 20,
   "metadata": {},
   "outputs": [
    {
     "data": {
      "image/png": "[encoded data removed]",
      "text/plain": [
       "<Figure size 1296x576 with 2 Axes>"
      ]
     },
     "metadata": {
      "needs_background": "light"
     },
     "output_type": "display_data"
    }
   ],
   "source": [
    "f,ax=plt.subplots(1,2,figsize=(18,8))\n",
    "sns.violinplot(\"Pclass\",\"Age\",hue=\"Survived\",data=data,split=True,ax=ax[0])\n",
    "ax[0].set_title('Pclass and Age vs Survived')\n",
    "ax[0].set_yticks(range(0,110,10))\n",
    "sns.violinplot(\"Sex\",\"Age\", hue=\"Survived\", data=data, split=True, ax=ax[1])\n",
    "ax[1].set_title('Sex and Age vs Survived')\n",
    "ax[1].set_yticks(range(0,110,10))\n",
    "plt.show()"
   ]
  },
  {
   "cell_type": "markdown",
   "metadata": {},
   "source": [
    "#### Observations:\n",
    "1) The number of children increases with Pclass and the survival rate for passengers below Age 10(i.e children) looks to be good irrespective of the Pclass.\n",
    "\n",
    "2) Survival chances for Passengers aged 20~50 from Pclass1 is high and is even better for Women.\n",
    "\n",
    "3) For males, the survival chances decreases with an increase in age."
   ]
  },
  {
   "cell_type": "markdown",
   "metadata": {},
   "source": [
    "As we had seen earlier, the Age feature has __177__ null values. To replace these NaN values, we can assign them the mean age of the dataset.\n",
    "\n",
    "But the problem is, there were many people with many different ages. We just can't assign a 4 year kid with the mean age that is 29 years. Is there any way to find out what age-band does the passenger lie??\n",
    "\n",
    "__Bingo!!!__, we can check the __Name__ feature. Looking upon the feature, we can see that the names have a salutation like Mr or Mrs. Thus we can assign the mean values of Mr and Mrs to the respective groups.\n",
    "\n",
    "__\"What's In A Name??\" ---> Featrue__"
   ]
  },
  {
   "cell_type": "code",
   "execution_count": 29,
   "metadata": {},
   "outputs": [],
   "source": [
    "data['Initial']=0\n",
    "for i in data:\n",
    "    data['Initial']=data.Name.str.extract('([A-Za-z]+)\\.')"
   ]
  },
  {
   "cell_type": "markdown",
   "metadata": {},
   "source": [
    "Okay so here we are using the Regax:__[A~Za~z]+). So what is does is, it looks for strings which lie between __A~Z or a~z and followed by a.(dot).So we succesfully extract the Initials from the name."
   ]
  },
  {
   "cell_type": "code",
   "execution_count": 23,
   "metadata": {},
   "outputs": [
    {
     "data": {
      "text/html": [
       "<style  type=\"text/css\" >\n",
       "</style>  \n",
       "<table id=\"T_59e4969a_ad75_11e9_88c1_d4619d166172\" > \n",
       "<thead></thead> \n",
       "<tbody></tbody> \n",
       "</table> "
      ],
      "text/plain": [
       "<pandas.io.formats.style.Styler at 0x10870d4e0>"
      ]
     },
     "execution_count": 23,
     "metadata": {},
     "output_type": "execute_result"
    }
   ],
   "source": [
    "pd.crosstab(data.Initial, data.Sex).T.style.background_gradient(cmap='summer_r')"
   ]
  },
  {
   "cell_type": "markdown",
   "metadata": {},
   "source": [
    "Okay so there are some misspelled Initials like Mlle or Mme that stand for Miss. I will replace them with Miss and same thing for other values."
   ]
  },
  {
   "cell_type": "code",
   "execution_count": 30,
   "metadata": {},
   "outputs": [],
   "source": [
    "data['Initial'].replace(['Mlle','Mme','Ms','Dr','Major','Lady','Countess','Jonkheer','Col','Rev','Capt','Sir','Don'],['Miss','Miss','Miss','Mr','Mr','Mrs','Mrs','Other','Other','Other','Mr','Mr','Mr'], inplace=True)"
   ]
  },
  {
   "cell_type": "markdown",
   "metadata": {},
   "source": [
    "Okay so here we are using the Regex:__[A-Za-z]+)__.. So What is does is, it looks for strings which lie between __A-Z or a-z__ and followed by a .(dot).So we succesfully extract the Initials from the Name."
   ]
  },
  {
   "cell_type": "code",
   "execution_count": null,
   "metadata": {},
   "outputs": [],
   "source": []
  },
  {
   "cell_type": "code",
   "execution_count": null,
   "metadata": {},
   "outputs": [],
   "source": []
  },
  {
   "cell_type": "code",
   "execution_count": null,
   "metadata": {},
   "outputs": [],
   "source": []
  },
  {
   "cell_type": "code",
   "execution_count": null,
   "metadata": {},
   "outputs": [],
   "source": []
  },
  {
   "cell_type": "code",
   "execution_count": null,
   "metadata": {},
   "outputs": [],
   "source": []
  },
  {
   "cell_type": "code",
   "execution_count": null,
   "metadata": {},
   "outputs": [],
   "source": []
  },
  {
   "cell_type": "code",
   "execution_count": null,
   "metadata": {},
   "outputs": [],
   "source": []
  },
  {
   "cell_type": "code",
   "execution_count": null,
   "metadata": {},
   "outputs": [],
   "source": []
  },
  {
   "cell_type": "code",
   "execution_count": null,
   "metadata": {},
   "outputs": [],
   "source": []
  },
  {
   "cell_type": "code",
   "execution_count": null,
   "metadata": {},
   "outputs": [],
   "source": []
  },
  {
   "cell_type": "code",
   "execution_count": null,
   "metadata": {},
   "outputs": [],
   "source": []
  },
  {
   "cell_type": "code",
   "execution_count": null,
   "metadata": {},
   "outputs": [],
   "source": []
  },
  {
   "cell_type": "code",
   "execution_count": null,
   "metadata": {},
   "outputs": [],
   "source": []
  },
  {
   "cell_type": "code",
   "execution_count": null,
   "metadata": {},
   "outputs": [],
   "source": []
  },
  {
   "cell_type": "code",
   "execution_count": null,
   "metadata": {},
   "outputs": [],
   "source": []
  },
  {
   "cell_type": "code",
   "execution_count": null,
   "metadata": {},
   "outputs": [],
   "source": []
  },
  {
   "cell_type": "code",
   "execution_count": null,
   "metadata": {},
   "outputs": [],
   "source": []
  },
  {
   "cell_type": "code",
   "execution_count": null,
   "metadata": {},
   "outputs": [],
   "source": []
  },
  {
   "cell_type": "code",
   "execution_count": null,
   "metadata": {},
   "outputs": [],
   "source": []
  },
  {
   "cell_type": "code",
   "execution_count": null,
   "metadata": {},
   "outputs": [],
   "source": []
  },
  {
   "cell_type": "code",
   "execution_count": null,
   "metadata": {},
   "outputs": [],
   "source": []
  },
  {
   "cell_type": "code",
   "execution_count": null,
   "metadata": {},
   "outputs": [],
   "source": []
  },
  {
   "cell_type": "code",
   "execution_count": null,
   "metadata": {},
   "outputs": [],
   "source": []
  },
  {
   "cell_type": "code",
   "execution_count": null,
   "metadata": {},
   "outputs": [],
   "source": []
  },
  {
   "cell_type": "code",
   "execution_count": null,
   "metadata": {},
   "outputs": [],
   "source": []
  },
  {
   "cell_type": "code",
   "execution_count": null,
   "metadata": {},
   "outputs": [],
   "source": []
  },
  {
   "cell_type": "code",
   "execution_count": null,
   "metadata": {},
   "outputs": [],
   "source": []
  },
  {
   "cell_type": "code",
   "execution_count": null,
   "metadata": {},
   "outputs": [],
   "source": []
  },
  {
   "cell_type": "code",
   "execution_count": null,
   "metadata": {},
   "outputs": [],
   "source": []
  },
  {
   "cell_type": "code",
   "execution_count": null,
   "metadata": {},
   "outputs": [],
   "source": []
  },
  {
   "cell_type": "code",
   "execution_count": null,
   "metadata": {},
   "outputs": [],
   "source": []
  },
  {
   "cell_type": "code",
   "execution_count": null,
   "metadata": {},
   "outputs": [],
   "source": []
  },
  {
   "cell_type": "code",
   "execution_count": null,
   "metadata": {},
   "outputs": [],
   "source": []
  },
  {
   "cell_type": "code",
   "execution_count": null,
   "metadata": {},
   "outputs": [],
   "source": []
  },
  {
   "cell_type": "code",
   "execution_count": null,
   "metadata": {},
   "outputs": [],
   "source": []
  }
 ],
 "metadata": {
  "kernelspec": {
   "display_name": "Python 3",
   "language": "python",
   "name": "python3"
  },
  "language_info": {
   "codemirror_mode": {
    "name": "ipython",
    "version": 3
   },
   "file_extension": ".py",
   "mimetype": "text/x-python",
   "name": "python",
   "nbconvert_exporter": "python",
   "pygments_lexer": "ipython3",
   "version": "3.7.1"
  }
 },
 "nbformat": 4,
 "nbformat_minor": 2
}
