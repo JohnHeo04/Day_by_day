{
 "cells": [
  {
   "cell_type": "markdown",
   "metadata": {},
   "source": [
    "# EDA To Prediction (Die Tanic)"
   ]
  },
  {
   "cell_type": "markdown",
   "metadata": {},
   "source": [
    "Soemtimes life has a cruel sense of humor, giving you the thing you always wanted at the worst possible."
   ]
  },
  {
   "cell_type": "markdown",
   "metadata": {},
   "source": [
    "The sinking of the Titanic is one of the most infamous shipwrecks in history. On April 15, 1912, during her maiden voyage, the Titanic sank after colliding with an iceberg, killing 1502 out of 2224 passengers and crew. That's why the name DieTanic. This is a very unforgetable disaster that no one in the world can forget.\n",
    "\n",
    "It took about $7.5 million to build the Titanic and it sunk under the ocean due to collision. The Titanic Dataset is a very good dataset for begineers to start a journey in data science and participate in competitions in Kaggle.\n",
    "\n",
    "The Objective of this notebook is to give an idea how is the workflow in any predictive modeling problem. How do we check features, how do we add new features and some Machine Learning Concepts. I have tried to keep the notebook as basic as possible so that even newbies can understand every phase of it.\n",
    "\n",
    "If You Like the notebook and think that it helped you..PLEASE UPVOTE. It will keep me motivated."
   ]
  },
  {
   "cell_type": "markdown",
   "metadata": {},
   "source": [
    "### Contents of the Notebook:\n",
    "\n",
    "#### Part1: Exploratory Data Analysis(EDA):\n",
    "\n",
    "1) Analysis of the features.\n",
    "\n",
    "2) Finding any relations or trends considering multiple features.\n",
    "\n",
    "#### Part2: Feature Engineering and Data Cleaning:\n",
    "\n",
    "1) Adding any few features.\n",
    "\n",
    "2) Removing redundant features.\n",
    "\n",
    "3) Converting features into suitable form for modeling.\n",
    "\n",
    "#### Part3: Predictive Modeling\n",
    "\n",
    "1) Running Basic Algorithms.\n",
    "\n",
    "2) Cross Validation.\n",
    "\n",
    "3) Ensembling.\n",
    "\n",
    "4) Important Features Extraction."
   ]
  },
  {
   "cell_type": "markdown",
   "metadata": {},
   "source": [
    "### Part1: Exploratory Data Analysis(EDA)"
   ]
  },
  {
   "cell_type": "code",
   "execution_count": 1,
   "metadata": {},
   "outputs": [],
   "source": [
    "import numpy as np\n",
    "import pandas as pd\n",
    "import matplotlib.pyplot as plt\n",
    "import seaborn as sns\n",
    "plt.style.use('fivethirtyeight')\n",
    "import warnings\n",
    "warnings.filterwarnings('ignore')\n",
    "%matplotlib inline"
   ]
  },
  {
   "cell_type": "code",
   "execution_count": 2,
   "metadata": {},
   "outputs": [],
   "source": [
    "data=pd.read_csv('train.csv')"
   ]
  },
  {
   "cell_type": "code",
   "execution_count": 3,
   "metadata": {},
   "outputs": [
    {
     "data": {
      "text/html": [
       "<div>\n",
       "<style scoped>\n",
       "    .dataframe tbody tr th:only-of-type {\n",
       "        vertical-align: middle;\n",
       "    }\n",
       "\n",
       "    .dataframe tbody tr th {\n",
       "        vertical-align: top;\n",
       "    }\n",
       "\n",
       "    .dataframe thead th {\n",
       "        text-align: right;\n",
       "    }\n",
       "</style>\n",
       "<table border=\"1\" class=\"dataframe\">\n",
       "  <thead>\n",
       "    <tr style=\"text-align: right;\">\n",
       "      <th></th>\n",
       "      <th>PassengerId</th>\n",
       "      <th>Survived</th>\n",
       "      <th>Pclass</th>\n",
       "      <th>Name</th>\n",
       "      <th>Sex</th>\n",
       "      <th>Age</th>\n",
       "      <th>SibSp</th>\n",
       "      <th>Parch</th>\n",
       "      <th>Ticket</th>\n",
       "      <th>Fare</th>\n",
       "      <th>Cabin</th>\n",
       "      <th>Embarked</th>\n",
       "    </tr>\n",
       "  </thead>\n",
       "  <tbody>\n",
       "    <tr>\n",
       "      <th>0</th>\n",
       "      <td>1</td>\n",
       "      <td>0</td>\n",
       "      <td>3</td>\n",
       "      <td>Braund, Mr. Owen Harris</td>\n",
       "      <td>male</td>\n",
       "      <td>22.0</td>\n",
       "      <td>1</td>\n",
       "      <td>0</td>\n",
       "      <td>A/5 21171</td>\n",
       "      <td>7.2500</td>\n",
       "      <td>NaN</td>\n",
       "      <td>S</td>\n",
       "    </tr>\n",
       "    <tr>\n",
       "      <th>1</th>\n",
       "      <td>2</td>\n",
       "      <td>1</td>\n",
       "      <td>1</td>\n",
       "      <td>Cumings, Mrs. John Bradley (Florence Briggs Th...</td>\n",
       "      <td>female</td>\n",
       "      <td>38.0</td>\n",
       "      <td>1</td>\n",
       "      <td>0</td>\n",
       "      <td>PC 17599</td>\n",
       "      <td>71.2833</td>\n",
       "      <td>C85</td>\n",
       "      <td>C</td>\n",
       "    </tr>\n",
       "    <tr>\n",
       "      <th>2</th>\n",
       "      <td>3</td>\n",
       "      <td>1</td>\n",
       "      <td>3</td>\n",
       "      <td>Heikkinen, Miss. Laina</td>\n",
       "      <td>female</td>\n",
       "      <td>26.0</td>\n",
       "      <td>0</td>\n",
       "      <td>0</td>\n",
       "      <td>STON/O2. 3101282</td>\n",
       "      <td>7.9250</td>\n",
       "      <td>NaN</td>\n",
       "      <td>S</td>\n",
       "    </tr>\n",
       "    <tr>\n",
       "      <th>3</th>\n",
       "      <td>4</td>\n",
       "      <td>1</td>\n",
       "      <td>1</td>\n",
       "      <td>Futrelle, Mrs. Jacques Heath (Lily May Peel)</td>\n",
       "      <td>female</td>\n",
       "      <td>35.0</td>\n",
       "      <td>1</td>\n",
       "      <td>0</td>\n",
       "      <td>113803</td>\n",
       "      <td>53.1000</td>\n",
       "      <td>C123</td>\n",
       "      <td>S</td>\n",
       "    </tr>\n",
       "    <tr>\n",
       "      <th>4</th>\n",
       "      <td>5</td>\n",
       "      <td>0</td>\n",
       "      <td>3</td>\n",
       "      <td>Allen, Mr. William Henry</td>\n",
       "      <td>male</td>\n",
       "      <td>35.0</td>\n",
       "      <td>0</td>\n",
       "      <td>0</td>\n",
       "      <td>373450</td>\n",
       "      <td>8.0500</td>\n",
       "      <td>NaN</td>\n",
       "      <td>S</td>\n",
       "    </tr>\n",
       "  </tbody>\n",
       "</table>\n",
       "</div>"
      ],
      "text/plain": [
       "   PassengerId  Survived  Pclass  \\\n",
       "0            1         0       3   \n",
       "1            2         1       1   \n",
       "2            3         1       3   \n",
       "3            4         1       1   \n",
       "4            5         0       3   \n",
       "\n",
       "                                                Name     Sex   Age  SibSp  \\\n",
       "0                            Braund, Mr. Owen Harris    male  22.0      1   \n",
       "1  Cumings, Mrs. John Bradley (Florence Briggs Th...  female  38.0      1   \n",
       "2                             Heikkinen, Miss. Laina  female  26.0      0   \n",
       "3       Futrelle, Mrs. Jacques Heath (Lily May Peel)  female  35.0      1   \n",
       "4                           Allen, Mr. William Henry    male  35.0      0   \n",
       "\n",
       "   Parch            Ticket     Fare Cabin Embarked  \n",
       "0      0         A/5 21171   7.2500   NaN        S  \n",
       "1      0          PC 17599  71.2833   C85        C  \n",
       "2      0  STON/O2. 3101282   7.9250   NaN        S  \n",
       "3      0            113803  53.1000  C123        S  \n",
       "4      0            373450   8.0500   NaN        S  "
      ]
     },
     "execution_count": 3,
     "metadata": {},
     "output_type": "execute_result"
    }
   ],
   "source": [
    "data.head()"
   ]
  },
  {
   "cell_type": "code",
   "execution_count": 5,
   "metadata": {},
   "outputs": [
    {
     "data": {
      "text/plain": [
       "PassengerId      0\n",
       "Survived         0\n",
       "Pclass           0\n",
       "Name             0\n",
       "Sex              0\n",
       "Age            177\n",
       "SibSp            0\n",
       "Parch            0\n",
       "Ticket           0\n",
       "Fare             0\n",
       "Cabin          687\n",
       "Embarked         2\n",
       "dtype: int64"
      ]
     },
     "execution_count": 5,
     "metadata": {},
     "output_type": "execute_result"
    }
   ],
   "source": [
    "data.isnull().sum() # Checking for total null values"
   ]
  },
  {
   "cell_type": "markdown",
   "metadata": {},
   "source": [
    "The __Age, Cabin and Embarked__ have null values. I will try to fix them."
   ]
  },
  {
   "cell_type": "markdown",
   "metadata": {},
   "source": [
    "### How many survived??"
   ]
  },
  {
   "cell_type": "code",
   "execution_count": 6,
   "metadata": {},
   "outputs": [
    {
     "data": {
      "image/png": "[encoded data removed]",
      "text/plain": [
       "<Figure size 1296x576 with 2 Axes>"
      ]
     },
     "metadata": {
      "needs_background": "light"
     },
     "output_type": "display_data"
    }
   ],
   "source": [
    "f,ax=plt.subplots(1,2,figsize=(18,8))\n",
    "data['Survived'].value_counts().plot.pie(explode=[0,0.1],autopct='%1.1f%%', ax=ax[0], shadow=True)\n",
    "ax[0].set_title('Survived')\n",
    "ax[0].set_ylabel('')\n",
    "sns.countplot('Survived',data=data,ax=ax[1])\n",
    "ax[1].set_title('Survived')\n",
    "plt.show()"
   ]
  },
  {
   "cell_type": "markdown",
   "metadata": {},
   "source": [
    "It is evident that not many passengers survived the accident.\n",
    "\n",
    "Out of 891 passengers in training set, only around 350 survived i.e Only __38.4%__ of the total training set survived the crash. We need to dig down more to get better insights from the data and see which categories of the passengers did survive and who didn't.\n",
    "\n",
    "We will try to check the survival rate by using the different features of the dataset. Some of the features being Sex, Port Of Embarcation, Age, etc.\n",
    "\n",
    "First let us understand the different types of features."
   ]
  },
  {
   "cell_type": "markdown",
   "metadata": {},
   "source": [
    "### Types Of Features\n",
    "\n",
    "#### Categorical Features:\n",
    "A categorical variable is one that has two or more categories and each value in that feature can be categorised by them.For example, gender is a categorical variable having two categories (male and female). Now we cannot sort or give any ordering to such variables. They are also known as Nominal Variables.\n",
    "##### Categorical Features in the dataset: Sex, Embarked.\n",
    "\n",
    "#### Ordinal Features:\n",
    "An ordinal variable is similar to categorical values, but the difference between them is that we can have relative ordering or sorting between the values. For eg: If we have a feature like Height with values Tall, Medium, Short, then Height is a ordinal variable. Here we can have a relative sort in the variable.\n",
    "##### Ordinal Features in the dataset: Pclass\n",
    "\n",
    "#### Continous Feature:\n",
    "A feature is said to be continous if it can take values between any two points or between the minimum or maximum values in the features column.\n",
    "\n",
    "##### Continous Features in the dataset: Age"
   ]
  },
  {
   "cell_type": "markdown",
   "metadata": {},
   "source": [
    "### Analysing The Features"
   ]
  },
  {
   "cell_type": "markdown",
   "metadata": {},
   "source": [
    "### Sex --> Categorical Feature"
   ]
  },
  {
   "cell_type": "code",
   "execution_count": 7,
   "metadata": {},
   "outputs": [
    {
     "data": {
      "text/plain": [
       "Sex     Survived\n",
       "female  0            81\n",
       "        1           233\n",
       "male    0           468\n",
       "        1           109\n",
       "Name: Survived, dtype: int64"
      ]
     },
     "execution_count": 7,
     "metadata": {},
     "output_type": "execute_result"
    }
   ],
   "source": [
    "data.groupby(['Sex','Survived'])['Survived'].count()"
   ]
  },
  {
   "cell_type": "code",
   "execution_count": 9,
   "metadata": {},
   "outputs": [
    {
     "data": {
      "image/png": "[encoded data removed]",
      "text/plain": [
       "<Figure size 1296x576 with 2 Axes>"
      ]
     },
     "metadata": {
      "needs_background": "light"
     },
     "output_type": "display_data"
    }
   ],
   "source": [
    "f,ax=plt.subplots(1,2,figsize=(18,8))\n",
    "data[['Sex','Survived']].groupby(['Sex']).mean().plot.bar(ax=ax[0])\n",
    "ax[0].set_title('Survived vs Sex')\n",
    "sns.countplot('Sex',hue='Survived',data=data,ax=ax[1])\n",
    "ax[1].set_title('Sex:Survived vs Dead')\n",
    "plt.show()"
   ]
  },
  {
   "cell_type": "markdown",
   "metadata": {},
   "source": [
    "This looks interesting. The number of men on the ship is lot more than the number of women. Still the number of women saved is almost twice the number of males saved. The survival rates for a __women on the ship is around 75% while that for men in around 18~19%__.\n",
    "\n",
    "This looks to be a __very important__ features for modeling. But is it the best??\n",
    "Let's check other features."
   ]
  },
  {
   "cell_type": "markdown",
   "metadata": {},
   "source": [
    "### Pclass --> Ordinal Feature"
   ]
  },
  {
   "cell_type": "code",
   "execution_count": 10,
   "metadata": {},
   "outputs": [
    {
     "data": {
      "text/html": [
       "<style  type=\"text/css\" >\n",
       "    #T_1c710598_b43f_11e9_a37c_d4619d166172row0_col0 {\n",
       "            background-color:  #ffff66;\n",
       "        }    #T_1c710598_b43f_11e9_a37c_d4619d166172row0_col1 {\n",
       "            background-color:  #cee666;\n",
       "        }    #T_1c710598_b43f_11e9_a37c_d4619d166172row0_col2 {\n",
       "            background-color:  #f4fa66;\n",
       "        }    #T_1c710598_b43f_11e9_a37c_d4619d166172row1_col0 {\n",
       "            background-color:  #f6fa66;\n",
       "        }    #T_1c710598_b43f_11e9_a37c_d4619d166172row1_col1 {\n",
       "            background-color:  #ffff66;\n",
       "        }    #T_1c710598_b43f_11e9_a37c_d4619d166172row1_col2 {\n",
       "            background-color:  #ffff66;\n",
       "        }    #T_1c710598_b43f_11e9_a37c_d4619d166172row2_col0 {\n",
       "            background-color:  #60b066;\n",
       "        }    #T_1c710598_b43f_11e9_a37c_d4619d166172row2_col1 {\n",
       "            background-color:  #dfef66;\n",
       "        }    #T_1c710598_b43f_11e9_a37c_d4619d166172row2_col2 {\n",
       "            background-color:  #90c866;\n",
       "        }    #T_1c710598_b43f_11e9_a37c_d4619d166172row3_col0 {\n",
       "            background-color:  #008066;\n",
       "        }    #T_1c710598_b43f_11e9_a37c_d4619d166172row3_col1 {\n",
       "            background-color:  #008066;\n",
       "        }    #T_1c710598_b43f_11e9_a37c_d4619d166172row3_col2 {\n",
       "            background-color:  #008066;\n",
       "        }</style>  \n",
       "<table id=\"T_1c710598_b43f_11e9_a37c_d4619d166172\" > \n",
       "<thead>    <tr> \n",
       "        <th class=\"index_name level0\" >Survived</th> \n",
       "        <th class=\"col_heading level0 col0\" >0</th> \n",
       "        <th class=\"col_heading level0 col1\" >1</th> \n",
       "        <th class=\"col_heading level0 col2\" >All</th> \n",
       "    </tr>    <tr> \n",
       "        <th class=\"index_name level0\" >Pclass</th> \n",
       "        <th class=\"blank\" ></th> \n",
       "        <th class=\"blank\" ></th> \n",
       "        <th class=\"blank\" ></th> \n",
       "    </tr></thead> \n",
       "<tbody>    <tr> \n",
       "        <th id=\"T_1c710598_b43f_11e9_a37c_d4619d166172level0_row0\" class=\"row_heading level0 row0\" >1</th> \n",
       "        <td id=\"T_1c710598_b43f_11e9_a37c_d4619d166172row0_col0\" class=\"data row0 col0\" >80</td> \n",
       "        <td id=\"T_1c710598_b43f_11e9_a37c_d4619d166172row0_col1\" class=\"data row0 col1\" >136</td> \n",
       "        <td id=\"T_1c710598_b43f_11e9_a37c_d4619d166172row0_col2\" class=\"data row0 col2\" >216</td> \n",
       "    </tr>    <tr> \n",
       "        <th id=\"T_1c710598_b43f_11e9_a37c_d4619d166172level0_row1\" class=\"row_heading level0 row1\" >2</th> \n",
       "        <td id=\"T_1c710598_b43f_11e9_a37c_d4619d166172row1_col0\" class=\"data row1 col0\" >97</td> \n",
       "        <td id=\"T_1c710598_b43f_11e9_a37c_d4619d166172row1_col1\" class=\"data row1 col1\" >87</td> \n",
       "        <td id=\"T_1c710598_b43f_11e9_a37c_d4619d166172row1_col2\" class=\"data row1 col2\" >184</td> \n",
       "    </tr>    <tr> \n",
       "        <th id=\"T_1c710598_b43f_11e9_a37c_d4619d166172level0_row2\" class=\"row_heading level0 row2\" >3</th> \n",
       "        <td id=\"T_1c710598_b43f_11e9_a37c_d4619d166172row2_col0\" class=\"data row2 col0\" >372</td> \n",
       "        <td id=\"T_1c710598_b43f_11e9_a37c_d4619d166172row2_col1\" class=\"data row2 col1\" >119</td> \n",
       "        <td id=\"T_1c710598_b43f_11e9_a37c_d4619d166172row2_col2\" class=\"data row2 col2\" >491</td> \n",
       "    </tr>    <tr> \n",
       "        <th id=\"T_1c710598_b43f_11e9_a37c_d4619d166172level0_row3\" class=\"row_heading level0 row3\" >All</th> \n",
       "        <td id=\"T_1c710598_b43f_11e9_a37c_d4619d166172row3_col0\" class=\"data row3 col0\" >549</td> \n",
       "        <td id=\"T_1c710598_b43f_11e9_a37c_d4619d166172row3_col1\" class=\"data row3 col1\" >342</td> \n",
       "        <td id=\"T_1c710598_b43f_11e9_a37c_d4619d166172row3_col2\" class=\"data row3 col2\" >891</td> \n",
       "    </tr></tbody> \n",
       "</table> "
      ],
      "text/plain": [
       "<pandas.io.formats.style.Styler at 0x1a251c6940>"
      ]
     },
     "execution_count": 10,
     "metadata": {},
     "output_type": "execute_result"
    }
   ],
   "source": [
    "pd.crosstab(data.Pclass, data.Survived, margins=True).style.background_gradient(cmap='summer_r')"
   ]
  },
  {
   "cell_type": "code",
   "execution_count": 12,
   "metadata": {},
   "outputs": [
    {
     "data": {
      "image/png": "[encoded data removed]",
      "text/plain": [
       "<Figure size 1296x576 with 2 Axes>"
      ]
     },
     "metadata": {
      "needs_background": "light"
     },
     "output_type": "display_data"
    }
   ],
   "source": [
    "f,ax=plt.subplots(1,2,figsize=(18,8))\n",
    "data['Pclass'].value_counts().plot.bar(color=['#CF7F32','#FFDF00','#D3D3D3'],ax=ax[0])\n",
    "ax[0].set_title('Number Of Passengers By Pclass')\n",
    "ax[0].set_ylabel('Count')\n",
    "sns.countplot('Pclass',hue='Survived',data=data,ax=ax[1])\n",
    "ax[1].set_title('Pclass:Survived vs Dead')\n",
    "plt.show()"
   ]
  },
  {
   "cell_type": "markdown",
   "metadata": {},
   "source": [
    "People say __Money Can't Buy Everything.__ But we can clearly see that Passengers of Pclass 1 were given a very high priority while rescue. Even though the number of Passengers in Pclass 3 were a lot of higher, still the number of survival from them is very low, somewhere around __25%__.\n",
    "\n",
    "For Pclass 1% survived is around __63%__ while for Pclass2 is around __48%__. So money and status matters. Such a materialistic world.\n",
    "\n",
    "Let's Dive in little bit more and check for other interesting observations. Let's check survival rate with __Sex and Pclass__ Together."
   ]
  },
  {
   "cell_type": "code",
   "execution_count": 13,
   "metadata": {},
   "outputs": [
    {
     "data": {
      "text/html": [
       "<style  type=\"text/css\" >\n",
       "    #T_7eee06a0_b442_11e9_a37c_d4619d166172row0_col0 {\n",
       "            background-color:  #ffff66;\n",
       "        }    #T_7eee06a0_b442_11e9_a37c_d4619d166172row0_col1 {\n",
       "            background-color:  #ffff66;\n",
       "        }    #T_7eee06a0_b442_11e9_a37c_d4619d166172row0_col2 {\n",
       "            background-color:  #f1f866;\n",
       "        }    #T_7eee06a0_b442_11e9_a37c_d4619d166172row0_col3 {\n",
       "            background-color:  #ffff66;\n",
       "        }    #T_7eee06a0_b442_11e9_a37c_d4619d166172row1_col0 {\n",
       "            background-color:  #96cb66;\n",
       "        }    #T_7eee06a0_b442_11e9_a37c_d4619d166172row1_col1 {\n",
       "            background-color:  #a3d166;\n",
       "        }    #T_7eee06a0_b442_11e9_a37c_d4619d166172row1_col2 {\n",
       "            background-color:  #f1f866;\n",
       "        }    #T_7eee06a0_b442_11e9_a37c_d4619d166172row1_col3 {\n",
       "            background-color:  #cfe766;\n",
       "        }    #T_7eee06a0_b442_11e9_a37c_d4619d166172row2_col0 {\n",
       "            background-color:  #a7d366;\n",
       "        }    #T_7eee06a0_b442_11e9_a37c_d4619d166172row2_col1 {\n",
       "            background-color:  #85c266;\n",
       "        }    #T_7eee06a0_b442_11e9_a37c_d4619d166172row2_col2 {\n",
       "            background-color:  #6eb666;\n",
       "        }    #T_7eee06a0_b442_11e9_a37c_d4619d166172row2_col3 {\n",
       "            background-color:  #85c266;\n",
       "        }    #T_7eee06a0_b442_11e9_a37c_d4619d166172row3_col0 {\n",
       "            background-color:  #cde666;\n",
       "        }    #T_7eee06a0_b442_11e9_a37c_d4619d166172row3_col1 {\n",
       "            background-color:  #f0f866;\n",
       "        }    #T_7eee06a0_b442_11e9_a37c_d4619d166172row3_col2 {\n",
       "            background-color:  #ffff66;\n",
       "        }    #T_7eee06a0_b442_11e9_a37c_d4619d166172row3_col3 {\n",
       "            background-color:  #f7fb66;\n",
       "        }    #T_7eee06a0_b442_11e9_a37c_d4619d166172row4_col0 {\n",
       "            background-color:  #008066;\n",
       "        }    #T_7eee06a0_b442_11e9_a37c_d4619d166172row4_col1 {\n",
       "            background-color:  #008066;\n",
       "        }    #T_7eee06a0_b442_11e9_a37c_d4619d166172row4_col2 {\n",
       "            background-color:  #008066;\n",
       "        }    #T_7eee06a0_b442_11e9_a37c_d4619d166172row4_col3 {\n",
       "            background-color:  #008066;\n",
       "        }</style>  \n",
       "<table id=\"T_7eee06a0_b442_11e9_a37c_d4619d166172\" > \n",
       "<thead>    <tr> \n",
       "        <th class=\"blank\" ></th> \n",
       "        <th class=\"index_name level0\" >Pclass</th> \n",
       "        <th class=\"col_heading level0 col0\" >1</th> \n",
       "        <th class=\"col_heading level0 col1\" >2</th> \n",
       "        <th class=\"col_heading level0 col2\" >3</th> \n",
       "        <th class=\"col_heading level0 col3\" >All</th> \n",
       "    </tr>    <tr> \n",
       "        <th class=\"index_name level0\" >Sex</th> \n",
       "        <th class=\"index_name level1\" >Survived</th> \n",
       "        <th class=\"blank\" ></th> \n",
       "        <th class=\"blank\" ></th> \n",
       "        <th class=\"blank\" ></th> \n",
       "        <th class=\"blank\" ></th> \n",
       "    </tr></thead> \n",
       "<tbody>    <tr> \n",
       "        <th id=\"T_7eee06a0_b442_11e9_a37c_d4619d166172level0_row0\" class=\"row_heading level0 row0\" rowspan=2>female</th> \n",
       "        <th id=\"T_7eee06a0_b442_11e9_a37c_d4619d166172level1_row0\" class=\"row_heading level1 row0\" >0</th> \n",
       "        <td id=\"T_7eee06a0_b442_11e9_a37c_d4619d166172row0_col0\" class=\"data row0 col0\" >3</td> \n",
       "        <td id=\"T_7eee06a0_b442_11e9_a37c_d4619d166172row0_col1\" class=\"data row0 col1\" >6</td> \n",
       "        <td id=\"T_7eee06a0_b442_11e9_a37c_d4619d166172row0_col2\" class=\"data row0 col2\" >72</td> \n",
       "        <td id=\"T_7eee06a0_b442_11e9_a37c_d4619d166172row0_col3\" class=\"data row0 col3\" >81</td> \n",
       "    </tr>    <tr> \n",
       "        <th id=\"T_7eee06a0_b442_11e9_a37c_d4619d166172level1_row1\" class=\"row_heading level1 row1\" >1</th> \n",
       "        <td id=\"T_7eee06a0_b442_11e9_a37c_d4619d166172row1_col0\" class=\"data row1 col0\" >91</td> \n",
       "        <td id=\"T_7eee06a0_b442_11e9_a37c_d4619d166172row1_col1\" class=\"data row1 col1\" >70</td> \n",
       "        <td id=\"T_7eee06a0_b442_11e9_a37c_d4619d166172row1_col2\" class=\"data row1 col2\" >72</td> \n",
       "        <td id=\"T_7eee06a0_b442_11e9_a37c_d4619d166172row1_col3\" class=\"data row1 col3\" >233</td> \n",
       "    </tr>    <tr> \n",
       "        <th id=\"T_7eee06a0_b442_11e9_a37c_d4619d166172level0_row2\" class=\"row_heading level0 row2\" rowspan=2>male</th> \n",
       "        <th id=\"T_7eee06a0_b442_11e9_a37c_d4619d166172level1_row2\" class=\"row_heading level1 row2\" >0</th> \n",
       "        <td id=\"T_7eee06a0_b442_11e9_a37c_d4619d166172row2_col0\" class=\"data row2 col0\" >77</td> \n",
       "        <td id=\"T_7eee06a0_b442_11e9_a37c_d4619d166172row2_col1\" class=\"data row2 col1\" >91</td> \n",
       "        <td id=\"T_7eee06a0_b442_11e9_a37c_d4619d166172row2_col2\" class=\"data row2 col2\" >300</td> \n",
       "        <td id=\"T_7eee06a0_b442_11e9_a37c_d4619d166172row2_col3\" class=\"data row2 col3\" >468</td> \n",
       "    </tr>    <tr> \n",
       "        <th id=\"T_7eee06a0_b442_11e9_a37c_d4619d166172level1_row3\" class=\"row_heading level1 row3\" >1</th> \n",
       "        <td id=\"T_7eee06a0_b442_11e9_a37c_d4619d166172row3_col0\" class=\"data row3 col0\" >45</td> \n",
       "        <td id=\"T_7eee06a0_b442_11e9_a37c_d4619d166172row3_col1\" class=\"data row3 col1\" >17</td> \n",
       "        <td id=\"T_7eee06a0_b442_11e9_a37c_d4619d166172row3_col2\" class=\"data row3 col2\" >47</td> \n",
       "        <td id=\"T_7eee06a0_b442_11e9_a37c_d4619d166172row3_col3\" class=\"data row3 col3\" >109</td> \n",
       "    </tr>    <tr> \n",
       "        <th id=\"T_7eee06a0_b442_11e9_a37c_d4619d166172level0_row4\" class=\"row_heading level0 row4\" >All</th> \n",
       "        <th id=\"T_7eee06a0_b442_11e9_a37c_d4619d166172level1_row4\" class=\"row_heading level1 row4\" ></th> \n",
       "        <td id=\"T_7eee06a0_b442_11e9_a37c_d4619d166172row4_col0\" class=\"data row4 col0\" >216</td> \n",
       "        <td id=\"T_7eee06a0_b442_11e9_a37c_d4619d166172row4_col1\" class=\"data row4 col1\" >184</td> \n",
       "        <td id=\"T_7eee06a0_b442_11e9_a37c_d4619d166172row4_col2\" class=\"data row4 col2\" >491</td> \n",
       "        <td id=\"T_7eee06a0_b442_11e9_a37c_d4619d166172row4_col3\" class=\"data row4 col3\" >891</td> \n",
       "    </tr></tbody> \n",
       "</table> "
      ],
      "text/plain": [
       "<pandas.io.formats.style.Styler at 0x1a24be19b0>"
      ]
     },
     "execution_count": 13,
     "metadata": {},
     "output_type": "execute_result"
    }
   ],
   "source": [
    "pd.crosstab([data.Sex, data.Survived], data.Pclass, margins=True).style.background_gradient(cmap='summer_r')"
   ]
  },
  {
   "cell_type": "code",
   "execution_count": 14,
   "metadata": {},
   "outputs": [
    {
     "data": {
      "image/png": "[encoded data removed]",
      "text/plain": [
       "<Figure size 430.5x360 with 1 Axes>"
      ]
     },
     "metadata": {
      "needs_background": "light"
     },
     "output_type": "display_data"
    }
   ],
   "source": [
    "sns.factorplot('Pclass','Survived',hue='Sex',data=data)\n",
    "plt.show()"
   ]
  },
  {
   "cell_type": "markdown",
   "metadata": {},
   "source": [
    "We use __FactorPlot__ in this case, because they make the seperation of categorical values easy.\n",
    "\n",
    "Looking at the __CrossTab__ and the __FactorPlot__, we can easily infer infer that survival for __Women from Pclass1__ is about __95~96%__, as only 3 out of 94 Women from Pclass1 died.\n",
    "\n",
    "It is evident that irrespective of Pclass, Women were given first priority while rescue. Even Men from Pclass1 have a very low survival rate.\n",
    "\n",
    "Looks like Pclass is also an important feature. Let's analyse other features."
   ]
  },
  {
   "cell_type": "markdown",
   "metadata": {},
   "source": [
    "### Age --> Continous Feature"
   ]
  },
  {
   "cell_type": "code",
   "execution_count": 15,
   "metadata": {},
   "outputs": [
    {
     "name": "stdout",
     "output_type": "stream",
     "text": [
      "Oldest Passenger was of: 80.0 Years\n",
      "Youngest Passenger was of: 0.42 Years\n",
      "Average Age on the ship: 29.69911764705882 Years\n"
     ]
    }
   ],
   "source": [
    "print('Oldest Passenger was of:', data['Age'].max(),'Years')\n",
    "print('Youngest Passenger was of:', data['Age'].min(), 'Years')\n",
    "print('Average Age on the ship:', data['Age'].mean(), 'Years')"
   ]
  },
  {
   "cell_type": "code",
   "execution_count": 17,
   "metadata": {},
   "outputs": [
    {
     "data": {
      "image/png": "[encoded data removed]",
      "text/plain": [
       "<Figure size 1296x576 with 2 Axes>"
      ]
     },
     "metadata": {
      "needs_background": "light"
     },
     "output_type": "display_data"
    }
   ],
   "source": [
    "f,ax=plt.subplots(1,2,figsize=(18,8))\n",
    "sns.violinplot(\"Pclass\",\"Age\", hue=\"Survived\", data=data,split=True,ax=ax[0])\n",
    "ax[0].set_title('Pclass and Age vs Survived')\n",
    "ax[0].set_yticks(range(0,110,10))\n",
    "sns.violinplot(\"Sex\",\"Age\", hue=\"Survived\", data=data,split=True,ax=ax[1])\n",
    "ax[1].set_title('Sex and Age vs Survived')\n",
    "ax[1].set_yticks(range(0,110,10))\n",
    "plt.show()"
   ]
  },
  {
   "cell_type": "markdown",
   "metadata": {},
   "source": [
    "#### Observations:\n",
    "1)The number of children increases with Pclass and the survival rate for passenegers below Age 10(i.e children) looks to be good irrespective of the Pclass.\n",
    "\n",
    "2)Survival chances for Passenegers aged 20-50 from Pclass1 is high and is even better for Women.\n",
    "\n",
    "3)For males, the survival chances decreases with an increase in age."
   ]
  },
  {
   "cell_type": "markdown",
   "metadata": {},
   "source": [
    "As we had seen earlier, the Age feature has 177 null values. To replace these NaN values, we can assign them the mean age of the dataset.\n",
    "\n",
    "But the problem is, there were many people with many different ages. We just cant assign a 4 year kid with the mean age that is 29 years. Is there any way to find out what age-band does the passenger lie??\n",
    "\n",
    "Bingo!!!!, we can check the Name feature. Looking upon the feature, we can see that the names have a salutation like Mr or Mrs. Thus we can assign the mean values of Mr and Mrs to the respective groups."
   ]
  },
  {
   "cell_type": "markdown",
   "metadata": {},
   "source": [
    "__\"What's In A Name?? ---> Feature__"
   ]
  },
  {
   "cell_type": "code",
   "execution_count": 18,
   "metadata": {},
   "outputs": [],
   "source": [
    "data['Initial']=0\n",
    "for i in data:\n",
    "    data['Initial']=data.Name.str.extract('([A-Za-z]+)\\.')"
   ]
  },
  {
   "cell_type": "markdown",
   "metadata": {},
   "source": [
    "Okay so here we are using the Regex: __[A-Za-z]+)..__ So what is does is, it looks for strings which lie between __A-Z or a-z__ and followed by a .(dot). So we succesfully extract the Initials from the Name."
   ]
  },
  {
   "cell_type": "code",
   "execution_count": 20,
   "metadata": {},
   "outputs": [
    {
     "data": {
      "text/html": [
       "<style  type=\"text/css\" >\n",
       "    #T_0bd1f7d0_b5e6_11e9_a37c_d4619d166172row0_col0 {\n",
       "            background-color:  #ffff66;\n",
       "        }    #T_0bd1f7d0_b5e6_11e9_a37c_d4619d166172row0_col1 {\n",
       "            background-color:  #ffff66;\n",
       "        }    #T_0bd1f7d0_b5e6_11e9_a37c_d4619d166172row0_col2 {\n",
       "            background-color:  #008066;\n",
       "        }    #T_0bd1f7d0_b5e6_11e9_a37c_d4619d166172row0_col3 {\n",
       "            background-color:  #ffff66;\n",
       "        }    #T_0bd1f7d0_b5e6_11e9_a37c_d4619d166172row0_col4 {\n",
       "            background-color:  #ffff66;\n",
       "        }    #T_0bd1f7d0_b5e6_11e9_a37c_d4619d166172row0_col5 {\n",
       "            background-color:  #ffff66;\n",
       "        }    #T_0bd1f7d0_b5e6_11e9_a37c_d4619d166172row0_col6 {\n",
       "            background-color:  #008066;\n",
       "        }    #T_0bd1f7d0_b5e6_11e9_a37c_d4619d166172row0_col7 {\n",
       "            background-color:  #ffff66;\n",
       "        }    #T_0bd1f7d0_b5e6_11e9_a37c_d4619d166172row0_col8 {\n",
       "            background-color:  #ffff66;\n",
       "        }    #T_0bd1f7d0_b5e6_11e9_a37c_d4619d166172row0_col9 {\n",
       "            background-color:  #008066;\n",
       "        }    #T_0bd1f7d0_b5e6_11e9_a37c_d4619d166172row0_col10 {\n",
       "            background-color:  #008066;\n",
       "        }    #T_0bd1f7d0_b5e6_11e9_a37c_d4619d166172row0_col11 {\n",
       "            background-color:  #008066;\n",
       "        }    #T_0bd1f7d0_b5e6_11e9_a37c_d4619d166172row0_col12 {\n",
       "            background-color:  #ffff66;\n",
       "        }    #T_0bd1f7d0_b5e6_11e9_a37c_d4619d166172row0_col13 {\n",
       "            background-color:  #008066;\n",
       "        }    #T_0bd1f7d0_b5e6_11e9_a37c_d4619d166172row0_col14 {\n",
       "            background-color:  #008066;\n",
       "        }    #T_0bd1f7d0_b5e6_11e9_a37c_d4619d166172row0_col15 {\n",
       "            background-color:  #ffff66;\n",
       "        }    #T_0bd1f7d0_b5e6_11e9_a37c_d4619d166172row0_col16 {\n",
       "            background-color:  #ffff66;\n",
       "        }    #T_0bd1f7d0_b5e6_11e9_a37c_d4619d166172row1_col0 {\n",
       "            background-color:  #008066;\n",
       "        }    #T_0bd1f7d0_b5e6_11e9_a37c_d4619d166172row1_col1 {\n",
       "            background-color:  #008066;\n",
       "        }    #T_0bd1f7d0_b5e6_11e9_a37c_d4619d166172row1_col2 {\n",
       "            background-color:  #ffff66;\n",
       "        }    #T_0bd1f7d0_b5e6_11e9_a37c_d4619d166172row1_col3 {\n",
       "            background-color:  #008066;\n",
       "        }    #T_0bd1f7d0_b5e6_11e9_a37c_d4619d166172row1_col4 {\n",
       "            background-color:  #008066;\n",
       "        }    #T_0bd1f7d0_b5e6_11e9_a37c_d4619d166172row1_col5 {\n",
       "            background-color:  #008066;\n",
       "        }    #T_0bd1f7d0_b5e6_11e9_a37c_d4619d166172row1_col6 {\n",
       "            background-color:  #ffff66;\n",
       "        }    #T_0bd1f7d0_b5e6_11e9_a37c_d4619d166172row1_col7 {\n",
       "            background-color:  #008066;\n",
       "        }    #T_0bd1f7d0_b5e6_11e9_a37c_d4619d166172row1_col8 {\n",
       "            background-color:  #008066;\n",
       "        }    #T_0bd1f7d0_b5e6_11e9_a37c_d4619d166172row1_col9 {\n",
       "            background-color:  #ffff66;\n",
       "        }    #T_0bd1f7d0_b5e6_11e9_a37c_d4619d166172row1_col10 {\n",
       "            background-color:  #ffff66;\n",
       "        }    #T_0bd1f7d0_b5e6_11e9_a37c_d4619d166172row1_col11 {\n",
       "            background-color:  #ffff66;\n",
       "        }    #T_0bd1f7d0_b5e6_11e9_a37c_d4619d166172row1_col12 {\n",
       "            background-color:  #008066;\n",
       "        }    #T_0bd1f7d0_b5e6_11e9_a37c_d4619d166172row1_col13 {\n",
       "            background-color:  #ffff66;\n",
       "        }    #T_0bd1f7d0_b5e6_11e9_a37c_d4619d166172row1_col14 {\n",
       "            background-color:  #ffff66;\n",
       "        }    #T_0bd1f7d0_b5e6_11e9_a37c_d4619d166172row1_col15 {\n",
       "            background-color:  #008066;\n",
       "        }    #T_0bd1f7d0_b5e6_11e9_a37c_d4619d166172row1_col16 {\n",
       "            background-color:  #008066;\n",
       "        }</style>  \n",
       "<table id=\"T_0bd1f7d0_b5e6_11e9_a37c_d4619d166172\" > \n",
       "<thead>    <tr> \n",
       "        <th class=\"index_name level0\" >Initial</th> \n",
       "        <th class=\"col_heading level0 col0\" >Capt</th> \n",
       "        <th class=\"col_heading level0 col1\" >Col</th> \n",
       "        <th class=\"col_heading level0 col2\" >Countess</th> \n",
       "        <th class=\"col_heading level0 col3\" >Don</th> \n",
       "        <th class=\"col_heading level0 col4\" >Dr</th> \n",
       "        <th class=\"col_heading level0 col5\" >Jonkheer</th> \n",
       "        <th class=\"col_heading level0 col6\" >Lady</th> \n",
       "        <th class=\"col_heading level0 col7\" >Major</th> \n",
       "        <th class=\"col_heading level0 col8\" >Master</th> \n",
       "        <th class=\"col_heading level0 col9\" >Miss</th> \n",
       "        <th class=\"col_heading level0 col10\" >Mlle</th> \n",
       "        <th class=\"col_heading level0 col11\" >Mme</th> \n",
       "        <th class=\"col_heading level0 col12\" >Mr</th> \n",
       "        <th class=\"col_heading level0 col13\" >Mrs</th> \n",
       "        <th class=\"col_heading level0 col14\" >Ms</th> \n",
       "        <th class=\"col_heading level0 col15\" >Rev</th> \n",
       "        <th class=\"col_heading level0 col16\" >Sir</th> \n",
       "    </tr>    <tr> \n",
       "        <th class=\"index_name level0\" >Sex</th> \n",
       "        <th class=\"blank\" ></th> \n",
       "        <th class=\"blank\" ></th> \n",
       "        <th class=\"blank\" ></th> \n",
       "        <th class=\"blank\" ></th> \n",
       "        <th class=\"blank\" ></th> \n",
       "        <th class=\"blank\" ></th> \n",
       "        <th class=\"blank\" ></th> \n",
       "        <th class=\"blank\" ></th> \n",
       "        <th class=\"blank\" ></th> \n",
       "        <th class=\"blank\" ></th> \n",
       "        <th class=\"blank\" ></th> \n",
       "        <th class=\"blank\" ></th> \n",
       "        <th class=\"blank\" ></th> \n",
       "        <th class=\"blank\" ></th> \n",
       "        <th class=\"blank\" ></th> \n",
       "        <th class=\"blank\" ></th> \n",
       "        <th class=\"blank\" ></th> \n",
       "    </tr></thead> \n",
       "<tbody>    <tr> \n",
       "        <th id=\"T_0bd1f7d0_b5e6_11e9_a37c_d4619d166172level0_row0\" class=\"row_heading level0 row0\" >female</th> \n",
       "        <td id=\"T_0bd1f7d0_b5e6_11e9_a37c_d4619d166172row0_col0\" class=\"data row0 col0\" >0</td> \n",
       "        <td id=\"T_0bd1f7d0_b5e6_11e9_a37c_d4619d166172row0_col1\" class=\"data row0 col1\" >0</td> \n",
       "        <td id=\"T_0bd1f7d0_b5e6_11e9_a37c_d4619d166172row0_col2\" class=\"data row0 col2\" >1</td> \n",
       "        <td id=\"T_0bd1f7d0_b5e6_11e9_a37c_d4619d166172row0_col3\" class=\"data row0 col3\" >0</td> \n",
       "        <td id=\"T_0bd1f7d0_b5e6_11e9_a37c_d4619d166172row0_col4\" class=\"data row0 col4\" >1</td> \n",
       "        <td id=\"T_0bd1f7d0_b5e6_11e9_a37c_d4619d166172row0_col5\" class=\"data row0 col5\" >0</td> \n",
       "        <td id=\"T_0bd1f7d0_b5e6_11e9_a37c_d4619d166172row0_col6\" class=\"data row0 col6\" >1</td> \n",
       "        <td id=\"T_0bd1f7d0_b5e6_11e9_a37c_d4619d166172row0_col7\" class=\"data row0 col7\" >0</td> \n",
       "        <td id=\"T_0bd1f7d0_b5e6_11e9_a37c_d4619d166172row0_col8\" class=\"data row0 col8\" >0</td> \n",
       "        <td id=\"T_0bd1f7d0_b5e6_11e9_a37c_d4619d166172row0_col9\" class=\"data row0 col9\" >182</td> \n",
       "        <td id=\"T_0bd1f7d0_b5e6_11e9_a37c_d4619d166172row0_col10\" class=\"data row0 col10\" >2</td> \n",
       "        <td id=\"T_0bd1f7d0_b5e6_11e9_a37c_d4619d166172row0_col11\" class=\"data row0 col11\" >1</td> \n",
       "        <td id=\"T_0bd1f7d0_b5e6_11e9_a37c_d4619d166172row0_col12\" class=\"data row0 col12\" >0</td> \n",
       "        <td id=\"T_0bd1f7d0_b5e6_11e9_a37c_d4619d166172row0_col13\" class=\"data row0 col13\" >125</td> \n",
       "        <td id=\"T_0bd1f7d0_b5e6_11e9_a37c_d4619d166172row0_col14\" class=\"data row0 col14\" >1</td> \n",
       "        <td id=\"T_0bd1f7d0_b5e6_11e9_a37c_d4619d166172row0_col15\" class=\"data row0 col15\" >0</td> \n",
       "        <td id=\"T_0bd1f7d0_b5e6_11e9_a37c_d4619d166172row0_col16\" class=\"data row0 col16\" >0</td> \n",
       "    </tr>    <tr> \n",
       "        <th id=\"T_0bd1f7d0_b5e6_11e9_a37c_d4619d166172level0_row1\" class=\"row_heading level0 row1\" >male</th> \n",
       "        <td id=\"T_0bd1f7d0_b5e6_11e9_a37c_d4619d166172row1_col0\" class=\"data row1 col0\" >1</td> \n",
       "        <td id=\"T_0bd1f7d0_b5e6_11e9_a37c_d4619d166172row1_col1\" class=\"data row1 col1\" >2</td> \n",
       "        <td id=\"T_0bd1f7d0_b5e6_11e9_a37c_d4619d166172row1_col2\" class=\"data row1 col2\" >0</td> \n",
       "        <td id=\"T_0bd1f7d0_b5e6_11e9_a37c_d4619d166172row1_col3\" class=\"data row1 col3\" >1</td> \n",
       "        <td id=\"T_0bd1f7d0_b5e6_11e9_a37c_d4619d166172row1_col4\" class=\"data row1 col4\" >6</td> \n",
       "        <td id=\"T_0bd1f7d0_b5e6_11e9_a37c_d4619d166172row1_col5\" class=\"data row1 col5\" >1</td> \n",
       "        <td id=\"T_0bd1f7d0_b5e6_11e9_a37c_d4619d166172row1_col6\" class=\"data row1 col6\" >0</td> \n",
       "        <td id=\"T_0bd1f7d0_b5e6_11e9_a37c_d4619d166172row1_col7\" class=\"data row1 col7\" >2</td> \n",
       "        <td id=\"T_0bd1f7d0_b5e6_11e9_a37c_d4619d166172row1_col8\" class=\"data row1 col8\" >40</td> \n",
       "        <td id=\"T_0bd1f7d0_b5e6_11e9_a37c_d4619d166172row1_col9\" class=\"data row1 col9\" >0</td> \n",
       "        <td id=\"T_0bd1f7d0_b5e6_11e9_a37c_d4619d166172row1_col10\" class=\"data row1 col10\" >0</td> \n",
       "        <td id=\"T_0bd1f7d0_b5e6_11e9_a37c_d4619d166172row1_col11\" class=\"data row1 col11\" >0</td> \n",
       "        <td id=\"T_0bd1f7d0_b5e6_11e9_a37c_d4619d166172row1_col12\" class=\"data row1 col12\" >517</td> \n",
       "        <td id=\"T_0bd1f7d0_b5e6_11e9_a37c_d4619d166172row1_col13\" class=\"data row1 col13\" >0</td> \n",
       "        <td id=\"T_0bd1f7d0_b5e6_11e9_a37c_d4619d166172row1_col14\" class=\"data row1 col14\" >0</td> \n",
       "        <td id=\"T_0bd1f7d0_b5e6_11e9_a37c_d4619d166172row1_col15\" class=\"data row1 col15\" >6</td> \n",
       "        <td id=\"T_0bd1f7d0_b5e6_11e9_a37c_d4619d166172row1_col16\" class=\"data row1 col16\" >1</td> \n",
       "    </tr></tbody> \n",
       "</table> "
      ],
      "text/plain": [
       "<pandas.io.formats.style.Styler at 0x1a261afc50>"
      ]
     },
     "execution_count": 20,
     "metadata": {},
     "output_type": "execute_result"
    }
   ],
   "source": [
    "pd.crosstab(data.Initial, data.Sex).T.style.background_gradient(cmap='summer_r')"
   ]
  },
  {
   "cell_type": "markdown",
   "metadata": {},
   "source": [
    "Okay so there are some misspelled Initials like Mlle or Mme that stand for Miss. I will replace them with Miss and same thing for other values."
   ]
  },
  {
   "cell_type": "code",
   "execution_count": 25,
   "metadata": {},
   "outputs": [],
   "source": [
    "data['Initial'].replace(['Mlle','Mme','Ms','Dr','Major','Lady','Countess','Jonkheer','Col','Rev','Capt','Sir','Don'],['Miss','Miss','Miss','Mr','Mr','Mrs','Mrs','Other','Other','Other','Mr','Mr','Mr'],inplace=True)"
   ]
  },
  {
   "cell_type": "code",
   "execution_count": 26,
   "metadata": {},
   "outputs": [
    {
     "data": {
      "text/plain": [
       "Initial\n",
       "Master     4.574167\n",
       "Miss      21.860000\n",
       "Mr        32.739609\n",
       "Mrs       35.981818\n",
       "Other     45.888889\n",
       "Name: Age, dtype: float64"
      ]
     },
     "execution_count": 26,
     "metadata": {},
     "output_type": "execute_result"
    }
   ],
   "source": [
    "data.groupby('Initial')['Age'].mean()"
   ]
  },
  {
   "cell_type": "markdown",
   "metadata": {},
   "source": [
    "Filling NaN Ages"
   ]
  },
  {
   "cell_type": "code",
   "execution_count": 27,
   "metadata": {},
   "outputs": [],
   "source": [
    "data.loc[(data.Age.isnull())&(data.Initial=='Mr'),'Age']=33\n",
    "data.loc[(data.Age.isnull())&(data.Initial=='Mrs'),'Age']=36\n",
    "data.loc[(data.Age.isnull())&(data.Initial=='Master'),'Age']=5\n",
    "data.loc[(data.Age.isnull())&(data.Initial=='Miss'),'Age']=22\n",
    "data.loc[(data.Age.isnull())&(data.Initial=='Other'),'Age']=46"
   ]
  },
  {
   "cell_type": "code",
   "execution_count": 28,
   "metadata": {},
   "outputs": [
    {
     "data": {
      "text/plain": [
       "False"
      ]
     },
     "execution_count": 28,
     "metadata": {},
     "output_type": "execute_result"
    }
   ],
   "source": [
    "data.Age.isnull().any()"
   ]
  },
  {
   "cell_type": "code",
   "execution_count": 29,
   "metadata": {},
   "outputs": [
    {
     "data": {
      "image/png": "[encoded data removed]",
      "text/plain": [
       "<Figure size 1440x720 with 2 Axes>"
      ]
     },
     "metadata": {
      "needs_background": "light"
     },
     "output_type": "display_data"
    }
   ],
   "source": [
    "f,ax=plt.subplots(1,2,figsize=(20,10))\n",
    "data[data['Survived']==0].Age.plot.hist(ax=ax[0],bins=20,edgecolor='black',color='red')\n",
    "ax[0].set_title('Survived= 0')\n",
    "x1=list(range(0,85,5))\n",
    "ax[0].set_xticks(x1)\n",
    "data[data['Survived']==1].Age.plot.hist(ax=ax[1],color='green',bins=20,edgecolor='black')\n",
    "ax[1].set_title('Survived= 1')\n",
    "x2=list(range(0,85,5))\n",
    "ax[1].set_xticks(x2)\n",
    "plt.show()"
   ]
  },
  {
   "cell_type": "markdown",
   "metadata": {},
   "source": [
    "Observations:\n",
    "\n",
    "1)The Toddlers(age<5) were saved in large numbers(The Women and Child First Policy).\n",
    "\n",
    "2)The oldest Passenger was saved(80 years).\n",
    "\n",
    "3)Maximum number of deaths were in the age group of 30-40."
   ]
  },
  {
   "cell_type": "code",
   "execution_count": 30,
   "metadata": {},
   "outputs": [
    {
     "data": {
      "image/png": "[encoded data removed]",
      "text/plain": [
       "<Figure size 1800x360 with 5 Axes>"
      ]
     },
     "metadata": {
      "needs_background": "light"
     },
     "output_type": "display_data"
    }
   ],
   "source": [
    "sns.factorplot('Pclass','Survived',col='Initial',data=data)\n",
    "plt.show()"
   ]
  },
  {
   "cell_type": "markdown",
   "metadata": {},
   "source": [
    "The women and child first policy thus holds true irrespective of the class."
   ]
  },
  {
   "cell_type": "markdown",
   "metadata": {},
   "source": [
    "### Embarked --> Categorical Value"
   ]
  },
  {
   "cell_type": "code",
   "execution_count": 31,
   "metadata": {},
   "outputs": [
    {
     "data": {
      "text/html": [
       "<style  type=\"text/css\" >\n",
       "    #T_adb36822_b5e6_11e9_a37c_d4619d166172row0_col0 {\n",
       "            background-color:  #fcfe66;\n",
       "        }    #T_adb36822_b5e6_11e9_a37c_d4619d166172row0_col1 {\n",
       "            background-color:  #d2e866;\n",
       "        }    #T_adb36822_b5e6_11e9_a37c_d4619d166172row0_col2 {\n",
       "            background-color:  #f2f866;\n",
       "        }    #T_adb36822_b5e6_11e9_a37c_d4619d166172row0_col3 {\n",
       "            background-color:  #d8ec66;\n",
       "        }    #T_adb36822_b5e6_11e9_a37c_d4619d166172row0_col4 {\n",
       "            background-color:  #e8f466;\n",
       "        }    #T_adb36822_b5e6_11e9_a37c_d4619d166172row1_col0 {\n",
       "            background-color:  #ffff66;\n",
       "        }    #T_adb36822_b5e6_11e9_a37c_d4619d166172row1_col1 {\n",
       "            background-color:  #f9fc66;\n",
       "        }    #T_adb36822_b5e6_11e9_a37c_d4619d166172row1_col2 {\n",
       "            background-color:  #fcfe66;\n",
       "        }    #T_adb36822_b5e6_11e9_a37c_d4619d166172row1_col3 {\n",
       "            background-color:  #fbfd66;\n",
       "        }    #T_adb36822_b5e6_11e9_a37c_d4619d166172row1_col4 {\n",
       "            background-color:  #fbfd66;\n",
       "        }    #T_adb36822_b5e6_11e9_a37c_d4619d166172row2_col0 {\n",
       "            background-color:  #e6f266;\n",
       "        }    #T_adb36822_b5e6_11e9_a37c_d4619d166172row2_col1 {\n",
       "            background-color:  #f0f866;\n",
       "        }    #T_adb36822_b5e6_11e9_a37c_d4619d166172row2_col2 {\n",
       "            background-color:  #eef666;\n",
       "        }    #T_adb36822_b5e6_11e9_a37c_d4619d166172row2_col3 {\n",
       "            background-color:  #e8f466;\n",
       "        }    #T_adb36822_b5e6_11e9_a37c_d4619d166172row2_col4 {\n",
       "            background-color:  #edf666;\n",
       "        }    #T_adb36822_b5e6_11e9_a37c_d4619d166172row3_col0 {\n",
       "            background-color:  #ffff66;\n",
       "        }    #T_adb36822_b5e6_11e9_a37c_d4619d166172row3_col1 {\n",
       "            background-color:  #ffff66;\n",
       "        }    #T_adb36822_b5e6_11e9_a37c_d4619d166172row3_col2 {\n",
       "            background-color:  #ffff66;\n",
       "        }    #T_adb36822_b5e6_11e9_a37c_d4619d166172row3_col3 {\n",
       "            background-color:  #ffff66;\n",
       "        }    #T_adb36822_b5e6_11e9_a37c_d4619d166172row3_col4 {\n",
       "            background-color:  #ffff66;\n",
       "        }    #T_adb36822_b5e6_11e9_a37c_d4619d166172row4_col0 {\n",
       "            background-color:  #ffff66;\n",
       "        }    #T_adb36822_b5e6_11e9_a37c_d4619d166172row4_col1 {\n",
       "            background-color:  #fefe66;\n",
       "        }    #T_adb36822_b5e6_11e9_a37c_d4619d166172row4_col2 {\n",
       "            background-color:  #ffff66;\n",
       "        }    #T_adb36822_b5e6_11e9_a37c_d4619d166172row4_col3 {\n",
       "            background-color:  #ffff66;\n",
       "        }    #T_adb36822_b5e6_11e9_a37c_d4619d166172row4_col4 {\n",
       "            background-color:  #ffff66;\n",
       "        }    #T_adb36822_b5e6_11e9_a37c_d4619d166172row5_col0 {\n",
       "            background-color:  #e3f166;\n",
       "        }    #T_adb36822_b5e6_11e9_a37c_d4619d166172row5_col1 {\n",
       "            background-color:  #e6f266;\n",
       "        }    #T_adb36822_b5e6_11e9_a37c_d4619d166172row5_col2 {\n",
       "            background-color:  #ecf666;\n",
       "        }    #T_adb36822_b5e6_11e9_a37c_d4619d166172row5_col3 {\n",
       "            background-color:  #f8fc66;\n",
       "        }    #T_adb36822_b5e6_11e9_a37c_d4619d166172row5_col4 {\n",
       "            background-color:  #ebf566;\n",
       "        }    #T_adb36822_b5e6_11e9_a37c_d4619d166172row6_col0 {\n",
       "            background-color:  #f9fc66;\n",
       "        }    #T_adb36822_b5e6_11e9_a37c_d4619d166172row6_col1 {\n",
       "            background-color:  #cde666;\n",
       "        }    #T_adb36822_b5e6_11e9_a37c_d4619d166172row6_col2 {\n",
       "            background-color:  #e4f266;\n",
       "        }    #T_adb36822_b5e6_11e9_a37c_d4619d166172row6_col3 {\n",
       "            background-color:  #bede66;\n",
       "        }    #T_adb36822_b5e6_11e9_a37c_d4619d166172row6_col4 {\n",
       "            background-color:  #dbed66;\n",
       "        }    #T_adb36822_b5e6_11e9_a37c_d4619d166172row7_col0 {\n",
       "            background-color:  #edf666;\n",
       "        }    #T_adb36822_b5e6_11e9_a37c_d4619d166172row7_col1 {\n",
       "            background-color:  #bdde66;\n",
       "        }    #T_adb36822_b5e6_11e9_a37c_d4619d166172row7_col2 {\n",
       "            background-color:  #d3e966;\n",
       "        }    #T_adb36822_b5e6_11e9_a37c_d4619d166172row7_col3 {\n",
       "            background-color:  #dcee66;\n",
       "        }    #T_adb36822_b5e6_11e9_a37c_d4619d166172row7_col4 {\n",
       "            background-color:  #d1e866;\n",
       "        }    #T_adb36822_b5e6_11e9_a37c_d4619d166172row8_col0 {\n",
       "            background-color:  #52a866;\n",
       "        }    #T_adb36822_b5e6_11e9_a37c_d4619d166172row8_col1 {\n",
       "            background-color:  #dcee66;\n",
       "        }    #T_adb36822_b5e6_11e9_a37c_d4619d166172row8_col2 {\n",
       "            background-color:  #81c066;\n",
       "        }    #T_adb36822_b5e6_11e9_a37c_d4619d166172row8_col3 {\n",
       "            background-color:  #b0d866;\n",
       "        }    #T_adb36822_b5e6_11e9_a37c_d4619d166172row8_col4 {\n",
       "            background-color:  #9acc66;\n",
       "        }    #T_adb36822_b5e6_11e9_a37c_d4619d166172row9_col0 {\n",
       "            background-color:  #008066;\n",
       "        }    #T_adb36822_b5e6_11e9_a37c_d4619d166172row9_col1 {\n",
       "            background-color:  #008066;\n",
       "        }    #T_adb36822_b5e6_11e9_a37c_d4619d166172row9_col2 {\n",
       "            background-color:  #008066;\n",
       "        }    #T_adb36822_b5e6_11e9_a37c_d4619d166172row9_col3 {\n",
       "            background-color:  #008066;\n",
       "        }    #T_adb36822_b5e6_11e9_a37c_d4619d166172row9_col4 {\n",
       "            background-color:  #008066;\n",
       "        }</style>  \n",
       "<table id=\"T_adb36822_b5e6_11e9_a37c_d4619d166172\" > \n",
       "<thead>    <tr> \n",
       "        <th class=\"blank\" ></th> \n",
       "        <th class=\"index_name level0\" >Sex</th> \n",
       "        <th class=\"col_heading level0 col0\" colspan=2>female</th> \n",
       "        <th class=\"col_heading level0 col2\" colspan=2>male</th> \n",
       "        <th class=\"col_heading level0 col4\" >All</th> \n",
       "    </tr>    <tr> \n",
       "        <th class=\"blank\" ></th> \n",
       "        <th class=\"index_name level1\" >Survived</th> \n",
       "        <th class=\"col_heading level1 col0\" >0</th> \n",
       "        <th class=\"col_heading level1 col1\" >1</th> \n",
       "        <th class=\"col_heading level1 col2\" >0</th> \n",
       "        <th class=\"col_heading level1 col3\" >1</th> \n",
       "        <th class=\"col_heading level1 col4\" ></th> \n",
       "    </tr>    <tr> \n",
       "        <th class=\"index_name level0\" >Embarked</th> \n",
       "        <th class=\"index_name level1\" >Pclass</th> \n",
       "        <th class=\"blank\" ></th> \n",
       "        <th class=\"blank\" ></th> \n",
       "        <th class=\"blank\" ></th> \n",
       "        <th class=\"blank\" ></th> \n",
       "        <th class=\"blank\" ></th> \n",
       "    </tr></thead> \n",
       "<tbody>    <tr> \n",
       "        <th id=\"T_adb36822_b5e6_11e9_a37c_d4619d166172level0_row0\" class=\"row_heading level0 row0\" rowspan=3>C</th> \n",
       "        <th id=\"T_adb36822_b5e6_11e9_a37c_d4619d166172level1_row0\" class=\"row_heading level1 row0\" >1</th> \n",
       "        <td id=\"T_adb36822_b5e6_11e9_a37c_d4619d166172row0_col0\" class=\"data row0 col0\" >1</td> \n",
       "        <td id=\"T_adb36822_b5e6_11e9_a37c_d4619d166172row0_col1\" class=\"data row0 col1\" >42</td> \n",
       "        <td id=\"T_adb36822_b5e6_11e9_a37c_d4619d166172row0_col2\" class=\"data row0 col2\" >25</td> \n",
       "        <td id=\"T_adb36822_b5e6_11e9_a37c_d4619d166172row0_col3\" class=\"data row0 col3\" >17</td> \n",
       "        <td id=\"T_adb36822_b5e6_11e9_a37c_d4619d166172row0_col4\" class=\"data row0 col4\" >85</td> \n",
       "    </tr>    <tr> \n",
       "        <th id=\"T_adb36822_b5e6_11e9_a37c_d4619d166172level1_row1\" class=\"row_heading level1 row1\" >2</th> \n",
       "        <td id=\"T_adb36822_b5e6_11e9_a37c_d4619d166172row1_col0\" class=\"data row1 col0\" >0</td> \n",
       "        <td id=\"T_adb36822_b5e6_11e9_a37c_d4619d166172row1_col1\" class=\"data row1 col1\" >7</td> \n",
       "        <td id=\"T_adb36822_b5e6_11e9_a37c_d4619d166172row1_col2\" class=\"data row1 col2\" >8</td> \n",
       "        <td id=\"T_adb36822_b5e6_11e9_a37c_d4619d166172row1_col3\" class=\"data row1 col3\" >2</td> \n",
       "        <td id=\"T_adb36822_b5e6_11e9_a37c_d4619d166172row1_col4\" class=\"data row1 col4\" >17</td> \n",
       "    </tr>    <tr> \n",
       "        <th id=\"T_adb36822_b5e6_11e9_a37c_d4619d166172level1_row2\" class=\"row_heading level1 row2\" >3</th> \n",
       "        <td id=\"T_adb36822_b5e6_11e9_a37c_d4619d166172row2_col0\" class=\"data row2 col0\" >8</td> \n",
       "        <td id=\"T_adb36822_b5e6_11e9_a37c_d4619d166172row2_col1\" class=\"data row2 col1\" >15</td> \n",
       "        <td id=\"T_adb36822_b5e6_11e9_a37c_d4619d166172row2_col2\" class=\"data row2 col2\" >33</td> \n",
       "        <td id=\"T_adb36822_b5e6_11e9_a37c_d4619d166172row2_col3\" class=\"data row2 col3\" >10</td> \n",
       "        <td id=\"T_adb36822_b5e6_11e9_a37c_d4619d166172row2_col4\" class=\"data row2 col4\" >66</td> \n",
       "    </tr>    <tr> \n",
       "        <th id=\"T_adb36822_b5e6_11e9_a37c_d4619d166172level0_row3\" class=\"row_heading level0 row3\" rowspan=3>Q</th> \n",
       "        <th id=\"T_adb36822_b5e6_11e9_a37c_d4619d166172level1_row3\" class=\"row_heading level1 row3\" >1</th> \n",
       "        <td id=\"T_adb36822_b5e6_11e9_a37c_d4619d166172row3_col0\" class=\"data row3 col0\" >0</td> \n",
       "        <td id=\"T_adb36822_b5e6_11e9_a37c_d4619d166172row3_col1\" class=\"data row3 col1\" >1</td> \n",
       "        <td id=\"T_adb36822_b5e6_11e9_a37c_d4619d166172row3_col2\" class=\"data row3 col2\" >1</td> \n",
       "        <td id=\"T_adb36822_b5e6_11e9_a37c_d4619d166172row3_col3\" class=\"data row3 col3\" >0</td> \n",
       "        <td id=\"T_adb36822_b5e6_11e9_a37c_d4619d166172row3_col4\" class=\"data row3 col4\" >2</td> \n",
       "    </tr>    <tr> \n",
       "        <th id=\"T_adb36822_b5e6_11e9_a37c_d4619d166172level1_row4\" class=\"row_heading level1 row4\" >2</th> \n",
       "        <td id=\"T_adb36822_b5e6_11e9_a37c_d4619d166172row4_col0\" class=\"data row4 col0\" >0</td> \n",
       "        <td id=\"T_adb36822_b5e6_11e9_a37c_d4619d166172row4_col1\" class=\"data row4 col1\" >2</td> \n",
       "        <td id=\"T_adb36822_b5e6_11e9_a37c_d4619d166172row4_col2\" class=\"data row4 col2\" >1</td> \n",
       "        <td id=\"T_adb36822_b5e6_11e9_a37c_d4619d166172row4_col3\" class=\"data row4 col3\" >0</td> \n",
       "        <td id=\"T_adb36822_b5e6_11e9_a37c_d4619d166172row4_col4\" class=\"data row4 col4\" >3</td> \n",
       "    </tr>    <tr> \n",
       "        <th id=\"T_adb36822_b5e6_11e9_a37c_d4619d166172level1_row5\" class=\"row_heading level1 row5\" >3</th> \n",
       "        <td id=\"T_adb36822_b5e6_11e9_a37c_d4619d166172row5_col0\" class=\"data row5 col0\" >9</td> \n",
       "        <td id=\"T_adb36822_b5e6_11e9_a37c_d4619d166172row5_col1\" class=\"data row5 col1\" >24</td> \n",
       "        <td id=\"T_adb36822_b5e6_11e9_a37c_d4619d166172row5_col2\" class=\"data row5 col2\" >36</td> \n",
       "        <td id=\"T_adb36822_b5e6_11e9_a37c_d4619d166172row5_col3\" class=\"data row5 col3\" >3</td> \n",
       "        <td id=\"T_adb36822_b5e6_11e9_a37c_d4619d166172row5_col4\" class=\"data row5 col4\" >72</td> \n",
       "    </tr>    <tr> \n",
       "        <th id=\"T_adb36822_b5e6_11e9_a37c_d4619d166172level0_row6\" class=\"row_heading level0 row6\" rowspan=3>S</th> \n",
       "        <th id=\"T_adb36822_b5e6_11e9_a37c_d4619d166172level1_row6\" class=\"row_heading level1 row6\" >1</th> \n",
       "        <td id=\"T_adb36822_b5e6_11e9_a37c_d4619d166172row6_col0\" class=\"data row6 col0\" >2</td> \n",
       "        <td id=\"T_adb36822_b5e6_11e9_a37c_d4619d166172row6_col1\" class=\"data row6 col1\" >46</td> \n",
       "        <td id=\"T_adb36822_b5e6_11e9_a37c_d4619d166172row6_col2\" class=\"data row6 col2\" >51</td> \n",
       "        <td id=\"T_adb36822_b5e6_11e9_a37c_d4619d166172row6_col3\" class=\"data row6 col3\" >28</td> \n",
       "        <td id=\"T_adb36822_b5e6_11e9_a37c_d4619d166172row6_col4\" class=\"data row6 col4\" >127</td> \n",
       "    </tr>    <tr> \n",
       "        <th id=\"T_adb36822_b5e6_11e9_a37c_d4619d166172level1_row7\" class=\"row_heading level1 row7\" >2</th> \n",
       "        <td id=\"T_adb36822_b5e6_11e9_a37c_d4619d166172row7_col0\" class=\"data row7 col0\" >6</td> \n",
       "        <td id=\"T_adb36822_b5e6_11e9_a37c_d4619d166172row7_col1\" class=\"data row7 col1\" >61</td> \n",
       "        <td id=\"T_adb36822_b5e6_11e9_a37c_d4619d166172row7_col2\" class=\"data row7 col2\" >82</td> \n",
       "        <td id=\"T_adb36822_b5e6_11e9_a37c_d4619d166172row7_col3\" class=\"data row7 col3\" >15</td> \n",
       "        <td id=\"T_adb36822_b5e6_11e9_a37c_d4619d166172row7_col4\" class=\"data row7 col4\" >164</td> \n",
       "    </tr>    <tr> \n",
       "        <th id=\"T_adb36822_b5e6_11e9_a37c_d4619d166172level1_row8\" class=\"row_heading level1 row8\" >3</th> \n",
       "        <td id=\"T_adb36822_b5e6_11e9_a37c_d4619d166172row8_col0\" class=\"data row8 col0\" >55</td> \n",
       "        <td id=\"T_adb36822_b5e6_11e9_a37c_d4619d166172row8_col1\" class=\"data row8 col1\" >33</td> \n",
       "        <td id=\"T_adb36822_b5e6_11e9_a37c_d4619d166172row8_col2\" class=\"data row8 col2\" >231</td> \n",
       "        <td id=\"T_adb36822_b5e6_11e9_a37c_d4619d166172row8_col3\" class=\"data row8 col3\" >34</td> \n",
       "        <td id=\"T_adb36822_b5e6_11e9_a37c_d4619d166172row8_col4\" class=\"data row8 col4\" >353</td> \n",
       "    </tr>    <tr> \n",
       "        <th id=\"T_adb36822_b5e6_11e9_a37c_d4619d166172level0_row9\" class=\"row_heading level0 row9\" >All</th> \n",
       "        <th id=\"T_adb36822_b5e6_11e9_a37c_d4619d166172level1_row9\" class=\"row_heading level1 row9\" ></th> \n",
       "        <td id=\"T_adb36822_b5e6_11e9_a37c_d4619d166172row9_col0\" class=\"data row9 col0\" >81</td> \n",
       "        <td id=\"T_adb36822_b5e6_11e9_a37c_d4619d166172row9_col1\" class=\"data row9 col1\" >231</td> \n",
       "        <td id=\"T_adb36822_b5e6_11e9_a37c_d4619d166172row9_col2\" class=\"data row9 col2\" >468</td> \n",
       "        <td id=\"T_adb36822_b5e6_11e9_a37c_d4619d166172row9_col3\" class=\"data row9 col3\" >109</td> \n",
       "        <td id=\"T_adb36822_b5e6_11e9_a37c_d4619d166172row9_col4\" class=\"data row9 col4\" >889</td> \n",
       "    </tr></tbody> \n",
       "</table> "
      ],
      "text/plain": [
       "<pandas.io.formats.style.Styler at 0x1a251ff4a8>"
      ]
     },
     "execution_count": 31,
     "metadata": {},
     "output_type": "execute_result"
    }
   ],
   "source": [
    "pd.crosstab([data.Embarked, data.Pclass], [data.Sex, data.Survived], margins=True).style.background_gradient(cmap='summer_r')"
   ]
  },
  {
   "cell_type": "markdown",
   "metadata": {},
   "source": [
    "#### Chances for survival by Port of embarkation"
   ]
  },
  {
   "cell_type": "code",
   "execution_count": 33,
   "metadata": {},
   "outputs": [
    {
     "data": {
      "image/png": "[encoded data removed]",
      "text/plain": [
       "<Figure size 360x216 with 1 Axes>"
      ]
     },
     "metadata": {
      "needs_background": "light"
     },
     "output_type": "display_data"
    }
   ],
   "source": [
    "sns.factorplot('Embarked','Survived',data=data)\n",
    "fig=plt.gcf()\n",
    "fig.set_size_inches(5,3)\n",
    "plt.show()"
   ]
  },
  {
   "cell_type": "code",
   "execution_count": null,
   "metadata": {},
   "outputs": [],
   "source": []
  },
  {
   "cell_type": "code",
   "execution_count": null,
   "metadata": {},
   "outputs": [],
   "source": []
  },
  {
   "cell_type": "code",
   "execution_count": null,
   "metadata": {},
   "outputs": [],
   "source": []
  },
  {
   "cell_type": "code",
   "execution_count": null,
   "metadata": {},
   "outputs": [],
   "source": []
  },
  {
   "cell_type": "code",
   "execution_count": null,
   "metadata": {},
   "outputs": [],
   "source": []
  },
  {
   "cell_type": "code",
   "execution_count": null,
   "metadata": {},
   "outputs": [],
   "source": []
  },
  {
   "cell_type": "code",
   "execution_count": null,
   "metadata": {},
   "outputs": [],
   "source": []
  },
  {
   "cell_type": "code",
   "execution_count": null,
   "metadata": {},
   "outputs": [],
   "source": []
  },
  {
   "cell_type": "code",
   "execution_count": null,
   "metadata": {},
   "outputs": [],
   "source": []
  },
  {
   "cell_type": "code",
   "execution_count": null,
   "metadata": {},
   "outputs": [],
   "source": []
  },
  {
   "cell_type": "code",
   "execution_count": null,
   "metadata": {},
   "outputs": [],
   "source": []
  },
  {
   "cell_type": "code",
   "execution_count": null,
   "metadata": {},
   "outputs": [],
   "source": []
  },
  {
   "cell_type": "code",
   "execution_count": null,
   "metadata": {},
   "outputs": [],
   "source": []
  },
  {
   "cell_type": "code",
   "execution_count": null,
   "metadata": {},
   "outputs": [],
   "source": []
  },
  {
   "cell_type": "code",
   "execution_count": null,
   "metadata": {},
   "outputs": [],
   "source": []
  },
  {
   "cell_type": "code",
   "execution_count": null,
   "metadata": {},
   "outputs": [],
   "source": []
  },
  {
   "cell_type": "code",
   "execution_count": null,
   "metadata": {},
   "outputs": [],
   "source": []
  },
  {
   "cell_type": "code",
   "execution_count": null,
   "metadata": {},
   "outputs": [],
   "source": []
  },
  {
   "cell_type": "code",
   "execution_count": null,
   "metadata": {},
   "outputs": [],
   "source": []
  },
  {
   "cell_type": "code",
   "execution_count": null,
   "metadata": {},
   "outputs": [],
   "source": []
  },
  {
   "cell_type": "code",
   "execution_count": null,
   "metadata": {},
   "outputs": [],
   "source": []
  },
  {
   "cell_type": "code",
   "execution_count": null,
   "metadata": {},
   "outputs": [],
   "source": []
  },
  {
   "cell_type": "code",
   "execution_count": null,
   "metadata": {},
   "outputs": [],
   "source": []
  },
  {
   "cell_type": "code",
   "execution_count": null,
   "metadata": {},
   "outputs": [],
   "source": []
  },
  {
   "cell_type": "code",
   "execution_count": null,
   "metadata": {},
   "outputs": [],
   "source": []
  },
  {
   "cell_type": "code",
   "execution_count": null,
   "metadata": {},
   "outputs": [],
   "source": []
  },
  {
   "cell_type": "code",
   "execution_count": null,
   "metadata": {},
   "outputs": [],
   "source": []
  },
  {
   "cell_type": "code",
   "execution_count": null,
   "metadata": {},
   "outputs": [],
   "source": []
  },
  {
   "cell_type": "code",
   "execution_count": null,
   "metadata": {},
   "outputs": [],
   "source": []
  },
  {
   "cell_type": "code",
   "execution_count": null,
   "metadata": {},
   "outputs": [],
   "source": []
  },
  {
   "cell_type": "code",
   "execution_count": null,
   "metadata": {},
   "outputs": [],
   "source": []
  },
  {
   "cell_type": "code",
   "execution_count": null,
   "metadata": {},
   "outputs": [],
   "source": []
  },
  {
   "cell_type": "code",
   "execution_count": null,
   "metadata": {},
   "outputs": [],
   "source": []
  },
  {
   "cell_type": "code",
   "execution_count": null,
   "metadata": {},
   "outputs": [],
   "source": []
  },
  {
   "cell_type": "code",
   "execution_count": null,
   "metadata": {},
   "outputs": [],
   "source": []
  },
  {
   "cell_type": "code",
   "execution_count": null,
   "metadata": {},
   "outputs": [],
   "source": []
  },
  {
   "cell_type": "code",
   "execution_count": null,
   "metadata": {},
   "outputs": [],
   "source": []
  },
  {
   "cell_type": "code",
   "execution_count": null,
   "metadata": {},
   "outputs": [],
   "source": []
  },
  {
   "cell_type": "code",
   "execution_count": null,
   "metadata": {},
   "outputs": [],
   "source": []
  },
  {
   "cell_type": "code",
   "execution_count": null,
   "metadata": {},
   "outputs": [],
   "source": []
  },
  {
   "cell_type": "code",
   "execution_count": null,
   "metadata": {},
   "outputs": [],
   "source": []
  },
  {
   "cell_type": "code",
   "execution_count": null,
   "metadata": {},
   "outputs": [],
   "source": []
  },
  {
   "cell_type": "code",
   "execution_count": null,
   "metadata": {},
   "outputs": [],
   "source": []
  },
  {
   "cell_type": "code",
   "execution_count": null,
   "metadata": {},
   "outputs": [],
   "source": []
  },
  {
   "cell_type": "code",
   "execution_count": null,
   "metadata": {},
   "outputs": [],
   "source": []
  },
  {
   "cell_type": "code",
   "execution_count": null,
   "metadata": {},
   "outputs": [],
   "source": []
  },
  {
   "cell_type": "code",
   "execution_count": null,
   "metadata": {},
   "outputs": [],
   "source": []
  },
  {
   "cell_type": "code",
   "execution_count": null,
   "metadata": {},
   "outputs": [],
   "source": []
  }
 ],
 "metadata": {
  "kernelspec": {
   "display_name": "Python 3",
   "language": "python",
   "name": "python3"
  },
  "language_info": {
   "codemirror_mode": {
    "name": "ipython",
    "version": 3
   },
   "file_extension": ".py",
   "mimetype": "text/x-python",
   "name": "python",
   "nbconvert_exporter": "python",
   "pygments_lexer": "ipython3",
   "version": "3.7.1"
  }
 },
 "nbformat": 4,
 "nbformat_minor": 2
}
