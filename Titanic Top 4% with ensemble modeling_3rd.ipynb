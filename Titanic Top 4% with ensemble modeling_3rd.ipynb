{
 "cells": [
  {
   "cell_type": "markdown",
   "metadata": {},
   "source": [
    "# Titanic top 4% with ensemble modeling"
   ]
  },
  {
   "cell_type": "markdown",
   "metadata": {},
   "source": [
    "## Yassine Ghouzam, PhD"
   ]
  },
  {
   "cell_type": "markdown",
   "metadata": {},
   "source": [
    "- 1 Introduction\n",
    "- 2 Load and Check data\n",
    "    - 2.1 load data\n",
    "    - 2.2 Outlier detection\n",
    "    - 2.3 Joining train and test set\n",
    "    - 2.4 Check for null and missing values\n",
    "- 3 Feature analysis\n",
    "    - 3.1 Numerical values\n",
    "    - 3.2 Categorical values\n",
    "- 4 Filling missing Values\n",
    "    - 4.1 Age\n",
    "- 5 Feature engineering\n",
    "    - 5.1 Name / Title\n",
    "    - 5.2 Family Size\n",
    "    - 5.3 Cabin\n",
    "    - 5.4 Ticket\n",
    "- 6 Modeling\n",
    "    - 6.1 Simple modeling\n",
    "        - 6.1.1 Cross validate models\n",
    "        - 6.1.2 Hyperparameter tunning for best models\n",
    "        - 6.1.3 Plot learning curves\n",
    "        - 6.1.4 Feature importance of the tree based classifiers\n",
    "    - 6.2 Ensemble modeling\n",
    "        - 6.2.1 Combining models\n",
    "    - 6.3 Prediction\n",
    "        - 6.3.1 Predict and Submit results"
   ]
  },
  {
   "cell_type": "markdown",
   "metadata": {},
   "source": [
    "# 1. Introduction\n",
    "This is my first kernel at Kaggle. I choosed the Titanic competition which is a good way to introduce feature engineering and ensemble modeling. Firstly, I will display some feature analyses then ill focus on the feature engineering. Last part concerns modeling and prediting the survival on the Titanic using an voting procedure.\n",
    "\n",
    "This script follows three main parts:\n",
    "- Feature analysis\n",
    "- Feature engineering\n",
    "- Modeling"
   ]
  },
  {
   "cell_type": "code",
   "execution_count": 3,
   "metadata": {},
   "outputs": [],
   "source": [
    "import pandas as pd\n",
    "import numpy as np\n",
    "import matplotlib.pyplot as plt\n",
    "import seaborn as sns\n",
    "%matplotlib inline\n",
    "\n",
    "from collections import Counter\n",
    "\n",
    "from sklearn.ensemble import RandomForestClassifier, AdaBoostClassifier, GradientBoostingClassifier, ExtraTreesClassifier, VotingClassifier\n",
    "from sklearn.discriminant_analysis import LinearDiscriminantAnalysis\n",
    "from sklearn.linear_model import LogisticRegression\n",
    "from sklearn.neighbors import KNeighborsClassifier\n",
    "from sklearn.tree import DecisionTreeClassifier\n",
    "from sklearn.neural_network import MLPClassifier\n",
    "from sklearn.svm import SVC\n",
    "from sklearn.model_selection import GridSearchCV, cross_val_score, StratifiedKFold, learning_curve\n",
    "\n",
    "sns.set(style='white', context='notebook', palette='deep')"
   ]
  },
  {
   "cell_type": "markdown",
   "metadata": {},
   "source": [
    "# 2. Load and check data"
   ]
  },
  {
   "cell_type": "markdown",
   "metadata": {},
   "source": [
    "## 2.1 Load data"
   ]
  },
  {
   "cell_type": "code",
   "execution_count": 4,
   "metadata": {},
   "outputs": [],
   "source": [
    "# Load data \n",
    "##### Load train and Test set\n",
    "\n",
    "train = pd.read_csv(\"train.csv\")\n",
    "test = pd.read_csv(\"test.csv\")\n",
    "IDtest = test[\"PassengerId\"]"
   ]
  },
  {
   "cell_type": "markdown",
   "metadata": {},
   "source": [
    "## 2.2 Outlier detection"
   ]
  },
  {
   "cell_type": "code",
   "execution_count": 5,
   "metadata": {},
   "outputs": [
    {
     "name": "stderr",
     "output_type": "stream",
     "text": [
      "/Users/heojeong-wook/anaconda3/lib/python3.7/site-packages/numpy/lib/function_base.py:3652: RuntimeWarning: Invalid value encountered in percentile\n",
      "  interpolation=interpolation)\n"
     ]
    }
   ],
   "source": [
    "# Outlier detection\n",
    "\n",
    "def detect_outliers(df, n, features):\n",
    "    \"\"\"\n",
    "    Takes a dataframe df of features and returns a list of the indices\n",
    "    corresponding to the observations containing more than n outliers according to the Turkey\n",
    "    method.\"\"\"\n",
    "    \n",
    "    outlier_indices = []\n",
    "    \n",
    "    # iterate over features(columns)\n",
    "    for col in features:\n",
    "        # 1st quartile (25%)\n",
    "        Q1 = np.percentile(df[col], 25)\n",
    "        # 3rd quartile (75%)\n",
    "        Q3 = np.percentile(df[col], 75)\n",
    "        # Interquartile range (IQR)\n",
    "        IQR = Q3 - Q1\n",
    "        \n",
    "        # Outlier step\n",
    "        outlier_step = 1.5 * IQR\n",
    "        \n",
    "        # Determine a list of indices of outliers for feature col\n",
    "        outlier_list_col = df[(df[col] < Q1 - outlier_step) | (df[col] > Q3 + outlier_step)].index\n",
    "        \n",
    "        # append the found outlier indices for col to the list of outlier indices\n",
    "        outlier_indices.extend(outlier_list_col)\n",
    "        \n",
    "    # select observations containing more than 2 outliers\n",
    "    outlier_indices = Counter(outlier_indices)\n",
    "    multiple_outliers = list(k for k, v in outlier_indices.items() if v > n)\n",
    "    \n",
    "    return multiple_outliers\n",
    "# detect outliers from Age, SibSp, Parch and Fare\n",
    "Outliers_to_drop = detect_outliers(train, 2, [\"Age\", \"SibSp\", \"Parch\", \"Fare\"])"
   ]
  },
  {
   "cell_type": "markdown",
   "metadata": {},
   "source": [
    "Since outliers can have a dramatic effect on the prediction (especially for regression problems), I choosed to manage them.\n",
    "\n",
    "I used the Turkey method (Turkey JW., 1977) to detect outliers which defines an interquartile range comprised between the 1st and 3rd quartile of the distribution values (IQR). An outlier is a row that have a feature value outside the (IQR +- an outlier step).\n",
    "\n",
    "I decided to detect outliers from the numerical values features (Age, SibSp, Parch and Fare). Then I considered outliers as rows that have at least two outlied numerical values."
   ]
  },
  {
   "cell_type": "code",
   "execution_count": 6,
   "metadata": {},
   "outputs": [
    {
     "data": {
      "text/html": [
       "<div>\n",
       "<style scoped>\n",
       "    .dataframe tbody tr th:only-of-type {\n",
       "        vertical-align: middle;\n",
       "    }\n",
       "\n",
       "    .dataframe tbody tr th {\n",
       "        vertical-align: top;\n",
       "    }\n",
       "\n",
       "    .dataframe thead th {\n",
       "        text-align: right;\n",
       "    }\n",
       "</style>\n",
       "<table border=\"1\" class=\"dataframe\">\n",
       "  <thead>\n",
       "    <tr style=\"text-align: right;\">\n",
       "      <th></th>\n",
       "      <th>PassengerId</th>\n",
       "      <th>Survived</th>\n",
       "      <th>Pclass</th>\n",
       "      <th>Name</th>\n",
       "      <th>Sex</th>\n",
       "      <th>Age</th>\n",
       "      <th>SibSp</th>\n",
       "      <th>Parch</th>\n",
       "      <th>Ticket</th>\n",
       "      <th>Fare</th>\n",
       "      <th>Cabin</th>\n",
       "      <th>Embarked</th>\n",
       "    </tr>\n",
       "  </thead>\n",
       "  <tbody>\n",
       "    <tr>\n",
       "      <th>27</th>\n",
       "      <td>28</td>\n",
       "      <td>0</td>\n",
       "      <td>1</td>\n",
       "      <td>Fortune, Mr. Charles Alexander</td>\n",
       "      <td>male</td>\n",
       "      <td>19.0</td>\n",
       "      <td>3</td>\n",
       "      <td>2</td>\n",
       "      <td>19950</td>\n",
       "      <td>263.00</td>\n",
       "      <td>C23 C25 C27</td>\n",
       "      <td>S</td>\n",
       "    </tr>\n",
       "    <tr>\n",
       "      <th>88</th>\n",
       "      <td>89</td>\n",
       "      <td>1</td>\n",
       "      <td>1</td>\n",
       "      <td>Fortune, Miss. Mabel Helen</td>\n",
       "      <td>female</td>\n",
       "      <td>23.0</td>\n",
       "      <td>3</td>\n",
       "      <td>2</td>\n",
       "      <td>19950</td>\n",
       "      <td>263.00</td>\n",
       "      <td>C23 C25 C27</td>\n",
       "      <td>S</td>\n",
       "    </tr>\n",
       "    <tr>\n",
       "      <th>159</th>\n",
       "      <td>160</td>\n",
       "      <td>0</td>\n",
       "      <td>3</td>\n",
       "      <td>Sage, Master. Thomas Henry</td>\n",
       "      <td>male</td>\n",
       "      <td>NaN</td>\n",
       "      <td>8</td>\n",
       "      <td>2</td>\n",
       "      <td>CA. 2343</td>\n",
       "      <td>69.55</td>\n",
       "      <td>NaN</td>\n",
       "      <td>S</td>\n",
       "    </tr>\n",
       "    <tr>\n",
       "      <th>180</th>\n",
       "      <td>181</td>\n",
       "      <td>0</td>\n",
       "      <td>3</td>\n",
       "      <td>Sage, Miss. Constance Gladys</td>\n",
       "      <td>female</td>\n",
       "      <td>NaN</td>\n",
       "      <td>8</td>\n",
       "      <td>2</td>\n",
       "      <td>CA. 2343</td>\n",
       "      <td>69.55</td>\n",
       "      <td>NaN</td>\n",
       "      <td>S</td>\n",
       "    </tr>\n",
       "    <tr>\n",
       "      <th>201</th>\n",
       "      <td>202</td>\n",
       "      <td>0</td>\n",
       "      <td>3</td>\n",
       "      <td>Sage, Mr. Frederick</td>\n",
       "      <td>male</td>\n",
       "      <td>NaN</td>\n",
       "      <td>8</td>\n",
       "      <td>2</td>\n",
       "      <td>CA. 2343</td>\n",
       "      <td>69.55</td>\n",
       "      <td>NaN</td>\n",
       "      <td>S</td>\n",
       "    </tr>\n",
       "    <tr>\n",
       "      <th>324</th>\n",
       "      <td>325</td>\n",
       "      <td>0</td>\n",
       "      <td>3</td>\n",
       "      <td>Sage, Mr. George John Jr</td>\n",
       "      <td>male</td>\n",
       "      <td>NaN</td>\n",
       "      <td>8</td>\n",
       "      <td>2</td>\n",
       "      <td>CA. 2343</td>\n",
       "      <td>69.55</td>\n",
       "      <td>NaN</td>\n",
       "      <td>S</td>\n",
       "    </tr>\n",
       "    <tr>\n",
       "      <th>341</th>\n",
       "      <td>342</td>\n",
       "      <td>1</td>\n",
       "      <td>1</td>\n",
       "      <td>Fortune, Miss. Alice Elizabeth</td>\n",
       "      <td>female</td>\n",
       "      <td>24.0</td>\n",
       "      <td>3</td>\n",
       "      <td>2</td>\n",
       "      <td>19950</td>\n",
       "      <td>263.00</td>\n",
       "      <td>C23 C25 C27</td>\n",
       "      <td>S</td>\n",
       "    </tr>\n",
       "    <tr>\n",
       "      <th>792</th>\n",
       "      <td>793</td>\n",
       "      <td>0</td>\n",
       "      <td>3</td>\n",
       "      <td>Sage, Miss. Stella Anna</td>\n",
       "      <td>female</td>\n",
       "      <td>NaN</td>\n",
       "      <td>8</td>\n",
       "      <td>2</td>\n",
       "      <td>CA. 2343</td>\n",
       "      <td>69.55</td>\n",
       "      <td>NaN</td>\n",
       "      <td>S</td>\n",
       "    </tr>\n",
       "    <tr>\n",
       "      <th>846</th>\n",
       "      <td>847</td>\n",
       "      <td>0</td>\n",
       "      <td>3</td>\n",
       "      <td>Sage, Mr. Douglas Bullen</td>\n",
       "      <td>male</td>\n",
       "      <td>NaN</td>\n",
       "      <td>8</td>\n",
       "      <td>2</td>\n",
       "      <td>CA. 2343</td>\n",
       "      <td>69.55</td>\n",
       "      <td>NaN</td>\n",
       "      <td>S</td>\n",
       "    </tr>\n",
       "    <tr>\n",
       "      <th>863</th>\n",
       "      <td>864</td>\n",
       "      <td>0</td>\n",
       "      <td>3</td>\n",
       "      <td>Sage, Miss. Dorothy Edith \"Dolly\"</td>\n",
       "      <td>female</td>\n",
       "      <td>NaN</td>\n",
       "      <td>8</td>\n",
       "      <td>2</td>\n",
       "      <td>CA. 2343</td>\n",
       "      <td>69.55</td>\n",
       "      <td>NaN</td>\n",
       "      <td>S</td>\n",
       "    </tr>\n",
       "  </tbody>\n",
       "</table>\n",
       "</div>"
      ],
      "text/plain": [
       "     PassengerId  Survived  Pclass                               Name     Sex  \\\n",
       "27            28         0       1     Fortune, Mr. Charles Alexander    male   \n",
       "88            89         1       1         Fortune, Miss. Mabel Helen  female   \n",
       "159          160         0       3         Sage, Master. Thomas Henry    male   \n",
       "180          181         0       3       Sage, Miss. Constance Gladys  female   \n",
       "201          202         0       3                Sage, Mr. Frederick    male   \n",
       "324          325         0       3           Sage, Mr. George John Jr    male   \n",
       "341          342         1       1     Fortune, Miss. Alice Elizabeth  female   \n",
       "792          793         0       3            Sage, Miss. Stella Anna  female   \n",
       "846          847         0       3           Sage, Mr. Douglas Bullen    male   \n",
       "863          864         0       3  Sage, Miss. Dorothy Edith \"Dolly\"  female   \n",
       "\n",
       "      Age  SibSp  Parch    Ticket    Fare        Cabin Embarked  \n",
       "27   19.0      3      2     19950  263.00  C23 C25 C27        S  \n",
       "88   23.0      3      2     19950  263.00  C23 C25 C27        S  \n",
       "159   NaN      8      2  CA. 2343   69.55          NaN        S  \n",
       "180   NaN      8      2  CA. 2343   69.55          NaN        S  \n",
       "201   NaN      8      2  CA. 2343   69.55          NaN        S  \n",
       "324   NaN      8      2  CA. 2343   69.55          NaN        S  \n",
       "341  24.0      3      2     19950  263.00  C23 C25 C27        S  \n",
       "792   NaN      8      2  CA. 2343   69.55          NaN        S  \n",
       "846   NaN      8      2  CA. 2343   69.55          NaN        S  \n",
       "863   NaN      8      2  CA. 2343   69.55          NaN        S  "
      ]
     },
     "execution_count": 6,
     "metadata": {},
     "output_type": "execute_result"
    }
   ],
   "source": [
    "train.loc[Outliers_to_drop] # Show the outliers rows"
   ]
  },
  {
   "cell_type": "markdown",
   "metadata": {},
   "source": [
    "We detect 10 outliers. The 28, 89 and 342 passenger have an high Ticket Fare The 7 others have very high values of SibSp."
   ]
  },
  {
   "cell_type": "code",
   "execution_count": 7,
   "metadata": {},
   "outputs": [],
   "source": [
    "# Drop outliers\n",
    "train = train.drop(Outliers_to_drop, axis = 0).reset_index(drop = True)"
   ]
  },
  {
   "cell_type": "markdown",
   "metadata": {},
   "source": [
    "## 2.3 Joining train and test set"
   ]
  },
  {
   "cell_type": "code",
   "execution_count": 8,
   "metadata": {},
   "outputs": [
    {
     "name": "stderr",
     "output_type": "stream",
     "text": [
      "/Users/heojeong-wook/anaconda3/lib/python3.7/site-packages/ipykernel_launcher.py:3: FutureWarning: Sorting because non-concatenation axis is not aligned. A future version\n",
      "of pandas will change to not sort by default.\n",
      "\n",
      "To accept the future behavior, pass 'sort=False'.\n",
      "\n",
      "To retain the current behavior and silence the warning, pass 'sort=True'.\n",
      "\n",
      "  This is separate from the ipykernel package so we can avoid doing imports until\n"
     ]
    }
   ],
   "source": [
    "## Join train and test datasets in order to obtain the same number of features during categorical conversion\n",
    "train_len = len(train)\n",
    "dataset = pd.concat(objs=[train, test], axis=0).reset_index(drop=True)"
   ]
  },
  {
   "cell_type": "markdown",
   "metadata": {},
   "source": [
    "I join train and test datasets to obtain the same number of features during categorical conversion (See feature engineering)."
   ]
  },
  {
   "cell_type": "markdown",
   "metadata": {},
   "source": [
    "## 2.4 Check for null and missing values"
   ]
  },
  {
   "cell_type": "code",
   "execution_count": 9,
   "metadata": {},
   "outputs": [
    {
     "data": {
      "text/plain": [
       "Age             256\n",
       "Cabin          1007\n",
       "Embarked          2\n",
       "Fare              1\n",
       "Name              0\n",
       "Parch             0\n",
       "PassengerId       0\n",
       "Pclass            0\n",
       "Sex               0\n",
       "SibSp             0\n",
       "Survived        418\n",
       "Ticket            0\n",
       "dtype: int64"
      ]
     },
     "execution_count": 9,
     "metadata": {},
     "output_type": "execute_result"
    }
   ],
   "source": [
    "# Fill empty and NaNs values with NaN\n",
    "dataset = dataset.fillna(np.nan)\n",
    "\n",
    "# Check for Null values\n",
    "dataset.isnull().sum()"
   ]
  },
  {
   "cell_type": "markdown",
   "metadata": {},
   "source": [
    "Age and Cabin features have an important part of missing values.\n",
    "\n",
    "__Survived missing values correspond to the join testing dataset (Survived column doesn't exist in test set and has been replace by NaN values when concatenating the train and test set)__"
   ]
  },
  {
   "cell_type": "code",
   "execution_count": 10,
   "metadata": {},
   "outputs": [
    {
     "name": "stdout",
     "output_type": "stream",
     "text": [
      "<class 'pandas.core.frame.DataFrame'>\n",
      "RangeIndex: 881 entries, 0 to 880\n",
      "Data columns (total 12 columns):\n",
      "PassengerId    881 non-null int64\n",
      "Survived       881 non-null int64\n",
      "Pclass         881 non-null int64\n",
      "Name           881 non-null object\n",
      "Sex            881 non-null object\n",
      "Age            711 non-null float64\n",
      "SibSp          881 non-null int64\n",
      "Parch          881 non-null int64\n",
      "Ticket         881 non-null object\n",
      "Fare           881 non-null float64\n",
      "Cabin          201 non-null object\n",
      "Embarked       879 non-null object\n",
      "dtypes: float64(2), int64(5), object(5)\n",
      "memory usage: 82.7+ KB\n"
     ]
    },
    {
     "data": {
      "text/plain": [
       "PassengerId      0\n",
       "Survived         0\n",
       "Pclass           0\n",
       "Name             0\n",
       "Sex              0\n",
       "Age            170\n",
       "SibSp            0\n",
       "Parch            0\n",
       "Ticket           0\n",
       "Fare             0\n",
       "Cabin          680\n",
       "Embarked         2\n",
       "dtype: int64"
      ]
     },
     "execution_count": 10,
     "metadata": {},
     "output_type": "execute_result"
    }
   ],
   "source": [
    "# Infos\n",
    "train.info()\n",
    "train.isnull().sum()"
   ]
  },
  {
   "cell_type": "code",
   "execution_count": 11,
   "metadata": {},
   "outputs": [
    {
     "data": {
      "text/html": [
       "<div>\n",
       "<style scoped>\n",
       "    .dataframe tbody tr th:only-of-type {\n",
       "        vertical-align: middle;\n",
       "    }\n",
       "\n",
       "    .dataframe tbody tr th {\n",
       "        vertical-align: top;\n",
       "    }\n",
       "\n",
       "    .dataframe thead th {\n",
       "        text-align: right;\n",
       "    }\n",
       "</style>\n",
       "<table border=\"1\" class=\"dataframe\">\n",
       "  <thead>\n",
       "    <tr style=\"text-align: right;\">\n",
       "      <th></th>\n",
       "      <th>PassengerId</th>\n",
       "      <th>Survived</th>\n",
       "      <th>Pclass</th>\n",
       "      <th>Name</th>\n",
       "      <th>Sex</th>\n",
       "      <th>Age</th>\n",
       "      <th>SibSp</th>\n",
       "      <th>Parch</th>\n",
       "      <th>Ticket</th>\n",
       "      <th>Fare</th>\n",
       "      <th>Cabin</th>\n",
       "      <th>Embarked</th>\n",
       "    </tr>\n",
       "  </thead>\n",
       "  <tbody>\n",
       "    <tr>\n",
       "      <th>0</th>\n",
       "      <td>1</td>\n",
       "      <td>0</td>\n",
       "      <td>3</td>\n",
       "      <td>Braund, Mr. Owen Harris</td>\n",
       "      <td>male</td>\n",
       "      <td>22.0</td>\n",
       "      <td>1</td>\n",
       "      <td>0</td>\n",
       "      <td>A/5 21171</td>\n",
       "      <td>7.2500</td>\n",
       "      <td>NaN</td>\n",
       "      <td>S</td>\n",
       "    </tr>\n",
       "    <tr>\n",
       "      <th>1</th>\n",
       "      <td>2</td>\n",
       "      <td>1</td>\n",
       "      <td>1</td>\n",
       "      <td>Cumings, Mrs. John Bradley (Florence Briggs Th...</td>\n",
       "      <td>female</td>\n",
       "      <td>38.0</td>\n",
       "      <td>1</td>\n",
       "      <td>0</td>\n",
       "      <td>PC 17599</td>\n",
       "      <td>71.2833</td>\n",
       "      <td>C85</td>\n",
       "      <td>C</td>\n",
       "    </tr>\n",
       "    <tr>\n",
       "      <th>2</th>\n",
       "      <td>3</td>\n",
       "      <td>1</td>\n",
       "      <td>3</td>\n",
       "      <td>Heikkinen, Miss. Laina</td>\n",
       "      <td>female</td>\n",
       "      <td>26.0</td>\n",
       "      <td>0</td>\n",
       "      <td>0</td>\n",
       "      <td>STON/O2. 3101282</td>\n",
       "      <td>7.9250</td>\n",
       "      <td>NaN</td>\n",
       "      <td>S</td>\n",
       "    </tr>\n",
       "    <tr>\n",
       "      <th>3</th>\n",
       "      <td>4</td>\n",
       "      <td>1</td>\n",
       "      <td>1</td>\n",
       "      <td>Futrelle, Mrs. Jacques Heath (Lily May Peel)</td>\n",
       "      <td>female</td>\n",
       "      <td>35.0</td>\n",
       "      <td>1</td>\n",
       "      <td>0</td>\n",
       "      <td>113803</td>\n",
       "      <td>53.1000</td>\n",
       "      <td>C123</td>\n",
       "      <td>S</td>\n",
       "    </tr>\n",
       "    <tr>\n",
       "      <th>4</th>\n",
       "      <td>5</td>\n",
       "      <td>0</td>\n",
       "      <td>3</td>\n",
       "      <td>Allen, Mr. William Henry</td>\n",
       "      <td>male</td>\n",
       "      <td>35.0</td>\n",
       "      <td>0</td>\n",
       "      <td>0</td>\n",
       "      <td>373450</td>\n",
       "      <td>8.0500</td>\n",
       "      <td>NaN</td>\n",
       "      <td>S</td>\n",
       "    </tr>\n",
       "  </tbody>\n",
       "</table>\n",
       "</div>"
      ],
      "text/plain": [
       "   PassengerId  Survived  Pclass  \\\n",
       "0            1         0       3   \n",
       "1            2         1       1   \n",
       "2            3         1       3   \n",
       "3            4         1       1   \n",
       "4            5         0       3   \n",
       "\n",
       "                                                Name     Sex   Age  SibSp  \\\n",
       "0                            Braund, Mr. Owen Harris    male  22.0      1   \n",
       "1  Cumings, Mrs. John Bradley (Florence Briggs Th...  female  38.0      1   \n",
       "2                             Heikkinen, Miss. Laina  female  26.0      0   \n",
       "3       Futrelle, Mrs. Jacques Heath (Lily May Peel)  female  35.0      1   \n",
       "4                           Allen, Mr. William Henry    male  35.0      0   \n",
       "\n",
       "   Parch            Ticket     Fare Cabin Embarked  \n",
       "0      0         A/5 21171   7.2500   NaN        S  \n",
       "1      0          PC 17599  71.2833   C85        C  \n",
       "2      0  STON/O2. 3101282   7.9250   NaN        S  \n",
       "3      0            113803  53.1000  C123        S  \n",
       "4      0            373450   8.0500   NaN        S  "
      ]
     },
     "execution_count": 11,
     "metadata": {},
     "output_type": "execute_result"
    }
   ],
   "source": [
    "train.head()"
   ]
  },
  {
   "cell_type": "code",
   "execution_count": 12,
   "metadata": {},
   "outputs": [
    {
     "data": {
      "text/plain": [
       "PassengerId      int64\n",
       "Survived         int64\n",
       "Pclass           int64\n",
       "Name            object\n",
       "Sex             object\n",
       "Age            float64\n",
       "SibSp            int64\n",
       "Parch            int64\n",
       "Ticket          object\n",
       "Fare           float64\n",
       "Cabin           object\n",
       "Embarked        object\n",
       "dtype: object"
      ]
     },
     "execution_count": 12,
     "metadata": {},
     "output_type": "execute_result"
    }
   ],
   "source": [
    "train.dtypes"
   ]
  },
  {
   "cell_type": "code",
   "execution_count": 13,
   "metadata": {},
   "outputs": [
    {
     "data": {
      "text/html": [
       "<div>\n",
       "<style scoped>\n",
       "    .dataframe tbody tr th:only-of-type {\n",
       "        vertical-align: middle;\n",
       "    }\n",
       "\n",
       "    .dataframe tbody tr th {\n",
       "        vertical-align: top;\n",
       "    }\n",
       "\n",
       "    .dataframe thead th {\n",
       "        text-align: right;\n",
       "    }\n",
       "</style>\n",
       "<table border=\"1\" class=\"dataframe\">\n",
       "  <thead>\n",
       "    <tr style=\"text-align: right;\">\n",
       "      <th></th>\n",
       "      <th>PassengerId</th>\n",
       "      <th>Survived</th>\n",
       "      <th>Pclass</th>\n",
       "      <th>Age</th>\n",
       "      <th>SibSp</th>\n",
       "      <th>Parch</th>\n",
       "      <th>Fare</th>\n",
       "    </tr>\n",
       "  </thead>\n",
       "  <tbody>\n",
       "    <tr>\n",
       "      <th>count</th>\n",
       "      <td>881.000000</td>\n",
       "      <td>881.000000</td>\n",
       "      <td>881.000000</td>\n",
       "      <td>711.000000</td>\n",
       "      <td>881.000000</td>\n",
       "      <td>881.000000</td>\n",
       "      <td>881.000000</td>\n",
       "    </tr>\n",
       "    <tr>\n",
       "      <th>mean</th>\n",
       "      <td>446.713961</td>\n",
       "      <td>0.385925</td>\n",
       "      <td>2.307605</td>\n",
       "      <td>29.731603</td>\n",
       "      <td>0.455165</td>\n",
       "      <td>0.363224</td>\n",
       "      <td>31.121566</td>\n",
       "    </tr>\n",
       "    <tr>\n",
       "      <th>std</th>\n",
       "      <td>256.617021</td>\n",
       "      <td>0.487090</td>\n",
       "      <td>0.835055</td>\n",
       "      <td>14.547835</td>\n",
       "      <td>0.871571</td>\n",
       "      <td>0.791839</td>\n",
       "      <td>47.996249</td>\n",
       "    </tr>\n",
       "    <tr>\n",
       "      <th>min</th>\n",
       "      <td>1.000000</td>\n",
       "      <td>0.000000</td>\n",
       "      <td>1.000000</td>\n",
       "      <td>0.420000</td>\n",
       "      <td>0.000000</td>\n",
       "      <td>0.000000</td>\n",
       "      <td>0.000000</td>\n",
       "    </tr>\n",
       "    <tr>\n",
       "      <th>25%</th>\n",
       "      <td>226.000000</td>\n",
       "      <td>0.000000</td>\n",
       "      <td>2.000000</td>\n",
       "      <td>20.250000</td>\n",
       "      <td>0.000000</td>\n",
       "      <td>0.000000</td>\n",
       "      <td>7.895800</td>\n",
       "    </tr>\n",
       "    <tr>\n",
       "      <th>50%</th>\n",
       "      <td>448.000000</td>\n",
       "      <td>0.000000</td>\n",
       "      <td>3.000000</td>\n",
       "      <td>28.000000</td>\n",
       "      <td>0.000000</td>\n",
       "      <td>0.000000</td>\n",
       "      <td>14.454200</td>\n",
       "    </tr>\n",
       "    <tr>\n",
       "      <th>75%</th>\n",
       "      <td>668.000000</td>\n",
       "      <td>1.000000</td>\n",
       "      <td>3.000000</td>\n",
       "      <td>38.000000</td>\n",
       "      <td>1.000000</td>\n",
       "      <td>0.000000</td>\n",
       "      <td>30.500000</td>\n",
       "    </tr>\n",
       "    <tr>\n",
       "      <th>max</th>\n",
       "      <td>891.000000</td>\n",
       "      <td>1.000000</td>\n",
       "      <td>3.000000</td>\n",
       "      <td>80.000000</td>\n",
       "      <td>5.000000</td>\n",
       "      <td>6.000000</td>\n",
       "      <td>512.329200</td>\n",
       "    </tr>\n",
       "  </tbody>\n",
       "</table>\n",
       "</div>"
      ],
      "text/plain": [
       "       PassengerId    Survived      Pclass         Age       SibSp  \\\n",
       "count   881.000000  881.000000  881.000000  711.000000  881.000000   \n",
       "mean    446.713961    0.385925    2.307605   29.731603    0.455165   \n",
       "std     256.617021    0.487090    0.835055   14.547835    0.871571   \n",
       "min       1.000000    0.000000    1.000000    0.420000    0.000000   \n",
       "25%     226.000000    0.000000    2.000000   20.250000    0.000000   \n",
       "50%     448.000000    0.000000    3.000000   28.000000    0.000000   \n",
       "75%     668.000000    1.000000    3.000000   38.000000    1.000000   \n",
       "max     891.000000    1.000000    3.000000   80.000000    5.000000   \n",
       "\n",
       "            Parch        Fare  \n",
       "count  881.000000  881.000000  \n",
       "mean     0.363224   31.121566  \n",
       "std      0.791839   47.996249  \n",
       "min      0.000000    0.000000  \n",
       "25%      0.000000    7.895800  \n",
       "50%      0.000000   14.454200  \n",
       "75%      0.000000   30.500000  \n",
       "max      6.000000  512.329200  "
      ]
     },
     "execution_count": 13,
     "metadata": {},
     "output_type": "execute_result"
    }
   ],
   "source": [
    "### Summarize data\n",
    "# Summarie and statistics\n",
    "train.describe()"
   ]
  },
  {
   "cell_type": "markdown",
   "metadata": {},
   "source": [
    "# 3. Feature analysis"
   ]
  },
  {
   "cell_type": "markdown",
   "metadata": {},
   "source": [
    "## 3.1 Numerical values"
   ]
  },
  {
   "cell_type": "code",
   "execution_count": 14,
   "metadata": {},
   "outputs": [
    {
     "data": {
      "image/png": "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\n",
      "text/plain": [
       "<Figure size 432x288 with 2 Axes>"
      ]
     },
     "metadata": {
      "needs_background": "light"
     },
     "output_type": "display_data"
    }
   ],
   "source": [
    "# Correlation matrix between numerical values (SibSp Parch Age and Fare values) and Survived\n",
    "g = sns.heatmap(train[[\"Survived\", \"SibSp\", \"Parch\", \"Age\", \"Fare\"]].corr(), annot=True, fmt = \".2f\", cmap = \"coolwarm\")"
   ]
  },
  {
   "cell_type": "markdown",
   "metadata": {},
   "source": [
    "Only Fare feature seems to have a significative correlation with the survival probability.\n",
    "\n",
    "It doesn't mean that the other features are not useful. Subpopulations in these features can be correlated with the survival. To determine this, we need to explore in detail these features"
   ]
  },
  {
   "cell_type": "markdown",
   "metadata": {},
   "source": [
    "### SibSp"
   ]
  },
  {
   "cell_type": "code",
   "execution_count": 15,
   "metadata": {},
   "outputs": [
    {
     "name": "stderr",
     "output_type": "stream",
     "text": [
      "/Users/heojeong-wook/anaconda3/lib/python3.7/site-packages/seaborn/categorical.py:3666: UserWarning: The `factorplot` function has been renamed to `catplot`. The original name will be removed in a future release. Please update your code. Note that the default `kind` in `factorplot` (`'point'`) has changed `'strip'` in `catplot`.\n",
      "  warnings.warn(msg)\n",
      "/Users/heojeong-wook/anaconda3/lib/python3.7/site-packages/seaborn/categorical.py:3672: UserWarning: The `size` paramter has been renamed to `height`; please update your code.\n",
      "  warnings.warn(msg, UserWarning)\n",
      "/Users/heojeong-wook/anaconda3/lib/python3.7/site-packages/scipy/stats/stats.py:1713: FutureWarning: Using a non-tuple sequence for multidimensional indexing is deprecated; use `arr[tuple(seq)]` instead of `arr[seq]`. In the future this will be interpreted as an array index, `arr[np.array(seq)]`, which will result either in an error or a different result.\n",
      "  return np.add.reduce(sorted[indexer] * weights, axis=axis) / sumval\n"
     ]
    },
    {
     "data": {
      "image/png": "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\n",
      "text/plain": [
       "<Figure size 432x432 with 1 Axes>"
      ]
     },
     "metadata": {
      "needs_background": "light"
     },
     "output_type": "display_data"
    }
   ],
   "source": [
    "# Explore SibSp feature vs Survived\n",
    "g = sns.factorplot(x=\"SibSp\", y=\"Survived\", data = train, kind=\"bar\", size = 6, palette = \"muted\")\n",
    "g.despine(left = True)\n",
    "g = g.set_ylabels(\"survival probability\")"
   ]
  },
  {
   "cell_type": "markdown",
   "metadata": {},
   "source": [
    "It seems that passengers having a lot of siblings/spouses have less chance to survive\n",
    "\n",
    "Single passenger (0 SibSp) or with two other persons (SibSp 1 or 2) have more chance to survive\n",
    "\n",
    "This observation is quite interesting, we can consider a new feature describing these categories (See feature engineering)"
   ]
  },
  {
   "cell_type": "markdown",
   "metadata": {},
   "source": [
    "### Parch"
   ]
  },
  {
   "cell_type": "code",
   "execution_count": 16,
   "metadata": {},
   "outputs": [
    {
     "name": "stderr",
     "output_type": "stream",
     "text": [
      "/Users/heojeong-wook/anaconda3/lib/python3.7/site-packages/seaborn/categorical.py:3666: UserWarning: The `factorplot` function has been renamed to `catplot`. The original name will be removed in a future release. Please update your code. Note that the default `kind` in `factorplot` (`'point'`) has changed `'strip'` in `catplot`.\n",
      "  warnings.warn(msg)\n",
      "/Users/heojeong-wook/anaconda3/lib/python3.7/site-packages/seaborn/categorical.py:3672: UserWarning: The `size` paramter has been renamed to `height`; please update your code.\n",
      "  warnings.warn(msg, UserWarning)\n"
     ]
    },
    {
     "data": {
      "image/png": "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\n",
      "text/plain": [
       "<Figure size 432x432 with 1 Axes>"
      ]
     },
     "metadata": {
      "needs_background": "light"
     },
     "output_type": "display_data"
    }
   ],
   "source": [
    "# Explore Parch feature vs Survived\n",
    "g = sns.factorplot(x=\"Parch\", y=\"Survived\", data=train, kind=\"bar\", size = 6, palette = \"muted\")\n",
    "g.despine(left = True)\n",
    "g = g.set_ylabels(\"survival probability\")"
   ]
  },
  {
   "cell_type": "markdown",
   "metadata": {},
   "source": [
    "Small familes have more chance to survive, more than single (Parch 0), medium (Parch 3,4) and large families (Parch 5,6).\n",
    "\n",
    "Be careful there is an important standard deviation in the survival of passengers with 3 parents/children"
   ]
  },
  {
   "cell_type": "markdown",
   "metadata": {},
   "source": [
    "### Age"
   ]
  },
  {
   "cell_type": "code",
   "execution_count": 17,
   "metadata": {},
   "outputs": [
    {
     "data": {
      "image/png": "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\n",
      "text/plain": [
       "<Figure size 432x216 with 2 Axes>"
      ]
     },
     "metadata": {
      "needs_background": "light"
     },
     "output_type": "display_data"
    }
   ],
   "source": [
    "# Explore Age vs Survived\n",
    "g = sns.FacetGrid(train, col='Survived')\n",
    "g = g.map(sns.distplot, \"Age\")"
   ]
  },
  {
   "cell_type": "markdown",
   "metadata": {},
   "source": [
    "Age distribution seems to be a tailed distribution, maybe a gaussian distribution.\n",
    "\n",
    "We notice that age distributions are not the smae in the survived and not survived subpopulations. Indeed, there is a peak corresponding to young passengers, that have survived.\n",
    "\n",
    "So, even if \"Age\" is not correlated with \"Survived\", we can see that there is age categories of passengers that of have more or less chance to survive.\n",
    "\n",
    "It seems that very young passengers have more chance to survive."
   ]
  },
  {
   "cell_type": "code",
   "execution_count": 18,
   "metadata": {},
   "outputs": [
    {
     "data": {
      "image/png": "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\n",
      "text/plain": [
       "<Figure size 432x288 with 1 Axes>"
      ]
     },
     "metadata": {
      "needs_background": "light"
     },
     "output_type": "display_data"
    }
   ],
   "source": [
    "# Explore Age Distribution\n",
    "g = sns.kdeplot(train[\"Age\"][(train[\"Survived\"] == 0) & (train[\"Age\"].notnull())], color=\"Red\", shade = True)\n",
    "g = sns.kdeplot(train[\"Age\"][(train[\"Survived\"] == 1) & (train[\"Age\"].notnull())], ax = g, color=\"Blue\", shade = True)\n",
    "g.set_xlabel(\"Age\")\n",
    "g.set_ylabel(\"Frequency\")\n",
    "g = g.legend([\"Not Survived\", \"Survived\"])"
   ]
  },
  {
   "cell_type": "markdown",
   "metadata": {},
   "source": [
    "When we superimpose the two densities, we clearly see a peak corresponsing (between 0 and 5) to babies and very young childrens."
   ]
  },
  {
   "cell_type": "markdown",
   "metadata": {},
   "source": [
    "## Fare"
   ]
  },
  {
   "cell_type": "code",
   "execution_count": 19,
   "metadata": {},
   "outputs": [
    {
     "data": {
      "text/plain": [
       "1"
      ]
     },
     "execution_count": 19,
     "metadata": {},
     "output_type": "execute_result"
    }
   ],
   "source": [
    "dataset[\"Fare\"].isnull().sum()"
   ]
  },
  {
   "cell_type": "code",
   "execution_count": 20,
   "metadata": {},
   "outputs": [],
   "source": [
    "# Fill Fare missing values with the median value\n",
    "dataset[\"Fare\"] = dataset[\"Fare\"].fillna(dataset[\"Fare\"].median())"
   ]
  },
  {
   "cell_type": "markdown",
   "metadata": {},
   "source": [
    "Since we have one missing value, I decided to fill it with the median value which will not have an important effect on the prediction."
   ]
  },
  {
   "cell_type": "code",
   "execution_count": 21,
   "metadata": {},
   "outputs": [
    {
     "data": {
      "image/png": "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\n",
      "text/plain": [
       "<Figure size 432x288 with 1 Axes>"
      ]
     },
     "metadata": {
      "needs_background": "light"
     },
     "output_type": "display_data"
    }
   ],
   "source": [
    "# Explore Fare Distribution\n",
    "g = sns.distplot(dataset[\"Fare\"], color=\"m\", label = \"Skewness : %.2f\"% (dataset[\"Fare\"].skew()))\n",
    "g = g.legend(loc=\"best\")"
   ]
  },
  {
   "cell_type": "markdown",
   "metadata": {},
   "source": [
    "As we can see, fare distribution is very skewed. This can lead to overweight very high values in the model, even if it is scaled.\n",
    "\n",
    "It this case, it is better to transform it with the __log function__ to reduce this skew."
   ]
  },
  {
   "cell_type": "markdown",
   "metadata": {},
   "source": [
    "### *How to transform with the log function"
   ]
  },
  {
   "cell_type": "code",
   "execution_count": 22,
   "metadata": {},
   "outputs": [],
   "source": [
    "# Apply log to Fare to reduce skewness distribution\n",
    "dataset[\"Fare\"] = dataset[\"Fare\"].map(lambda i: np.log(i) if i > 0 else 0)"
   ]
  },
  {
   "cell_type": "code",
   "execution_count": 23,
   "metadata": {},
   "outputs": [
    {
     "data": {
      "image/png": "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\n",
      "text/plain": [
       "<Figure size 432x288 with 1 Axes>"
      ]
     },
     "metadata": {
      "needs_background": "light"
     },
     "output_type": "display_data"
    }
   ],
   "source": [
    "g = sns.distplot(dataset[\"Fare\"], color = \"b\", label = \"Skewness : %.2f\"%(dataset[\"Fare\"].skew()))\n",
    "g = g.legend(loc=\"best\")"
   ]
  },
  {
   "cell_type": "markdown",
   "metadata": {},
   "source": [
    "#### Skewness is clearly reduced after the log transformation"
   ]
  },
  {
   "cell_type": "markdown",
   "metadata": {},
   "source": [
    "## 3.2 Categorical values"
   ]
  },
  {
   "cell_type": "markdown",
   "metadata": {},
   "source": [
    "## Sex"
   ]
  },
  {
   "cell_type": "code",
   "execution_count": 24,
   "metadata": {},
   "outputs": [
    {
     "data": {
      "image/png": "iVBORw0KGgoAAAANSUhEUgAAAYoAAAEPCAYAAABcA4N7AAAABHNCSVQICAgIfAhkiAAAAAlwSFlzAAALEgAACxIB0t1+/AAAADl0RVh0U29mdHdhcmUAbWF0cGxvdGxpYiB2ZXJzaW9uIDMuMC4yLCBodHRwOi8vbWF0cGxvdGxpYi5vcmcvOIA7rQAAF+9JREFUeJzt3Xu0XVV96PHvSQiPEEGwwTzASov8rogSQgSuhauYyPCmItIEiwk6kErKrZTrzbVca1IeWrQiVmyNSIWSVjmlDLSoGBg2JiAUYnjIQ9DfiJVSkpwImGgh4Z3cP9Y+7coxWWftE9Y+OznfzxgZe8+15pr7dzJO9i9zrjXn7NmyZQuSJG3PqOEOQJLU3UwUkqRKJgpJUiUThSSpkolCklTJRCFJqmSikCRVMlFIkiqZKCRJlUwUkqRKJgpJUqXdhjuAoYiIPYA3A33AS8McjiTtLEYDE4G7MvO5uhftlImCIkncNtxBSNJO6njg9rqVd9ZE0QdwzTXXMGHChOGORZJ2CuvWrWPu3LnQ+g6ta2dNFC8BTJgwgQMPPHC4Y5GknU1bQ/bezJYkVTJRSJIqNTr0FBFzgIXAGOCyzFw04PxU4Apgd+Ax4PTM/GWTMUmS2tNYjyIiJgMXA8cBU4B5EXHYgGpfAM7PzCOABD7aVDySpKFpcuhpBrAsM9dn5kbgemD2gDqjgX1a78cCzzQYjyRpCJoceprE1o9g9QFHD6gzH/huRFwGbASOaTAeSdIQNNmjGAVsKZV7gM39hYjYC7gKmJGZE4EvAX/fYDySdjIrVqxg/vz5rFixYrhDGdGa7FGsppj9128CsLZUPhx4JjNXtspXAJ9sMB5JO5nFixezatUqNm3axLHHHjvc4YxYTfYolgLTI2J8RIwFZgE3l87/FDgoIqJVPhm4q8F4JO1kNm3atNWrhkdjiSIz1wALgOXAfUBvZq6MiCURMS0zNwBnANdFxAPAmcAHm4pHkjQ0jc6jyMxeoHfAsZml9zcBNzUZgyRpxzgzW5JUyUQhSapkopAkVTJRSJIqmSgkSZVMFJKkSiYKSVIlE4UkqZKJQupCm198YbhDUBcart+LRmdmSxqaUbuN4Z5LPjTcYQy75zb8/D9f/fuAo867clg+1x6FJKmSiUKSVMlEIUmqZKKQJFUyUUiSKpkoJEmVTBSSpEqNzqOIiDnAQmAMcFlmLiqdmwIsLlUfD2zIzMObjEmS1J7GEkVETAYuBo4CngPuiIjlmfkwQGbeB0xp1R0LrATObioeSdLQNDn0NANYlpnrM3MjcD0wezt1/xS4NTNvbzAeSdIQNDn0NAnoK5X7gKMHVoqIfYF5wBsbjEWSNERN9ihGAVtK5R5g8zbqnQ7ckJmPNxiLJGmImkwUq4GJpfIEYO026r0HuLbBOCTtpPbYbdRWrxoeTf7tLwWmR8T41s3qWcDN5QoR0UNxs/vOBuOQtJM68ZD9+K399uTEQ/Yb7lBGtMYSRWauARYAy4H7gN7MXBkRSyJiWqvaeOD5zHy2qTgk7bxeP34sZx89kdePHzvcoYxojc6jyMxeoHfAsZml949TDElJkrqUA3+SpEomCklSJROFJKmSiUKSVMlEIUmqZKKQJFUyUUiSKpkoJEmVTBSSpEomCklSJROFJKmSiUKSVMlEIUmqZKKQJFUyUUiSKpkoJEmVTBSSpEqN7nAXEXOAhcAY4LLMXDTgfABXAPsB64DTMnNDkzFJktrTWI8iIiYDFwPHAVOAeRFxWOl8D/At4C8y8wjgh8DHmopHkjQ0gyaKiDip9aXerhnAssxcn5kbgeuB2aXzU4GNmXlzq/wpYBGSpK5Sp0dxLvBIRCyMiAlttD0J6CuV+4ADS+VDgHURcVVE3AtcDjzdRvuSpA4YNFFk5juA6cA44AcRcV1EvL1m21tK5R5gc6m8G/A24PLMnAr8DPjLmnFLkjqk1j2KzPxXYAEwH5gGXBsRD0bEmysuWw1MLJUnAGtL5XXAqsy8u1X+B+DouoFLkjqjzj2KQyLiM8BjwFnARyi+9OcB11VcuhSYHhHjI2IsMAu4uXT+DmB8RBzRKp8E3NP+jyBJalKdx2NXAouBt2bmqtLxOyPi1u1dlJlrImIBsBzYHbgyM1dGxBLg/My8OyJOAb4SEXtT9EDeP9QfRJLUjDqJ4pzM7C0fiIj3Z+ZXM/OMqgtb1/UOODaz9P4HONwkSV1tu4kiIk6imCj3yYh4huJmNK1jFwFfbT48SdJwq+pRTAHeDhxA8YhsvxeBzzcZlCSpe2w3UWTmJyl6E3+UmV/qYEySpC5SNfR0emZ+DdgrIuYPPJ+ZznmQpBGgaujpda3XwzsRiCSpO1UNPV3Qev1g58KRJHWbqqGnB9l6CY6tZOabGolIktRVqoaezulYFJKkrlW1hMfPM/NW4Knt/JEkjQBVPYpLgXcBX9/GuS3AbzUSkSSpq1TdzH5X6/XgzoUjSeo2g6711FqwbyHwDuAFYAnwmcx8vuHYJEldoM5+FF+i2JnuPODPKOZV/FWTQUmSuked1WOPLD8KGxHLgfubC0mS1E3q9Cg2RMT+pfI44JcNxSNJ6jJVE+76h5deAO6JiG8ALwHvBh7uQGySpC5QNfT0i9brba0//f6huXAkSd2m6vHYi7Z3rvUk1KAiYg7FE1NjgMsyc9GA8xcAZwIbWoe+MrCOJGl41Xk89mTgExT3JnqA0cD+wCsGuW4ycDFwFPAccEdELM/M8rDVNOC0zLxzaOFLkppW52b2pcCngH8H/gi4GfhyjetmAMsyc31mbgSuB2YPqDMN+HhEPBARX4yIPeuHLknqhDqJYmNm/iOwAngW+F8US3sMZhLQVyr3UczHACAixgE/BP4EmAq8kmKehiSpi9RJFM9GxB7AT4EpmbmZiuXHB7RdrtcDbO4vZObTmTkzM3+SmS8CnwNm1g9dktQJdRLFt4DvUAw5zY+IrwNP1rhuNTCxVJ4ArO0vRMRrIuLM0vkeikdxJUldZNBEkZmfAs7MzDXAycD3+fV7DduyFJgeEeMjYiwwiyLZ9HsGuCQiDo6IHuDDwD+1+wNIkppVp0cB8PqIuBR4L3BfZj4+2AWtxLIAWA7cB/Rm5sqIWBIR0zLzCeAPgW8DSdGj+NxQfghJUnPqPB77ceB0iqeWRgFfiYgv1JnvkJm9QO+AYzNL77/Otve7kCR1iTqLAs4BjsnMpwAi4nPA7YAT4yRpBKgz9PQM8HR/ITM3UDwmK0kaAaoWBfy91tsEboiIKykWBfwAcHcHYpMkdYGqoac/HlCeX3p/QAOxSJK6UNWigCeUyxGxG9CTmc51kKQRZNB7FBFxQETcBGykmKW9LCImNR+aJKkb1LmZ/UWKdZ5eTTHkdBtweZNBSZK6R53HYw/NzPeWyhdExENNBSRJ6i51ehRjyst/t5bjqLMooCRpF1CnR3EtsDQirqZIEGdSzNKWJI0AgyaKzPxkRKwG3kmxu91i4KqG45IkdYk6az19LzOnA1d3IB5JUpepc4/ilRGxd+ORSJK6Up17FBuBRyPiAbZe8+ndjUUlSeoadRKF9yMkaQSrTBQRcTjwFPCD1kZEkqQRZrv3KCLigxTbnv4/4P6IOLFjUUmSukbVzexzgcMz8xjgJOBj7TYeEXMi4uGIWBURH66o97sR8Ui77UuSmlf51FNmrm293gmMb6fhiJgMXAwcB0wB5kXEYduo92rgUoo9syVJXaYqUQxcpuPFNtueASzLzPWZuZFiNvfsbdS7EriozbYlSR1SZx5Fv3bXd5oE9JXKfcCB5QoRcS5wL8XqtJKkLlT11NObIuI/SuWxrXIPsCUz9xmk7VFsnVx6gM39hdYTVbOA6QxIIJKk7lGVKH57B9teDRxfKk8A1pbKpwITKfbf3h2YFBG3ZWb5GknSMKvaCvXRHWx7KXBhRIynmN09C5hXav8C4AKAiHgtcItJQpK6Tzv3KNrSmqC3AFgO3Af0ZubKiFgSEdOa+lxJ0surzhIeQ5aZvUDvgGMzt1Hv34DXNhmLJGloGutRSJJ2DdvtUUTEg1Q8EpuZb2okIklSV6kaejqnY1FIkrpW1VNPt/a/j4j9gb0p5kKMBg5pPjRJUjeosxXqJ4A/bRVfpJjz8DDwxgbjkiR1iTo3sz8AvIZirabXAWcADzUYkySpi9RJFI9nZh/wY+CIzPwq9iYkacSokyheiIjfBhI4PiJ2A/ZsNixJUreokyg+DfwNcCPwe8BjwLImg5IkdY86M7Nvy8wbASJiCsV9igcajUqS1DXqJIpHIuJG4CuZeRtwf8MxSZK6SJ1EcTDwPuDSiNiXYke6v8vMJxqNTJLUFQa9R5GZv8rML2fmMcDvU2xn+ljjkUmSukKt1WMjYirF/IlTgbtar5KkEaDOzOwHKJbvuBo4KjPXDnKJJGkXUqdH8X8z858bj0SS1JWqlhk/LzMvAd4dEScNPJ+Z5zYamSSpK1T1KH7Ven1yqI1HxBxgITAGuCwzFw04fwpwEcWKtHcB8zLz+aF+niTp5Ve1zPgVrbfrKPa7fqqdhiNiMnAxcBTwHHBHRCzPzIdb5/cGvghMzcyfR8S1FDfM/6btn0KS1Jg6S3icAPwsIq6KiP/eRtszgGWZuT4zN1KsPju7/2Tr2GtbSWIscACwoY32JUkdUGcexWnAocA9wBci4kcR8b9rtD0J6CuV+4ADB7T9QkT8T4p5Gb8BfLdu4JKkzqjToyAzN1AMCX0aeBr4WM22y3tu9wCbt9H2TZn5KopFBy+vE48kqXMGTRQRcWRE/DWwGjgLuAQ4qEbbq4GJpfIE4D/nYETE/hFxYun8NcCb6gQtSeqcOvMovglcBRydmf/eRttLgQsjYjywEZgFzCud7wG+FhHTWu2eCtzeRvuSpA6okyhuz8yL2m04M9dExAJgOcU+21dm5sqIWAKcn5l3R8Q84MaI2EKxD/fZ7X6OJKlZdRLFGyKiJzO3DF51a5nZC/QOODaz9P4G4IZ225UkdU6dRNEHPBQRKyhuZAPOzJakkaJOoriz9UeSNAINmiiGcn9CkrTrqLPM+INsPR8CgMz0UVZJGgHqDD2dU3q/O3Aa8LNmwpEkdZs6Q0+3lssRsRS4g2LBP0nSLq7WEh4DvIpiHSdJ0gjQ7j2KHuA1wBXbv0KStCtp9x7FFuCJzPxxQ/FIkrpM5dBTRPQA/9K6T3EvxVLgL3YiMElSd9huooiIw4BHgHdGxF7ASoob2LdExDs6FJ8kaZhV9Sg+CyzIzBspHontAd4AHAtc2HxokqRuUJUoXpOZ17TenwDckJmbM/MxYN/mQ5MkdYOqRPFS6f1bgO+Xyns2E44kqdtUJYr1EXFERBxHsVPdrQAR8RZgTSeCU2esWLGC+fPns2LFiuEORVIXqno89uMUu9TtC5yXmRsj4qPAAuA9nQhOnbF48WJWrVrFpk2bOPbYY4c7HEldZruJIjNXRMRkYGxm/rJ1+A6KLVFXdSQ6dcSmTZu2epWkssoJd5n5PPB8qXxHO41HxBxgITAGuCwzFw04fzJwEcUTVY8AH8zMDe18hiSpWUNZ66mWVm/kYuA4YAowrzU3o//8PsDlwO9m5hHAA/jYrSR1ncYSBTADWJaZ6zNzI3A9MLt0fgzw4czsvzH+AMU6UpKkLlJnraehmkSx33a/PuDo/kJm/gL4J4DWzO+PAX/dYDySpCFoskcxiq13xusBNg+sFBH7At8B7s/Mv2swHknSEDSZKFZTzL/oNwFYW64QEROB2yiGnT7UYCySpCFqcuhpKXBhRIwHNgKzgHn9JyNiNPBt4LrM/PMG45Ak7YDGEkVmromIBcByir22r8zMlRGxBDgfOAiYCuwWEf03ue/OzI71LJ5/4SV2HzO6Ux+nnYS/F9LWmuxRkJm9QO+AYzNbb++m2aGvQe0+ZjRzzrtm8Iq7uCeffAqAdU8+5d8H0HvJ3OEOQeoqw/pFLUnqfiYKSVIlE4UkqZKJQpJUyUQhSapkopAkVTJRiJ7RY7Z6laQyE4UYN2kqY8ZNYNykqcMdiqQu1OiEO+0c9tj3IPbY96DhDkNSl7JHIUmqZKKQJFUyUUiSKpkoJEmVTBSSpEomCklSJROFJKmSiUKSVMlEIUmq1OjM7IiYAywExgCXZeai7dT7e2BZZi5uMh5JUvsa61FExGTgYuA4YAowLyIOG1BnUkR8G5jdVBySpB3T5NDTDIpewvrM3Ahcz68nhLnAN4HrGoxDkrQDmhx6mgT0lcp9wNHlCpn5WYCIOK7BOCRJO6DJHsUoYEup3ANsbvDzJEkNaDJRrAYmlsoTgLUNfp4kqQFNDj0tBS6MiPHARmAWMK/Bz5MkNaCxHkVmrgEWAMuB+4DezFwZEUsiYlpTnytJenk1Oo8iM3uB3gHHZm6j3hlNxiFJGjpnZkuSKpkoJEmVTBSSpEomCklSJROFJKmSiUKSVMlEIUmqZKKQJFUyUUiSKpkoJEmVTBSSpEomCklSJROFJKmSiUKSVMlEIUmqZKKQJFUyUUiSKjW6w11EzAEWAmOAyzJz0YDzU4ArgX2A7wNnZ+aLTcYkSWpPYz2KiJgMXAwcB0wB5kXEYQOqfQ04JzMPBXqAs5qKR5I0NE32KGYAyzJzPUBEXA/MBj7RKv8msFdmrmjVXwxcBFxeo+3RAOvWrdvhIJ/b9MsdbkO7ltWrVw93CAA88dSzwx2CusyO/m6WvjNHt3Ndk4liEtBXKvcBRw9y/sCabU8EmDt37o7EJ23T9H/+q+EOQdq266a/XC1NBP61buUmE8UoYEup3ANsbuN8lbuA4ymSy0s7EKMkjSSjKZLEXe1c1GSiWE3xZd5vArB2wPmJFee3KzOfA27f0QAlaQSq3ZPo1+TjsUuB6RExPiLGArOAm/tPZuajwLMR8TutQ+8HbmowHknSEDSWKDJzDbAAWA7cB/Rm5sqIWBIR01rV5gKfj4ifAOMAB4clqcv0bNmyZfBakqQRy5nZkqRKJgpJUiUThSSpkolCklTJRKFtioh/i4jXDncc2jVExN9GxM8i4n0NtL04Is54udvVf2l09VhJajkD2DMznx/uQNQ+E8UuLCLeRjGX5XngYOBbwNPAeyiWTJkJnEox2XHvVr33ZWaW2hgNfBZ4G8X0/8WZ+fmO/RDa6UXEtyh+31ZGxF8CH6EYzbgH+HBmPhsR64AbgGOAdcDfAudSrP92RmbeGhFvpViReizwSuD/ZOY3B3zWB7bVfgd+zF2aQ0+7vmOAs4FpwDnAE5k5DXgAOI0iabwtMw8HbmzVKTsLIDOnUizqeHJEHI9UU2a+u/V2LsXv01sycwrwOPDR1rlXAzdl5pHAnsApmXk8cCHFFz/AHwMfav0ufgj48/LnRMQbKtrXDrBHsev7UWY+BhARTwLfax1/FNgPmAOcFhGHAu+kmEVfNgOYEhFvb5XHAW8Ebms6cO1yTgBeB6yICIDdgXtL5/uX8HmU/1rLrf/3FOB04F0RcSpwLMXvYjvta4hMFLu+gWPC5R0EDwLuBL5I8Y90HXDkgPqjgfMy8xsAEfEbFMNXUrtGA9dl5rkAETGO0nfQgPsX29rp8jaKJYFuofgPT2877WvoHHoa2d4M/LR1z+Eu4BR+fUOTZcBZETGm9Q/vdor/zUntugU4JSIOiIgeik3KPlJ9SSEi9gcOBc6n+E/Nyfz67+qQ21c1E8XI9l1gVEQ8TNFF/wnFTe+yLwOrgB8CdwNXZ+YtnQxSu4bMvJ9iF8tlwEMUX/R/UfPa9cBVret+DLwCGBsRe78c7auaiwJKkirZo5AkVTJRSJIqmSgkSZVMFJKkSiYKSVIlJ6NIbYqIY4FPA6+i+M/WY8BHM/OhYQ1MaoiPx0ptiIg9gDXAiZl5b+vY6cCngIMz86XhjE9qgj0KqT39K5eW1xm6BvgPYHREzAQWUqwztImip3FnRFwN7J2Z720tXrcceGtm/riz4Uvts0chtSki5lOsXLoO+BeKL/1rgcnANyhW4/1FKyEsBQ5pXXovRc/jT4BPZ+Y1nY5dGgoThTQEEfEK4K3A/6BYdwjgS8CfAatLVccDMzPz/og4EvgB8NXM/INOxivtCIeepDZExO9Q7HfwWYr9O26MiI8DPwL2Ab6Xmb9fqn8QsLa/CPwCODIidne3N+0sfDxWas8TwMKIOK50bCKwL8UOgidGxH8DaN2veADYq7X/+BeAd1AsvviZTgYt7QiHnqQ2RcQJFKuUHgg8C/wKuCgzb25tqrOAYuvPFymWub6TYi+Fr2fmpRGxH/Ag8IeZ+Z3h+BmkdpgoJEmVHHqSJFUyUUiSKpkoJEmVTBSSpEomCklSJROFJKmSiUKSVMlEIUmq9P8BHzJyyg2hCCYAAAAASUVORK5CYII=\n",
      "text/plain": [
       "<Figure size 432x288 with 1 Axes>"
      ]
     },
     "metadata": {
      "needs_background": "light"
     },
     "output_type": "display_data"
    }
   ],
   "source": [
    "g = sns.barplot(x=\"Sex\", y=\"Survived\", data=train)\n",
    "g = g.set_ylabel(\"Survival Probability\")"
   ]
  },
  {
   "cell_type": "code",
   "execution_count": 25,
   "metadata": {},
   "outputs": [
    {
     "data": {
      "text/html": [
       "<div>\n",
       "<style scoped>\n",
       "    .dataframe tbody tr th:only-of-type {\n",
       "        vertical-align: middle;\n",
       "    }\n",
       "\n",
       "    .dataframe tbody tr th {\n",
       "        vertical-align: top;\n",
       "    }\n",
       "\n",
       "    .dataframe thead th {\n",
       "        text-align: right;\n",
       "    }\n",
       "</style>\n",
       "<table border=\"1\" class=\"dataframe\">\n",
       "  <thead>\n",
       "    <tr style=\"text-align: right;\">\n",
       "      <th></th>\n",
       "      <th>Survived</th>\n",
       "    </tr>\n",
       "    <tr>\n",
       "      <th>Sex</th>\n",
       "      <th></th>\n",
       "    </tr>\n",
       "  </thead>\n",
       "  <tbody>\n",
       "    <tr>\n",
       "      <th>female</th>\n",
       "      <td>0.747573</td>\n",
       "    </tr>\n",
       "    <tr>\n",
       "      <th>male</th>\n",
       "      <td>0.190559</td>\n",
       "    </tr>\n",
       "  </tbody>\n",
       "</table>\n",
       "</div>"
      ],
      "text/plain": [
       "        Survived\n",
       "Sex             \n",
       "female  0.747573\n",
       "male    0.190559"
      ]
     },
     "execution_count": 25,
     "metadata": {},
     "output_type": "execute_result"
    }
   ],
   "source": [
    "train[[\"Sex\", \"Survived\"]].groupby('Sex').mean()"
   ]
  },
  {
   "cell_type": "markdown",
   "metadata": {},
   "source": [
    "It is clearly obvious that male have less chance to survive than female.\n",
    "\n",
    "So sex, might play an important role in the prediction of the survival.\n",
    "\n",
    "For those who have seen the Titanic movie (1997), I am sure, we all remember this sentence during the evauation: \"Women and children first\"."
   ]
  },
  {
   "cell_type": "markdown",
   "metadata": {},
   "source": [
    "## Pclass"
   ]
  },
  {
   "cell_type": "code",
   "execution_count": 26,
   "metadata": {},
   "outputs": [
    {
     "name": "stderr",
     "output_type": "stream",
     "text": [
      "/Users/heojeong-wook/anaconda3/lib/python3.7/site-packages/seaborn/categorical.py:3666: UserWarning: The `factorplot` function has been renamed to `catplot`. The original name will be removed in a future release. Please update your code. Note that the default `kind` in `factorplot` (`'point'`) has changed `'strip'` in `catplot`.\n",
      "  warnings.warn(msg)\n",
      "/Users/heojeong-wook/anaconda3/lib/python3.7/site-packages/seaborn/categorical.py:3672: UserWarning: The `size` paramter has been renamed to `height`; please update your code.\n",
      "  warnings.warn(msg, UserWarning)\n"
     ]
    },
    {
     "data": {
      "image/png": "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\n",
      "text/plain": [
       "<Figure size 432x432 with 1 Axes>"
      ]
     },
     "metadata": {
      "needs_background": "light"
     },
     "output_type": "display_data"
    }
   ],
   "source": [
    "# Explore Pclass vs Survived\n",
    "g = sns.factorplot(x=\"Pclass\", y=\"Survived\", data=train, kind=\"bar\", size = 6, palette = \"muted\")\n",
    "g.despine(left=True)\n",
    "g = g.set_ylabels(\"Survival probability\")"
   ]
  },
  {
   "cell_type": "code",
   "execution_count": 27,
   "metadata": {},
   "outputs": [
    {
     "name": "stderr",
     "output_type": "stream",
     "text": [
      "/Users/heojeong-wook/anaconda3/lib/python3.7/site-packages/seaborn/categorical.py:3666: UserWarning: The `factorplot` function has been renamed to `catplot`. The original name will be removed in a future release. Please update your code. Note that the default `kind` in `factorplot` (`'point'`) has changed `'strip'` in `catplot`.\n",
      "  warnings.warn(msg)\n",
      "/Users/heojeong-wook/anaconda3/lib/python3.7/site-packages/seaborn/categorical.py:3672: UserWarning: The `size` paramter has been renamed to `height`; please update your code.\n",
      "  warnings.warn(msg, UserWarning)\n"
     ]
    },
    {
     "data": {
      "image/png": "iVBORw0KGgoAAAANSUhEUgAAAe4AAAGoCAYAAACAFgYnAAAABHNCSVQICAgIfAhkiAAAAAlwSFlzAAALEgAACxIB0t1+/AAAADl0RVh0U29mdHdhcmUAbWF0cGxvdGxpYiB2ZXJzaW9uIDMuMC4yLCBodHRwOi8vbWF0cGxvdGxpYi5vcmcvOIA7rQAAHYlJREFUeJzt3XuYXVWZ5/Fv5YbBGJQe7nLrNnkZBImIISJoFJxRLtLKpWm8dOwGxhbQ7pixtWEQsGl7lFHQRqUFLfsSbQYdr2ArchdrEJWAgK9xBCSQoFy0JRVMQjJ/7FP0SaXq1K5Qu05W1ffzPHnOWWdfznue+uOXtfbea/Vs3LgRSZJUhindLkCSJNVncEuSVBCDW5KkghjckiQVxOCWJKkgBrckSQUxuCVJKojBLUlSQQxuSZIKYnBLklQQg1uSpIJM63YBz4CTrEtSuXq6XUCp7HFLklQQg1uSpIIY3JIkFcTgliSpIAa3JEkFMbglSSqIwS1JUkEMbkmSCmJwS5JUEINbkqSCGNySJBXE4JYkqSAGtyRJBTG4JUkqSOPLekbEbOAW4OjMvG/QtnnAZcBs4Ebg7Zm5vumaJEkqVaM97og4GLgZmDvMLv8MnJGZc6nWZj21yXokSSpd00PlpwKnAw8N3hARewIzM7Ov9VEvcELD9aiDvr4+Fi9eTF9f38g7S5K6otGh8sw8BSAihtq8K7Cyrb0SeH6T9aiz3t5eli9fTn9/PwsWLOh2OZKkIXTz5rQpwMa2dg+woUu1COjv79/kVZK09elmcK8Admlr78wQQ+qSJOk/dC24M/N+4MmIeHnro7cAV3erHkmSSjDuwR0RV0XEQa3mm4CPRsRPgFnAx8a7HkmSStL4c9wAmblX2/sj294vA+aPRw2SJE0EzpwmSVJBDG5JkgpicEuTkJPtSOUal2vckrYuTrYjlcsetzQJOdmOVC6DW5Kkghjchdmwfm23S3jGJsJvkKRu8Rp3YaZMm8FPL1zUyLnXPf7w069NfQfA3CW9jZ1bkiY6e9ySJBXE4JYkqSAGtyRJBTG4JUkqiMEtSVJBDG5JkgpicEuSVBCDW5KkghjckiQVxOCWJKkgBrckSQUxuCVJKojBLUlSQQxuPW2baT2bvEqStj4Gt552zJztmLv9NhwzZ7tulyImxrrlE+E3SFsb1+PW0/bfcSb77ziz22WoxbXXJQ3FHrckSQUxuCVJKojBLUlSQQxuSZIKYnBLklQQg1uSpIIY3JIkFcTgliSpIAa3JEkFMbglSSqIwS1JUkEMbkmSCmJwS5JUEINbkqSCGNySJBXE4JYkqSAGtyRJBTG4JUkqiMEtSVJBDG5JkgpicEuSVBCDW5qEtpnWs8mrpHIY3NIkdMyc7Zi7/TYcM2e7bpciaZSmdbsASeNv/x1nsv+OM7tdhqQtYI9bkqSCGNySJBXE4JYkqSAGtyRJBTG4JUkqiMEtSVJBDG5JkgpicEuSVBCDW5KkghjckiQVxOCWJKkgBrckSQUxuCVJKojBLUlSQRpd1jMiTgbOBqYDF2XmJYO2HwhcCswAHgDenJm/brImSZJK1liPOyJ2Ay4ADgXmAadFxL6DdrsYOCczDwASWNJUPZIkTQRNDpUfAVybmY9l5mrgSuD4QftMBWa33m8LrGmwHkmSitfkUPmuwMq29kpg/qB9FgPfioiLgNXAwQ3WI0lS8ZrscU8BNra1e4ANA42ImAlcDhyRmbsAnwD+scF6JEkqXpPBvQLYpa29M/BQW3s/YE1m3tpqXwosbLAeSZKK12RwXwMcHhE7RMS2wHHAN9u2/wzYPSKi1T4W+H6D9UiSVLzGgjszHwTOAq4DbgeWZuatEXFVRByUmY8Di4ArIuIO4E+BtzVVjyRJE0Gjz3Fn5lJg6aDPjmx7fzVwdZM1SJI0kThzmiRJBTG4JUkqiMEtSVJBDG5JkgpicEuSVBCDW5KkghjckiQVxOCWJKkgBrckSQUxuCVJKojBLUlSQQxuSZIKYnBLklQQg1uSpIIY3JIkFcTgliSpIAa3JEkFMbglSSqIwS1JUkEMbkmSCmJwS5JUEINbkqSCGNySJBXE4JYkqSAGtyRJBTG4JUkqiMEtSVJBDG5JkgpicEuSVBCDW5KkghjckiQVxOCWJKkgBrckSQUxuCVJKojBLUlSQQxuSZIKYnBLklQQg1uSpIIY3JIkFcTgliSpIAa3JEkFMbglSSrIiMEdEb83HoVIkqSR1elx3x0R/xIRhzZejSRJ6mhajX32Ak4CLoyIZwOfBP4pM3/bZGGSJGlzI/a4M3NNZn42MxcAZwJLgIci4hKH0SVJGl+1bk6LiNdGxBeBfwW+DBwCPAB8pcHaJEnSICMOlUfE/cCjwCeAN2fmmtamOyPitCaLkyRJm6pzjfstmXlj+wcRsW9m3p2Zv99QXZIkaQjDBndEbN96+/GIWAj0tNrTgS8B+zRbmiRJGqxTj/vzwGta7x9t+3w9cGVjFUmSpGENG9yZ+V8BIuIzmfmn41eSJEkaTqeh8n0y8yfA30fEgYO3Z+YPG61MkiRtptNQ+f8CjgK+OMS2jYA3pkmSNM46DZUf1Xrde/zKkSRJnXQaKv9YpwMz851jX44kSeqk01D5ox22SZKkLug0VH7eeBYiSZJG1mmo/ObMPDQifkt1M9omMnN2o5VJkqTNdBoqP6H1ut94FCJJkkY27Opgmbmy9Xo/1fSmZwJvB/ZsfSZJksZZndXB/hp4M9U0p1OAyyLi4sy8pMaxJwNnU81vftHgYyIigEuB5wGrgJMy8/FR/wpJkiaJOutxnwwcnJnnZObZwMHAO0Y6KCJ2Ay4ADgXmAadFxL5t23uArwJ/l5kHAD8C3jv6nyBJ0uRRJ7jXAE8MNFo94idrHHcEcG1mPpaZq6l67Me3bT8QWJ2Z32y1/xYYsRcvSdJk1umu8je23ibw5Yi4DHgKeCtwW41z7wqsbGuvBOa3tV8ArIqIy4EXA/dQXUeXJEnD6HSNe3CILm57v2ONc09h08fIeoANg757IfCKzLwtIj4AfARYVOPckiRNSp0mYHnVMzz3CuCwtvbOwENt7VXA8swc6L1/Htf5liSpozp3lc8BzgBmUfWapwIvyMyXj3DoNcC5EbEDsBo4DjitbfstwA4RcUBmLgOOAX4w+p8gSRpOX18fV1xxBSeeeCILFizodjkaA3VuTlsKzAAOAe4D9gXuHOmgzHwQOAu4DrgdWJqZt0bEVRFxUGauAd4AfDoi7gJeDbx7i36FJGlIvb29LFu2jN7e3m6XojEyYo8beE5m/nlEXARcDXwMuKHOyTNzKVXwt392ZNv7/8umN6xJksZQf3//Jq8qX50e98AqYT8D9svMXzPE3OWSJKl5dXrcP2v1tj8HXB4Rs6hmQpMkSeOsTo/7z4GbMvNHwD9QXYs+rfMhkiSpCSMGd2b2A9dHxNHAvcDbMvO7jVcmSZI2M2JwR8RRVLOnvQf4H8A9EfGKpguTJEmbq3ON+wPAKzPzLoCIOJBqyPygJguTJEmbq3ONe+NAaANk5g9rHidJksZYp0VGtm+9/X5ELAE+RTXX+CLg2uZLkyRJg3UaKn+E6nntnlb7Q23bNgJLmipKkiQNrdMiIw6HS5K0lamzyMgUqt7166gmXvkW8LeZub7h2iRJ0iB1etUfpJp05WKq9bIPAS5ssihJkjS0Oo+DvRY4KDPXAUTEN4BljVYlSZKGVKfHPWUgtAEy83fAug77S5KkhtTpcd8eER8F/p7qbvIzgDsarUqSJA2pTnCfTrUG9y1Uj4b9G3Bmk0VJktSEiFgEvAuYCvwGODMzb+9qUaNUJ7jfl5mLmi5EkqQmRcTuwLuB+Zm5JiJeBnwB2Ke7lY1OneA+Gnhf04VIktSwWVSPNc8C1mTm9yLiLyJiNnAZ8AfAaqqlq9cCNwIHADsAXwUOzMwnulJ5mzrB/fOI+BZwM/B0wZn5kcaqkiRpjGXmPRFxI7AiIm4GrgI+TbXy5Rcy80uthbQuzcxXRsQngPOA/YF3bQ2hDfWC+7HW695tn21soBZJkhqVmae1brg+GjgB+DPgd8BrI+Kc1m6zW68fproZ+87MvHrcix3GiMGdmW8DiIjnAU9l5r83XpUkSWMsIl4HTMvMrwH3RMSFwG3Afwb2ycxftPbbrXXIdlRD63MjYnr7o9HdNOJz3FH5PvBL4NGIuCEi9mi+NEmSxtSTwAURsVOrvQPwHOCzwCkAEXEM1Q1rUM0SeiFwA7B4fEsdXp0JWHqpLtpvS3VB/0rg8gZrkiRpzGXmdcClwE0RcTfV481/CZwDHBARd1Jd7/5vEfEKqhvT/gE4F3hHROzZlcIHqXONe9vMvLSt/fGIOLWpgiRJakpmXgJcMsSmY4f47MWt18eBrSK0oV6P+ycRcchAIyL2A+5triRJkjScOj3uPYEbImIZsJ7qfyCrIuIOgMx8UYP1SZKkNnWC+68ar0KSJrEN69cyZdqMbpfxjEyE31CKOo+D3TAehUjSZDVl2gx+euGiRs697vGHn35t6jsA5i7pbezc2lSda9ySJGkrYXBLklQQg1uStNVYu+6pVVTTao/pv9Z5GxMR90XEXk1+x4Bhr3G3HkQfdk5y7yaXJI21GdOn7nTyOdeP+XmXnr9wp5H3KkOnm9POGLcqJEnqsohYCJxFtaTn3lRLeT4B/CHQAxxJtTDJW4Bnt/b748zMtnNMpVqcZCEwFejNzI+OZZ3DDpVn5g0D/4A7gZ9TTbzyC8B7/iVJE9HBwNuBg6g6sL/KzIOoVgk7iSrEF2bmfsDX2byTeypAZh4IzAeOjYjDxrLAER8Hi4jzgfe1muupQvtuqvVJJUmaSH6cmQ8ARMQjwHdan98PPA84GTgpIuYCrwVuH3T8EcC8iHh1qz2LKi9vGqsC69yc9lZgD6rFReYAi4C7xqoASZK2ImsHtde3vd8d+B7wXOBqqkW4egbtPxV4T2bOy8x5wALgM2NZYJ3g/mVmrgTuAQ7IzH/C3rYkafJ5KfCz1jXr7wNvoArqdtcCp0bE9IiYBdxMFd5jpk5wr4uIPwASOCwipgHPGssiJEkqwLeAKa0lQX8I/ITqJrZ2nwKWAz8CbgM+m5nXj2URdeYq/yDVeqSvBz4A/AnVBXlJksbU2nVPPdzEo1tr1z318IzpgzvHm2oF7MK29l5t788d4di92prvHH2F9dUJ7psy8+sAETGP6jr3HU0WJUmanGZMn7pzQ+dt4rRdUSe4742IrwOfzsybgGUN1yRJkoZRJ7j3Bv4YuDAitgMuAz6Xmb9qtDJJkrSZEW9Oy8zfZOanMvNg4I+A44EHGq9MkiRtpk6Pm4g4kOr57ROoboE/ocGaJEnSMOrMnHYH1ZysnwVekpkPNV6VJEkaUp0e97sz89uNV1K4vr4+rrjiCk488UQWLBjTZ+0ladLYsH7tqinTZoz542Ab1q99eMq0GY3csT7eOi3r+Z7M/BDw+og4ZvD2zGz0ObXS9Pb2snz5cvr7+w1uSdpCU6bN2OmnFy4a8/POXdJb6z8DEfEZqme5z8rMz49lDRHRC1yfmb3P5Dydety/ab0+8ky+YLLo7+/f5FWSVKRFwLMyc/Cc5VuNYYM7My9tvV0FLM3M345PSZIkjb+I+CrVoiG3RsRHgL+gevrqB8DpmflkRKwCvky1/OcqqgVE3gk8H1iUmTdExCuBC4BtqRYk+cvM/Mqg73rrUOevU2educpfBfw8Ii6PiJfVOakkSaXJzNe33r6Jal3tQ1orfP0SWNLathNwdWa+mGrdjjdk5mHAuVRBDHAmcEprTe5TgL9p/56IeGGH849oxJvTMvOkiHge1SQsF0fEtlSzqF1c90skSSrIq6im9+6LCIAZVIuKDLi69Xo/1epfA++f13r/ZuDoiDiBamWwWaM8f0d1etxk5uNUC418EHgCeG/dL5AkqTBTgSva1tSeD5wxsHHQ9e/1gw8Gbmod8wOqIfOh1uwe9vwjGTG4I+LFEfFxYAVV1/5DVIuJS5I0EV0PvCEidoyIHuCT/McweEcRsT0wFziHqmd+LJuv2b3F54d6z3F/BbgcmJ+Zv6h7YkmSRmvD+rUP1310a7TnnTJtRq19M3NZRJwHXEvVwb0d+Luaxz4WEZcDdwHrWufYNiKePRbnh3rBfXNmnlf3hJIkbammJkkZRWj3tF4vo1pUa8jtrfeL2t5fT2st78xcDCxuO+wdrdf2/Yc8fx11rnG/sNWVlyRJXVanx70SuCsi+qhuTAOcOU2SSrDNtJ5NXlW+OsH9vdY/SVJhjpmzHdfc+1uO2Ps53S5FY6TOc9xe35akQu2/40z233Fmt8vQGKqzrOedwMbBn2fmixqpSJIkDavOUHn7Q+EzgJOAnzdTjiRJ6qTOUPkN7e2IuAa4hWo2GEmSNI5qTXk6yO8Bu9bZMSJOjoi7I2J5RJzeYb+jIuLeLahFkqRJZbTXuHuAPYBLhz/i6eN2o+qVvwT4HXBLRFyXmXcP2m8n4EI2n8tVkiQNMtpr3BuBX2XmPTWOOwK4NjMfA4iIK4HjgfMH7XcZcB6jmO5NkqTJquNQeWvGtO+2rnP/EPhPDL0SylB2pZq8ZcBKqoXG28//ztZ5++oWLEnSZDZscEfEvsC9wGsjYiZwK9XQ9/UR8Zqa525/jKwH2NB2/v2A44APbEHdkiRNSp163B8GzsrMr1M9AtYDvJBqUfBza5x7BbBLW3tn4KG29gmt7bcBVwG7RsRNtSuXJGkS6nSNe4/M/JfW+1cBX87MDcADEbFdjXNfA5wbETsAq6l616cNbMzM9wPvB4iIvYDrM/Ow0f8ESZImj0497qfa3h8C3NjWftZIJ87MB4GzgOuo1hpdmpm3RsRVEXHQlhQrSdJk16nH/VhEHAA8h2pI+waAiDgEeLDOyTNzKbB00GdHDrHffcBetSqWJGkS6xTcf0013L0d8J7MXB0RS6h60X84HsVJkqRNDRvcmdnXmkRl28z8devjW4D5mbl8XKqTJEmb6DgBS2auBda2tW9pvCJJkjSsLZmrXJIkdcmkCu61654aeSdJkrZideYqnzBmTJ/Kyedc38i5H3l0DQCrHl3T2HcALD1/YWPnliRt/SZVj1uSpNIZ3JIkFcTgliSpIAa3JEkFMbglSSqIwS1JUkEMbkmSCmJwS5JUEINbkqSCGNySJBXE4JYkqSAGtyRJBTG4JUkqiMEtSVJBDG5JkgpicEuSVBCDW5KkghjckiQVxOCWJKkgBrckSQUxuCVJKojBLUlSQQxuSZIKYnBLklQQg1uSpIIY3JIkFcTgliSpIAb3GOmZOmOTV0mSmmBwj5FZeyxk+uw9mbXHwm6XIkmawKZ1u4CJYpvt57DN9nO6XYYkaYKzxy1JUkEMbkmSCmJwS5JUEINbkqSCGNySJBXE4JYkqSAGtyRJBTG4JUkqiMEtSVJBDG5JkgpicEuSVBCDW5KkghjckiQVxOCWJKkgBrckSQUxuCVJKojBLUlSQQxuaZT6+vpYvHgxfX193S5F0iQ0rdsFSKXp7e1l+fLl9Pf3s2DBgm6XI2mSscctjVJ/f/8mr5I0ngxuSZIKYnBLklQQg1uSpIIY3JIkFcTgliSpII0+DhYRJwNnA9OBizLzkkHbjwXOA3qAe4G3ZebjTdYkSVLJGutxR8RuwAXAocA84LSI2Ldt+2zgk8BRmXkAcAdwblP1SJI0ETQ5VH4EcG1mPpaZq4ErgePbtk8HTs/MB1vtO4A9GqxHkqTiNTlUviuwsq29Epg/0MjMR4H/AxARM4H3Ah9vsB5JkorXZI97CrCxrd0DbBi8U0RsB3wDWJaZn2uwHkmSitdkcK8Admlr7ww81L5DROwC3EQ1TH5Kg7VIkjQhNDlUfg1wbkTsAKwGjgNOG9gYEVOBrwFXZObfNFiHJEkTRmPBnZkPRsRZwHXADOCyzLw1Iq4CzgF2Bw4EpkXEwE1rt2WmPW9JkobR6HPcmbkUWDrosyNbb2/DCWAkSRoVg1OSpIIY3JIkFcTgliSpIAa3JEkFMbglaRh9fX0sXryYvr6+bpciPa3Ru8olqWS9vb0sX76c/v5+FixY0O1yJMAetyQNq7+/f5NXaWtgcEuSVBCDW5KkghjckiQVxODWhLN23VPdLkGSGuNd5ZpwZkyfysnnXN/Y+R95dA0Aqx5d0+j3LD1/YWPnllQue9ySJBXE4JYkqSAGtyRJBTG4JUkqiMEtSVJBDG5JxfLRP01GPg4mqVg++qfJyB63JEkFMbglSSqIwS1JUkEMbkmSCmJwS5JUEINbkqSCGNySJBXE4JYkqSAGtyRJBTG4JUkqiMEtScPomTpjk1dpa2BwS9IwZu2xkOmz92TWHgu7XYr0NBcZkaRhbLP9HLbZfk63y5A2YY9bkqSCGNzSKHndU1I3GdzSKHndU1I3eY1bGiWve0rqJnvckiQVxOCWJKkgBrckSQUxuCVJKojBLUlSQQxuSZIKYnBLklQQg1uSpIIY3JIkFcTgliSpIAa3JEkFMbglSSqIwS1JUkEMbkmSCmJwS5JUEINbkqSCGNySJBXE4JYkqSAGtyRJBTG4JUkqiMEtSVJBDG5JkgpicEuSVBCDW5KkghjckiQVxOCWJKkg05o8eUScDJwNTAcuysxLBm2fB1wGzAZuBN6emeubrEmSpJI11uOOiN2AC4BDgXnAaRGx76Dd/hk4IzPnAj3AqU3VI0nSRNBkj/sI4NrMfAwgIq4EjgfOb7X3BGZmZl9r/17gPOCTI504IqZ95zvf2aKifrf6kS06bmuxYsUKHv7tk90u4xnZdsWKxr+j9L8z+Leuy7/11mG0f+vDDz98L2CFo6yj12Rw7wqsbGuvBOaPsP35Nc/9/MMPP/yZVVeow7/e7QrGwBcm599utPxbTx6T9G99L7A3cN+Y1zLBNRncU4CNbe0eYMMotneyguoPLkkqV/NDMhNQk8G9Ajisrb0z8NCg7bt02D6s1tDKfc+wPkmSitPk42DXAIdHxA4RsS1wHPDNgY2ZeT/wZES8vPXRW4CrG6xHkqTiNRbcmfkgcBZwHXA7sDQzb42IqyLioNZubwI+GhE/AWYBH2uqHkmSJoKejRs3jryXJEnaKjhzmiRJBTG4JUkqiMEtSVJBDG5JkgpicEuSVJBGVwfT2IqI2cAtwNGZeV+Xy1FDIuL9wImt5jcy8z3drEfNiYjzqdZw2Ahcnpkf6XJJKoA97kJExMHAzcDcbtei5kTEEcB/AV5MtareSyLiDd2tSk2IiFcCrwZeBBwEnBkR0d2qVAKDuxynAqdTc1pYFWsl8O7MXJuZ64B7gD26XJMakJk3AK9qTeG8I9UI6OruVqUSOFReiMw8BcD/kE9smXnXwPuImEM1ZP7y4Y9QyTJzXUScBywB/jfwYJdLUgHscUtboYh4IfBt4L9n5vJu16PmZOb7gR2A3alG1qSODG5pK9NaeOc7wHsz83PdrkfNiIh9ImIeQGb2A1+iut4tdeRQubQViYjdgS8Df5SZ13a7HjXq94HzIuJQqrvKjwU+092SVAKDW9q6LAGeBXyk7X6GT2Xmp7pXkpqQmVdFxHzgR8BTwBcz8wtdLksFcHUwSZIK4jVuSZIKYnBLklQQg1uSpIIY3JIkFcTgliSpID4OJjUgIvYC/h9wZ9vHPcDFmTnks7oRsQg4PjOPbrxAScUyuKXmrMnMeQONiNgN+HFE3JaZd3SxLkkFM7ilcZKZD0bEcmBuRBwF/AmwHlgOLGrfNyIWAB8CtgF2Ab6dmX8WEdOAj1MtPLIO+DnwNuDJoT7PzCfG4adJGkde45bGSUS8DHgB8GyqoH5ZZu4H3AucMWj3dwHnZObBwL7A6yPiJcDLgIXAAZn5EqqAflGHzyVNMM6cJjVgiGvc04BHgP8JvA7498w8e9Axi2hd446IGcCRVKG9D/BG4ChgGXAz0A/8G/C1zLw1Ip471OdN/kZJ3eFQudScTa5xD4iI11AtKjHQfi7w3EG73QjcAXwTuAI4GOjJzF9HxAFUQ+KvBv41Ij6cmZ8Y7vMmfpik7nGoXBp/1wBvjIjZrfa5wOKBja0gfynwV5n5JeD5VEPsUyPiaKolP2/JzHOBfwReOtzn4/JrJI0re9zSOGutCrUv8N3WCmB3AacCx7W2/zoiPgj8MCJWAyuA71KF92VUQ+0/jogngMdbxz4wzOeSJhivcUuSVBCHyiVJKojBLUlSQQxuSZIKYnBLklQQg1uSpIIY3JIkFcTgliSpIP8fvQxoNS1MnTYAAAAASUVORK5CYII=\n",
      "text/plain": [
       "<Figure size 504.85x432 with 1 Axes>"
      ]
     },
     "metadata": {
      "needs_background": "light"
     },
     "output_type": "display_data"
    }
   ],
   "source": [
    "# Explore Pclass vs Survived by Sex\n",
    "g = sns.factorplot(x=\"Pclass\", y=\"Survived\", hue=\"Sex\", data=train, size=6, kind=\"bar\", palette=\"muted\")\n",
    "g.despine(left=True)\n",
    "g = g.set_ylabels(\"Survival probability\")"
   ]
  },
  {
   "cell_type": "markdown",
   "metadata": {},
   "source": [
    "The passenger survival is not the same in the 3 classes. First class passengers have more chance to survive than second class and third class passengers.\n",
    "\n",
    "This trend is conserved when we look at both male and female passengers."
   ]
  },
  {
   "cell_type": "markdown",
   "metadata": {},
   "source": [
    "## Embarked"
   ]
  },
  {
   "cell_type": "code",
   "execution_count": 28,
   "metadata": {},
   "outputs": [
    {
     "data": {
      "text/plain": [
       "2"
      ]
     },
     "execution_count": 28,
     "metadata": {},
     "output_type": "execute_result"
    }
   ],
   "source": [
    "dataset[\"Embarked\"].isnull().sum()"
   ]
  },
  {
   "cell_type": "code",
   "execution_count": 29,
   "metadata": {},
   "outputs": [],
   "source": [
    "# Fill Embarked nan values of dataset set with 'S' most frequent value\n",
    "dataset[\"Embarked\"] = dataset[\"Embarked\"].fillna(\"S\")"
   ]
  },
  {
   "cell_type": "markdown",
   "metadata": {},
   "source": [
    "Since we have two missing values, I decided to fill them with the most frequent value of \"Embarked\" (S)."
   ]
  },
  {
   "cell_type": "code",
   "execution_count": 30,
   "metadata": {},
   "outputs": [
    {
     "name": "stderr",
     "output_type": "stream",
     "text": [
      "/Users/heojeong-wook/anaconda3/lib/python3.7/site-packages/seaborn/categorical.py:3666: UserWarning: The `factorplot` function has been renamed to `catplot`. The original name will be removed in a future release. Please update your code. Note that the default `kind` in `factorplot` (`'point'`) has changed `'strip'` in `catplot`.\n",
      "  warnings.warn(msg)\n",
      "/Users/heojeong-wook/anaconda3/lib/python3.7/site-packages/seaborn/categorical.py:3672: UserWarning: The `size` paramter has been renamed to `height`; please update your code.\n",
      "  warnings.warn(msg, UserWarning)\n"
     ]
    },
    {
     "data": {
      "image/png": "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\n",
      "text/plain": [
       "<Figure size 432x432 with 1 Axes>"
      ]
     },
     "metadata": {
      "needs_background": "light"
     },
     "output_type": "display_data"
    }
   ],
   "source": [
    "# Explore Embarked vs Survived\n",
    "g = sns.factorplot(x=\"Embarked\", y=\"Survived\", data = train, size = 6, kind = \"bar\", palette = \"muted\")\n",
    "g.despine(left=True)\n",
    "g = g.set_ylabels(\"Survival probability\")"
   ]
  },
  {
   "cell_type": "markdown",
   "metadata": {},
   "source": [
    "It seems that passenger coming from Cherbourg (C) have more chance to survive.\n",
    "\n",
    "My hypothesis is that the propotion of first class passengers is higher for those who came from  Cherbourg than Quenstown (Q), Southampton (S).\n",
    "\n",
    "Let's see the Pclass distribution vs Embarked"
   ]
  },
  {
   "cell_type": "code",
   "execution_count": 31,
   "metadata": {},
   "outputs": [
    {
     "name": "stderr",
     "output_type": "stream",
     "text": [
      "/Users/heojeong-wook/anaconda3/lib/python3.7/site-packages/seaborn/categorical.py:3666: UserWarning: The `factorplot` function has been renamed to `catplot`. The original name will be removed in a future release. Please update your code. Note that the default `kind` in `factorplot` (`'point'`) has changed `'strip'` in `catplot`.\n",
      "  warnings.warn(msg)\n",
      "/Users/heojeong-wook/anaconda3/lib/python3.7/site-packages/seaborn/categorical.py:3672: UserWarning: The `size` paramter has been renamed to `height`; please update your code.\n",
      "  warnings.warn(msg, UserWarning)\n"
     ]
    },
    {
     "data": {
      "image/png": "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\n",
      "text/plain": [
       "<Figure size 1296x432 with 3 Axes>"
      ]
     },
     "metadata": {
      "needs_background": "light"
     },
     "output_type": "display_data"
    }
   ],
   "source": [
    "# Explore Pclass vs Embarked\n",
    "g = sns.factorplot(\"Pclass\", col = \"Embarked\", data = train, size = 6, kind = \"count\", palette = \"muted\")\n",
    "g.despine(left=True)\n",
    "g = g.set_ylabels(\"Count\")"
   ]
  },
  {
   "cell_type": "markdown",
   "metadata": {},
   "source": [
    "Indeed, the third class is the most frequent for passenger coming from Southampton (S) and Queenstown(Q), whereas Cherbourg passengers are mostly in the first class which have the highest survival rate.\n",
    "\n",
    "At this point, I can't explain why 1st class has an higher survival rate. My hypothesis is that first class passengers were prioritised during the evacuation due to their influence."
   ]
  },
  {
   "cell_type": "markdown",
   "metadata": {},
   "source": [
    "# 4. Filling missing values"
   ]
  },
  {
   "cell_type": "markdown",
   "metadata": {},
   "source": [
    "## 4.1 Age\n",
    "As we see, age column contains 256 missing values in the whole dataset.\n",
    "\n",
    "Since there is subpopulations that have more chance to survive (children for example), it is preferable to keep the age feature and to impute the missing values.\n",
    "\n",
    "To address this problem, I looked at the most correlated features with Age (Sex, Parch, Pclass and SibSp)."
   ]
  },
  {
   "cell_type": "code",
   "execution_count": 32,
   "metadata": {},
   "outputs": [
    {
     "name": "stderr",
     "output_type": "stream",
     "text": [
      "/Users/heojeong-wook/anaconda3/lib/python3.7/site-packages/seaborn/categorical.py:3666: UserWarning: The `factorplot` function has been renamed to `catplot`. The original name will be removed in a future release. Please update your code. Note that the default `kind` in `factorplot` (`'point'`) has changed `'strip'` in `catplot`.\n",
      "  warnings.warn(msg)\n",
      "/Users/heojeong-wook/anaconda3/lib/python3.7/site-packages/seaborn/categorical.py:3666: UserWarning: The `factorplot` function has been renamed to `catplot`. The original name will be removed in a future release. Please update your code. Note that the default `kind` in `factorplot` (`'point'`) has changed `'strip'` in `catplot`.\n",
      "  warnings.warn(msg)\n",
      "/Users/heojeong-wook/anaconda3/lib/python3.7/site-packages/seaborn/categorical.py:3666: UserWarning: The `factorplot` function has been renamed to `catplot`. The original name will be removed in a future release. Please update your code. Note that the default `kind` in `factorplot` (`'point'`) has changed `'strip'` in `catplot`.\n",
      "  warnings.warn(msg)\n",
      "/Users/heojeong-wook/anaconda3/lib/python3.7/site-packages/seaborn/categorical.py:3666: UserWarning: The `factorplot` function has been renamed to `catplot`. The original name will be removed in a future release. Please update your code. Note that the default `kind` in `factorplot` (`'point'`) has changed `'strip'` in `catplot`.\n",
      "  warnings.warn(msg)\n"
     ]
    },
    {
     "data": {
      "image/png": "iVBORw0KGgoAAAANSUhEUgAAAWAAAAFgCAYAAACFYaNMAAAABHNCSVQICAgIfAhkiAAAAAlwSFlzAAALEgAACxIB0t1+/AAAADl0RVh0U29mdHdhcmUAbWF0cGxvdGxpYiB2ZXJzaW9uIDMuMC4yLCBodHRwOi8vbWF0cGxvdGxpYi5vcmcvOIA7rQAAFq9JREFUeJzt3X+U3XV95/HnTAaWQGCTtGiCCT+ylLfaXX4oaE+Vkl/Y4mmXUk2JoNu4SxRO/dFtY5eUuP5YbYj2pK39oS0a6CmlQwvWcqD0SCaJVkWooLIQeC89E5CQSbWdxBpjDJOZ/eN7s96NyWQS53s/d+59Ps7JyXy/93Pv5z0nN6/5zOf7uZ9vz9jYGJKk1ustXYAkdSsDWJIKMYAlqRADWJIKMYAlqRADWJIKMYAlqRADWJIKMYAlqRADWJIK6StdwERFRB8wD9iemSOl65GkH9WUCWCq8N02MDBQug5JOpKeY2nsFIQkFWIAS1IhBrAkFWIAS1IhBrAkFWIAS1IhBrAkFWIAS1IhBrAkFWIAd5jh4WFuvPFGdu3aVboUSUdR60eRI+LNwOrG4f2ZuSoiLgQ+CZwGfB643r0dJk9/fz9bt26lv7+fG264oXQ5ksZR2wg4Ik4GPgZcBlwAXBoRS4HbgXdk5nlUn5teWVcN3WZ4eJiBgQHGxsbYuHGjo2CpzdU5BTGt8fqnACc0/rwATM/MLzfa3AYsq7GGrtLf38/o6CgAo6Oj9Pf3F65I0nhqC+DM/A7wXuApYDvwDLAfGGpqNkS1y5kmwZYtWxgZqWZzRkZG2Lx5c+GKJI2nzimI84H/CpwFnAEcAF4HjDU16wFG66qh2yxcuJC+vmpav6+vj0WLFhWuSNJ46pyC+FlgIDO/mZnfp5puWAjMbWozB9hRYw1dZfny5fT2Vv+kvb29LF++vHBFksZTZwB/HVgaEadERA/wC8DngH0R8ZpGm7cA99dYQ1eZPXs2S5Ysoaenh6VLlzJr1qzSJUkaR51zwJ8F/hJ4BHiM6iLczcC1wO9GxFPADKqVEpoky5cv5+Uvf7mjX2kK6BkbGzt6qzYQEWfTuCXRvHlet5PUlrwlkSRNBQawJBViAEtSIQawJBViAEs6InfXq5cBLOmImnfX0+QzgCUdlrvr1c8AlnRY7q5XPwNY0mG5u179DGBJh+XuevUzgDuMV601Wdxdr34GcIfxqrUmi7vr1c8A7iBetdZkc3e9ehnAHcSr1ppss2fP5uabb3b0WxMDuIN41VqaWgzgDuJVa2lqMYA7iFetpanFAO4gXrWWppa+0gVoci1fvpxvfOMbjn6lKcAA7jAHr1pLan9OQUhSIQZwhxkcHOTqq69m27ZtpUuRdBQGcIdZt24de/fuZd26daVLkXQUBnAHGRwcZMeOHQA8//zzjoKlNmcAd5BDR72OgqX2VtsqiIi4DnhH06lzgD8HPgOsB6YDd2bmmrpq6DYHR78HPf/884UqkTQRtY2AM/OTmXlhZl4IXAt8E1gHbACuBF4GXBIRV9RVgyS1s1ZNQXwc+C1gAfB0Zm7LzBHgdmBZi2roeNOnTx/3WFJ7qT2AI2IpMD0z/xo4AxhqengImFd3Dd3ie9/73rjHktpLK0bAb6ea8z3Y31jTYz3AaAtq6Arz58///47PPPPMQpVImohaAzgiTgQuA+5pnNoOzG1qMgfYcejzdHxWrVo17rGk9lL3CPh84P9k5ncbxw8BERHnRsQ04Brg/ppr6BoLFiz4f6PgM888k3POOadwRZLGU3cAL6Aa9QKQmfuAFcDdwFbgKeCummvoKqtWreLkk0929CtNAT1jY2NHb9UGIuJsYNvAwADz5nndTlJb6jmWxn4SrsMMDw9z4403ekdkaQowgDtMf38/W7du9Y7I0hRgAHeQ4eFhBgYGGBsbY+PGjY6CpTZnAHeQ/v5+RkerZdWjo6OOgqU2ZwB3kC1btjAyMgLAyMgImzdvLlyRpPEYwB1k4cKF9PVVG9z19fWxaNGiwhVJGo8B3EGWL19Ob2/1T9rb2+udkaU2512Ra7Rp0yYeeOCBlvZ5wgknsH//fmbMmMFHPvKRlvZ9+eWXs3jx4pb2KU1ljoA7zOjoKL29vZx++umlS5F0FI6Aa7R48eKWjwhXr14NwNq1a1var6Rj5whYkgoxgCWpEANYkgpxDliaIkqsqtm9ezcAM2fObGm/0B2ragxgSUc0PDwMlAngbmAAS1OEq2o6j3PAklSIASxJhRjAklSIASxJhRjAklSIASxJhRjAklSIASxJhRjAklRIrZ+Ei4hfAN4HnAJ8NjPfHRFLgfXAdODOzFxTZw2S1K5qGwFHxALgE8AvAucDr4iIK4ANwJXAy4BLGuckqevUOQVxFdUId3tmvgBcDewFns7MbZk5AtwOLKuxBklqW3VOQZwL7I+Ie4AzgXuBJ4ChpjZDwLwaa5CktlVnAPcBPwMsBPYA9wDfA8aa2vQAozXWIEltq84A3glszMxvAUTE31BNNxxoajMH2FFjDZLUtuoM4HuBP4uImcB3gCuAu4AbI+JcYBtwDdVFOUnqOrVdhMvMh4CPAF8AtgLPAh8HVgB3N849RRXKktR1al0HnJkb+OER7gBwQZ39StJU4CfhJKkQA1iSCjGAJakQA1iSCjGAJakQA1iSCjGAJakQA1iSCjGAJakQA1iSCjGAJakQA1iSCjGAJakQA1iSCjGAJakQA1iSCjGAJakQA1iSCjGAJakQA1iSCjGAJakQA1iSCjGAJakQA1iSCjGAJamQvjpfPCI2Ay8CXmicejvwH4A1wAnA72XmH9VZgyS1q9oCOCJ6gPOAszJzpHHuJUA/8Erg+8CXImJzZm6tqw5Jald1joCj8fdnI+LHgFuA7wCbMnMYICLuAt4IfLDGOiSpLdU5BzwLGACuApYA1wNnAkNNbYaAeTXWIEltq7YRcGY+CDx48DgiPgWsBz7U1KwHGK2rBklqZ7WNgCPitRGxpOlUD/AMMLfp3BxgR101SFI7q3MOeCbwwYj4aaoVD78CvBm4PSJOB74LvAF4W401SFLbqm0EnJn3AvcBXwUeATZk5heBm4DNwNeAOzLz4bpqkKR2Vus64Mx8L/DeQ87dAdxRZ7+SNBX4SThJKsQAlqRCDGBJKsQAlqRCDGBJKsQAlqRCDGBJKsQAlqRCDGBJKsQAlqRCDGBJKsQAlqRCDGBJKsQAlqRCDGBJKsQAlqRCDGBJKsQAlqRCDGBJKuSo94SLiBnAOuClwDJgLfAbmbmn5tokqaNNZAT8MWA38GJgH3Aa8Kd1FiVJ3WAiAXxRZt4EvJCZe4FrgQvrLUuSOt9EAvjAIcfTgNEaapGkrjKRAP58RKwDpkfEzwKfBjbXW5Ykdb6JBPD/APYA3wY+DDwGvKfOoiSpGxx1FURmvgD8r8afYxYRvwP8eGauiIgLgU9SXcj7PHB9Zo4cz+tK0lQ3kWVo24CxplNjwF7gceDXM3NonOcuAX4FuK9x6nbgusz8ckR8ClgJfPw4a5ekKW0iUxCfATYBbwCuogrTrwAPM85ytIiYTTVl8duN47OA6Zn55UaT26jWFUtSVzrqCBi4NDMvbjp+V0Q8nJlvjYi3jvO8PwFuAuY3js8AmkfLQ8C8Y6pWkjrIREbAp0XEqQcPIuI04JTGYc/hnhAR1wHPZebAIX01T2X04HI2SV1sIiPgDcBDEfHXVCH6S8AtEfFO4MkjPOdqYG5EfA2YDcygCt+5TW3mADuOt3BJmuomsgri5oj4KnAF8ALwIeDXgBuo5nEP95zLD34dESuAhY0pi8cj4jWZ+UXgLcD9P/J3MAG33HILg4ODreiquIPf5+rVqwtX0joLFixg5cqVpcuQjtlERsBQXXC7CHgHcB3wscx89Dj6u5Zq9Hwa8CjVPhO1Gxwc5PGtybSTZraiu6JGR6YB8OTgPxeupDUO7NtdugTpuI0bwBERVKPdtwDPACcBZ2fmtyfaQWbeRmOknJlfB151fKX+aKadNJOTz1pSomvVaO+zA0dvJLWpIwZwRNwHXAzcSTWF8JWI2HYs4St1Iqe0Olsrp7TGGwG/AniE6gMX/9Q4N3bk5lJ3GBwc5Oknn2DOjInO4E1d08eqhUrfeS4LV9IaO/e09oO5472D5lOteLgB+P2IuBeY3pKqpDY3Z0Yfbz1/dukyNMlufWy4pf0dcR1wZo5k5l9l5iLglVQfnDgpIp6OiOtbVqEkdagJ3RMuM7dm5ruAlwAfBd5Wa1WS1AWOaRKrcUeMP8VbEknSj8y7IktSIQawJBViAEtSIQawJBViAEtSIQawJBViAEtSIQawJBViAEtSIQawJBViAEtSIQawJBViAEtSIQawJBViAEtSIQawJBViAEtSIQawJBViAEtSIcd0T7hjFREfBN4IjAGfysz1EbEUWE91i/s7M3NNnTVIUruqbQQcEZcBi4HzgYuBd0bEBcAG4ErgZcAlEXFFXTVIUjurLYAz83PAoswcAV5ENdqeCTydmdsa528HltVVgyS1s1rngDPzhYj4ALAVGADOAIaamgwB8+qsQZLaVe0X4TLzfcDpwHzgPKr54IN6gNG6a5CkdlTnHPBLI+JCgMzcC3waWAjMbWo2B9hRVw2S1M7qXAWxAPhARLyWatR7JfAnwEcj4lxgG3AN1UU5Seo6dV6E+zvgPuCrwCPAlzKzH1gB3E01L/wUcFddNUhSO6t1HXBmvh94/yHnBoAL6uxXkqaCWgO4XezatYsD+3az99mB0qVokh3Yt5tdu04sXYZ0XPwosiQV0hUj4FmzZrFz135OPmtJ6VI0yfY+O8CsWbNKlyEdl64IYGky7dq1i3/ZM8Ktjw2XLkWTbOeeEUZ27WpZf05BSFIhjoClYzRr1iz69nyTt54/u3QpmmS3PjbMqS2c0nIELEmFGMCSVIgBLEmFGMCSVIgBLEmFGMCSVIgBLEmFGMCSVIgBLEmFGMCSVIgBLEmFGMCSVIgBLEmFGMCSVIgBLEmFGMCSVIgBLEmFGMCSVEjX3JLowL7d7H12oHQZtRsd2QdAb99JhStpjQP7dgMvLl2GdFxqDeCIeB/wy43D+zLzNyNiKbAemA7cmZlr6qwBYMGCBXV30TYGBwcBWLCgW0LpxV3176vOUlsAN4L2dcBFwBjw9xHxJmAdcBnwHHBfRFyRmffXVQfAypUr63z5trJ69WoA1q5dW7gSSUdT5xzwEPAbmbk/M18AngTOA57OzG2ZOQLcDiyrsQZJalu1jYAz84mDX0fET1BNRfwBVTAfNATMq6sGSWpnta+CiIifBB4A3gMMUk1HHNQDjNZdgyS1o1oDOCJeAwwAN2bmnwHbgblNTeYAO+qsQZLaVZ0X4eYDnwGuzsxNjdMPVQ/FucA24BpgQ101SHXZuWeEWx8bLl1G7fbsr35BnXFid3xkYOeeEU5tYX91LkNbBZwErI+Ig+c+AawA7m489nfAXTXWIE26blr29q3Gssa587vjez6V1v771nkR7t3Au4/w8AV19SvVzWWNmizd8XuFJLUhA1iSCjGAJakQA1iSCjGAJakQA1iSCjGAJakQA1iSCjGAJakQA1iSCjGAJakQA1iSCjGAJakQA1iSCjGAJakQA1iSCjGAJakQA1iSCjGAJakQA1iSCjGAJakQA1iSCjGAJakQA1iSCjGAJamQvro7iIjTgC8BP5+Zz0TEUmA9MB24MzPX1F2DJLWjWkfAEfFq4AvAeY3j6cAG4ErgZcAlEXFFnTVIUruqewpiJfCrwI7G8auApzNzW2aOALcDy2quQZLaUq1TEJl5HUBEHDx1BjDU1GQImFdnDZLUrlp9Ea4XGGs67gFGW1yDJLWFVgfwdmBu0/EcfjA9IUldpfZVEId4CIiIOBfYBlxDdVFOkrpOS0fAmbkPWAHcDWwFngLuamUNktQuWjICzsyzm74eAC5oRb+S1M78JJwkFWIAS1IhBrAkFWIAS1IhBrAkFWIAS1IhBrAkFWIAS1IhBrAkFWIAS1IhBrAkFWIAS1IhBrAkFWIAS1IhBrAkFWIAS1IhBrAkFWIAS1IhBrAkFWIAS1IhBrAkFWIAS1IhBrAkFWIAS1IhBrAkFdJXotOIuAZYA5wA/F5m/lGJOiSppJYHcES8BPgw8Erg+8CXImJzZm5tdS1127RpEw888EBL+xwcHARg9erVLe0X4PLLL2fx4sUt71eaqkqMgJcCmzJzGCAi7gLeCHywQC0dZ/bs2aVLUE38gd55SgTwGcBQ0/EQ8KoCddRu8eLFHf8GUmfzB3q9SgRwLzDWdNwDjBaoQ5pS/IHeeUqsgtgOzG06ngPsKFCHJBVVYgS8EXh/RJwOfBd4A/C2AnVIUlEtHwFn5vPATcBm4GvAHZn5cKvrkKTSiqwDzsw7gDtK9C1J7cJPwklSIQawJBViAEtSIQawJBViAEtSIQawJBVSZBnacZoGsHPnztJ1SNJhLVmy5Gxge2aOTKT9VArguQDXXntt6Tok6Ui2AecAz0yk8VQK4H8ELqXaPe1A4Vok6Ui2T7Rhz9jY2NFbSZImnRfhJKkQA1iSCjGAJakQA1iSCjGAJakQA1iSCjGAJakQA1iSCjGAu0BEPBMRZ5euQ+VExIaIGIyIN9Xw2rdFxIrJft1uMJU+iizp+K0ATsrM/aUL0Q8YwFNERCykupv0fqrNPu4B9gC/CPQArweWAW8BTmm0e1NmZtNrTAM+Ciyk2l3utsz83ZZ9EyoiIu6heo88HBHrgV+j+u33EeBXM3NfROwEPgO8GtgJbADeBcwDVmTm5yLiMuDDwMnATOC/Z+bfHtLXfznc67fg25ySnIKYWl4NXA9cDLwD+FZmXgw8BiynCuOFmfkfgXsbbZqtBMjMVwCvAq6MiEtbVLsKycz/3PjyWqr3wE9n5oXAN4FVjcdeDNyfmRcBJwFXZealwPupAhXgncB1jffPdcCHmvuJiJ8c5/V1GI6Ap5bHM/M5gIj4F2Cgcf5ZYBZwDbA8Is4Dfg742iHPXwpcGBGLG8czgP8E/EPdhastLAJ+AvhyRACcCDza9Pj9jb+fBb7Q9PWsxtdvBn4+IpYBP0X1/jmW19chDOCp5dD5u+ZNn+cDDwJ/SPUfaSdw0SHtpwG/mZmfBoiIH6eaxlB3mAb8VWa+CyAiZtCUAYfMDx9uQ/F/ADYDW6h++N9xLK+vH+YUROe4BPinxpzuPwJX0biLSJNNwMqIOKHxn+MLVCMZdYctwFUR8aKI6AE+zg+mF8YVEbOB84D/SfUD/kp++P113K/frQzgzvFZoDcitlL92vcU1cW6Zp8Anga+CnwFuDUzt7SySJWTmV8HPkD1g/gJqgC9eYLPHQY+1Xjek8CpwMkRccpkvH63ckN2SSrEEbAkFWIAS1IhBrAkFWIAS1IhBrAkFeIiaXWsiPgpYC3wY1SDjeeAVZn5RNHCpAaXoakjRcS/A54HXpeZjzbOvRn4beCczDxQsj4JHAGrcx3csat5v4K/AP4NmBYRrwfWUO1XsJdqZPxgRNwKnJKZv9zYXGYzcFlmPtna8tUNHAGrY0XEr1Pt2LUT+CJVmPYDLwE+TbVz3L82gnYjcG7jqY9SjZTfA6zNzL9ode3qDgawOlpEnApcBvwM1f4FAH8MvBfY3tT0dOD1mfn1iLgIeAj488z8b62sV93FKQh1pIh4DdW+tB+l2hv53oj4LeBx4DRgIDOvbmo/H9hx8BD4V+CiiDjRu0ioLi5DU6f6FrAmIl7bdG4u8O+p7ibyuoh4KUBjPvgxYHrj3nm/D1xOtaHRulYWre7iFIQ6VkQsotqdax6wD/g28IHM/PvGpuI3Ud2qZ4Rq28QHqfa8vTszfyciZgH/G3h7Zt5X4ntQZzOAJakQpyAkqRADWJIKMYAlqRADWJIKMYAlqRADWJIKMYAlqZD/C5lz4LxQu0taAAAAAElFTkSuQmCC\n",
      "text/plain": [
       "<Figure size 360x360 with 1 Axes>"
      ]
     },
     "metadata": {
      "needs_background": "light"
     },
     "output_type": "display_data"
    },
    {
     "data": {
      "image/png": "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\n",
      "text/plain": [
       "<Figure size 405.725x360 with 1 Axes>"
      ]
     },
     "metadata": {
      "needs_background": "light"
     },
     "output_type": "display_data"
    },
    {
     "data": {
      "image/png": "iVBORw0KGgoAAAANSUhEUgAAAWAAAAFgCAYAAACFYaNMAAAABHNCSVQICAgIfAhkiAAAAAlwSFlzAAALEgAACxIB0t1+/AAAADl0RVh0U29mdHdhcmUAbWF0cGxvdGxpYiB2ZXJzaW9uIDMuMC4yLCBodHRwOi8vbWF0cGxvdGxpYi5vcmcvOIA7rQAAHTdJREFUeJzt3Xt0ndV55/GvfAEULkUOUBsIJBrgScosLrmuJunEjmx3OaspkxSaFdFOaENwushlZppiZkJWEqaUOE1pmzaTOA1MMsMSpYU0K4vLVLZit5NLSZuQUkx46iJTYiwCjgQBDMayNH+8R64AXyTZ79lHOt/PWl7oPXr32Q8g/87Wft+9347x8XEkSc03r3QBktSuDGBJKsQAlqRCDGBJKsQAlqRCDGBJKsQAlqRCDGBJKsQAlqRCDGBJKmRB6QKmKiIWAKcC2zJztHQ9knSoZk0AU4Xv1oGBgdJ1SNL+dEznZKcgJKkQA1iSCjGAJakQA1iSCjGAJakQA1iSCjGAJakQA1iSCjGAJamQtgzg4eFhrrjiCoaHh0uXIqmN1boUOSJ+DfhvjcM7M/MjEXEe8CXgOOBvgfc3e2+Hvr4+Nm/ezE033cTll1/ezK4laa/aRsAR8RLgs8BbgHOBX4iI5cCNwAcy8yyqddPvq6uGfRkeHmbDhg2Mj4+zfv16R8GSiqlzCmJ+4/2PBhY2/uwGOjPz7xrnfBm4qMYaXqSvr4+xsTEAxsbGuOmmm5rZvSTtVVsAZ+aTwMeA+4FtwIPAc8DQpNOGqHY5a5pNmzYxOlrNeIyOjrJx48Zmdi9Je9U5BXEO8JvA6cDJwB5gJTA+6bQOYKyuGvZl6dKlLFhQTX0vWLCAZcuWNbN7SdqrzimIXwQGMvPRzNxFNd2wFFgy6ZzFwPYaa3iR3t5e5s2r/rXnzZvHu9/97mZ2L0l71RnA/wgsj4ijI6IDeDvwN8CzEfGmxjm/DtxZYw0vsmjRIpYvX05HRwcrVqxg0aJFzexekvaqcw64H7gJ+B5wD9VFuE8BFwN/GBH3A8dQ3SnRVL29vZx99tmOfiUV1TE+Pn7ws1pARLycxiOJTj21qdftJGmqfCSRJM0GBrAkFWIAS1IhBrAkFdKWAexuaJJaQVsG8OTd0CSplLYLYHdDk9Qq2i6A3Q1NUqtouwB2NzRJraLtAtjd0CS1irYL4N7eXjo6qtWCHR0d7gchqZi2C+BFixaxZEm1I+bJJ5/sbmiSimm7AB4eHmZoqHoox/bt270LQlIxbRfAfX19TOwANz4+7l0QkoppuwD2LghJraLtAti7ICS1irYLYJ8JJ6lVtF0A+0w4Sa1iQekCSujt7eWhhx5y9CupqLYM4EWLFvHpT3+6dBmS2lzbTUFIUqtoywB+4IEHuPDCCxkcHCxdiqQ21pYBfO2117Jz506uvfba0qVIamNtF8APPPAA27dvB+Dhhx92FCypmLYL4BeOeh0FSyqltrsgIuJS4AOTXnoF8H+ArwHXAZ3AzZl5VV017MvE6HfCww8/3MzuJWmv2kbAmfmlzDwvM88DLgYeBdYCNwAXAK8CXhcRq+qqQZJaWbPuA/488N+BbmBLZm4FiIgbgYuAO5tUB4sXL+aRRx553nEzDAwM0N/fv9/vj4yMANDV1bXP769cuZKenp5aapNURu1zwBGxHOjMzL8ETgaGJn17CDi17home+KJJw54XMrIyMjeEJbUHpoxAl5NNecLVeCPT/peBzDWhBr2WrZsGXfeeSfj4+N0dHTw1re+tSn99vT0HHAEu2bNGgDWrl3blHoklVfrCDgijgDeAny98dI2YMmkUxYD21/Yrk69vb3P247S/SAklVL3FMQ5wD9n5tON47uAiIgzImI+0EsT53+h2gdixYoVdHR0sHLlSndDk1RM3QHcTTXqBSAznwUuAW4F7gPuB26puYYX6e3t5eyzz3b0K6moWueAM/MvgL94wWsDwLl19nsw7oYmqRW03Uo4qJ6MfMUVV/hEZElFtWUA9/X1sXnzZp+ILKmotgvg4eFhNmzYwPj4OOvXr3cULKmYtgvgvr4+xsaqW4/HxsYcBUsqpu0CeNOmTYyOjgIwOjrKxo0bC1ckqV21XQAvXbqUjo4OADo6Oli2bFnhiiS1q7YL4FWrVjE+Xq2GHh8fZ9UqN2OTVEbbBfCdd955wGNJapa2C+BNmzY979g5YEmltF0An3/++c87fvWrX12oEkntru0C+MEHH3ze8datW8sUMgu4YlCqV9sF8AufAecz4fbPFYNSvdougE877bTnHZ9++umFKmltrhiU6tesZ8I11YGev3bEEUc873jhwoV7n0Yxweev7XvF4OWXX164qjJ8np/q0nYj4M7Ozr0LMY488kg6OzsLV9SaXDE4dT7PTzM1J0fAB3v+2oc+9CEGBwf5gz/4A7q7u5tY2eyxdOlS+vv7GR0dZcGCBW29YtDn+akubTcChmoUfPbZZxu+B9Db28u8edWPx7x583x6iFSDtgxgHdyiRYtYvnw5HR0drFixwmfnSTWYk1MQOjx6e3t56KGHHP1KNTGAtV8+O0+ql1MQklSIASxJhRjAklSIASxJhXgRTi3FZb9qJ7UGcES8Hfg4cDTQn5kfjojlwHVAJ3BzZl5VZw2aWw4WwNJsUlsAR0Q38AXgDcCPgW9ExCpgHfAW4EfA7RGxKjN9LpAAl/2qvdQ5An4H1Qh3G0BEvAs4E9iSmVsbr90IXAQYwCpq3bp1DA4OzqjtRLsX7qo3Vd3d3axevXpGbTW71RnAZwDPRcTXgdOA24DNwNCkc4aAU2usQZqSwcFB7rsvObpz+kuu94xWf43+detj02779DPus9zO6gzgBcB/AJYCTwFfB54Bxied0wGM1ViDNGVHdy7inDPf1tQ+79lyR1P7U2upM4AfATZk5mMAEfFXVNMNeyadsxjYXmMNktSy6gzg24CvRMTxwJPAKuAW4MqIOAPYCvQCN9RYgyS1rNoWYmTmXcCngW8C9wH/CnweuAS4tfHa/VShLEltp9b7gDPzBl48wh0Azq2zX0maDVwJ18ZcdSaV5V4Q2i8fNinVyxFwG3PVmVSWI2BJKsQAlqRCDGBJKsQAlqRCDGBJKsQAlqRCDGBJKsQAlqRCDGBJKsQAlqRCDGBJKsQAlqRCDGBJKsQAlqRCDGBJKsQAlqRCDGBJKsQAlqRCDGBJKsQAlqRCDGBJKsQAlqRCan0sfURsBE4CdjdeWg38O+AqYCHwR5n5uTprkKRWVVsAR0QHcBZwemaONl47Bfhz4DXALuDbEbExM++rqw5JalV1joCj8c/+iHgp8GfAk8A3MnMYICJuAS4Erq6xDklqSXXOAXcBA8A7gB7g/cBpwNCkc4aAU2usQZJaVm0j4Mz8DvCdieOIuB64DvjdSad1AGN11aDWtG7dOgYHB2fUdqLdmjVrZtS+u7ub1atXz6itdLjVOQf8ZuDIzBxovNQBPAgsmXTaYmB7XTWoNQ0ODpL33ssJ86f/47dwrPq8/skP75922x17RqfdRqpTnXPAxwNXR8Qbqe54eA/wa8CNEXEi8DTwK8BlNdagFnXC/AW88/hFTe3zq48PN7U/6WBqmwPOzNuA24G7ge8BN2Tmt4CPAhuBHwB9mfndumqQpFZW633Amfkx4GMveK0P6KuzX0maDVwJJ0mFGMCSVIgBLEmFGMCSVIgBLEmFGMCSVIgBLEmFGMCSVIgBLEmFGMCSVEitS5Gl2WJkZISnd/6Ee7bc0dR+n975E0ZG/GvYrhwBS1IhfvRKQFdXFz99fJRzznxbU/u9Z8sddHV1NbVPtQ5HwJJUiAEsSYUYwJJUiAEsSYV4EU7SYTMwMEB/f/8+vzcyMgKw34uOK1eupKenp7baWpEjYElNMTIysjeEVTnoCDgijgHWAq8ELgKuBX47M5+quTZJLWbdunUMDg7W8t79/f37HT0DdHd3s3r16lr6LmUqUxCfBYaAnwWeBY4Dvgj01liX5rCRkRF2jI42/THxO0ZHmecI7JAMDg6y5Yf/zJLjTpp2206OBOCphx+fdtuhnz467TazwVQC+PzM/M2IeFtm7oyIi4F76y5M0swNDw/zqU99iiuvvJJFixYd1vdectxJXPbGdx/W9zyYL377pqb21yxTCeA9LzieD4zVUIvaRFdXF2OP/Jh3Hn94g+Fgvvr4cNusOuvr62Pz5s3cdNNNXH755YftfUdGRtjx08eaHohDP32UE14y3tQ+m2EqF+H+NiLWAp0R8YvAV4GN9ZYlaaaGh4fZsGED4+PjrF+/nuHh5k71aOqmMgJeA1wJPAFcA/w18D/qLErSzPX19TE2Vv2SOjY2dlhHwV1dXSzc2VFkCuKYruOb2mczHDSAM3M3VeDOKHQj4jPACZl5SUScB3yJ6kLe3wLvz8zRmbyvpH3btGkTo6PVX6vR0VE2btx4WKchhn766IymIJ7c9TQAxx559Iz6PPOUNgzgiNgKTJ58GQd2Ul2I+6+ZOXSAtj3Ae4DbGy/dCFyamX8XEdcD7wM+P8PaJe3D0qVL6e/vZ3R0lAULFrBs2bLD9t7d3d0zbvvoYDUVsuSUU6bd9sxTjj+kvlvVVKYgvgYcC3yO6uLbexvH91Ddjvb2fTWKiEVUUxa/B5wbEacDnZn5d41Tvgx8kjkUwIdyj+REuzVr1ky77Vy8P7KEp58ZntGG7M/tfgaAIxZ2zqhPOHHa7WD/q8527969dwS8Z88eHnjggRf9XM101dnBfs4OtBLuYNpxJdxUAvgXMvO1k44/FBHfzczfiIjfOEC7dcBHgZc1jk+mup94whBw6rSqbXGDg4Nsue9eFh+zcNptO8eqm02efCin1e6Rp3ZPuy+92KGMriY+PE9/xUyC9MT99n2wD/SprCybP38+P/rRj170+s0339z0RQ/tcgfKdEwlgI+LiGMz80mAiDgOmJjE6dhXg4i4FPhRZg5ExCWNl+fx/KmMDubg7WyLj1nIe88/oWn9XX/3jqb1NZcdSthMjC7Xrl17uMoBqmD/4eZ7OabziP2es7+P+s6F89k1uoeXLJzHPF58meWpkcd4auSxfbZ96pnnZlIuAD09PW03ij0UUwngG4C7IuIvqUL0ncCfRcQHgR/up827gCUR8QNgEXAMVfgumXTOYmD7TAuX2sExnUfw2jOmv+rsUPzDv8zNVWetaCp3QXwqIu4GVgG7gd8F/jPwW1TzuPtqs2Li68YIeGljyuLeiHhTZn4L+HXgzpkW7nyr5rqRkREef3oXG/9p27Tbjo9Xv2x2dOzzl9QD2jM2zjEu2W6KqW5H+V3gfOADwKXAZzPz+zPo72Kq0fNxwPep9pmYkcHBQf5p8/3MP2r680pjo9X6k/se+PG02u151h9KNc+JJ544493DnnmmujB4VOf0LwxO9K36HTCAIyKoRru/DjwIHAW8PDOfmGoHmfllGiPlzPxH4PUzK/XF5h/VxbHdKw5+4mHy5OD6pvUlXXPNNTNuW9e8tA6v/QZwRNwOvBa4mWoK4R8iYut0wldSfQ50y9fBptna8ZavVnSgEfCrge9RLbj4l8Zrc283DGkO8pav2eFAAfwyqjsefgv444i4DZjZhJKkw85bvma//e6GlpmjmfkXmbkMeA3VwomjImJLRLy/aRVK0hw1pWfCZeZ9mfkh4BTg94HLaq1KktrAtJ6KnJk7qfZ/+GI95UhS+/CpyJJUiAEsSYUYwJJUiAEsSYUYwJJUiAEsSYUYwJJUiAEsSYUYwJJUiAEsSYUYwJJUiAEsSYUYwJJUiAEsSYUYwJJUiAEsSYUYwJJUiAEsSYUYwJJUyLSeCTddEXE1cCEwDlyfmddFxHLgOqpH3N+cmVfVWYMktaraRsAR8RbgrcA5wGuBD0bEucANwAXAq4DXRcSqumqQpFZWWwBn5t8AyzJzFDiJarR9PLAlM7c2Xr8RuKiuGiSpldU6B5yZuyPik8B9wABwMjA06ZQh4NQ6a5CkVlX7RbjM/DhwIvAy4Cyq+eAJHcBY3TVIUiuqcw74lRFxHkBm7gS+CiwFlkw6bTGwva4aJKmV1XkXRDfwyYh4M9Wo9wJgHfD7EXEGsBXopbooN20jIyPseXaEJwfXH656D2rPsyOMjBzRtP4Oh3Xr1jE4ODijthPt1qxZM6P23d3drF69ekZtW8nAwAD9/f37/f7B/jutXLmSnp6eWmrT7FZbAGfmHRHxeuBuYA9wa2b+eUQ8BtwKHAXcAdxSVw2qwuHe+zez4Pgjp912bN4oAPc/8i/Tbjv6+K5pt5mturq6SpegWarW+4Az8xPAJ17w2gBw7qG+d1dXF0PDz3Fs94pDfaspe3Jw/az8y7bg+CPpWtrca50jm7Y1tb869fT0OIJVLVwJJ0mFGMCSVIgBLEmFGMCSVIgBLEmFGMCSVIgBLEmFGMCSVIgBLEmFGMCSVIgBLEmFGMCSVIgBLEmFGMCSVEit21FK+7NjzyhffXx42u12jlVPsHrJvOmPHXbsGeWl024l1ccAVtN1d3fPuO0TjadPvHQG7/HSQ+xbOtwMYDXdoTymaOKxP2vXrj1c5UjFOAcsSYUYwJJUiFMQh9HIyAiPPbWb6+/e0bQ+h57azejISNP6k3T4zOoAnulj6cdGnwFg3oLOafcHPzvt/iRpX2ZtAB/K1ezBxpX07u7phunPHrDfrq4uFjz5KO89/4QZ1zZd19+9g2Nn4ZOaJc3iAPZKuqTZzotwklSIASxJhdQ6BRERHwd+tXF4e2ZeERHLgeuATuDmzLyqzhokqVXVNgJuBO1K4HzgPOA1EfFu4AbgAuBVwOsiYlVdNUhSK6tzCmII+O3MfC4zdwM/BM4CtmTm1swcBW4ELqqxBklqWbVNQWTm5omvI+JMqqmIP6EK5glDwKl11SBJraz2i3ARcTawHvgdYBAYn/TtDmCs7hokqRXVGsAR8SZgALgyM78CbAOWTDplMbC9zhokqVXVNgURES8Dvga8KzO/0Xj5rupbcQawFeiluignSW2nztvQPgIcBVwXEROvfQG4BLi18b07gFtqrEGSWladF+E+DHx4P98+t65+JWm2cCWcJBViAEtSIQawJBViAEtSIQawJBUyazdk19SMjIww+vguRjZta2q/o4/vYuRIn1UnHYgjYEkqxBHwHNfV1cWPd/2ErqXN3fNoZNM2umbwrLqBgQH6+/v3+/2J5/lNPFbqhVauXElPT8+0+5VKMIA1q8wk1KVWZQCrpfT09DiCVdtwDliSCjGAJakQA1iSCjGAJakQA1iSCjGAJakQA1iSCjGAJakQA1iSCjGAJakQA1iSCjGAJakQA1iSCjGAJakQA1iSCql9P+CIOA74NvBLmflgRCwHrgM6gZsz86q6a5CkVlTrCDgi3gB8EzircdwJ3ABcALwKeF1ErKqzBklqVXVPQbwPuBzY3jh+PbAlM7dm5ihwI3BRzTVIUkuqdQoiMy8FiIiJl04GhiadMgQ092mRktQimn0Rbh4wPum4Axhrcg2S1BKaHcDbgCWTjhfzb9MTktRWmv1U5LuAiIgzgK1AL9VFOUlqO00dAWfms8AlwK3AfcD9wC3NrEGSWkVTRsCZ+fJJXw8A5zajX0lqZa6Ek6RCmj0HPOc98tRurr97x7TbPfXcHgCOOWL+tPs7dtq9SWoFBvBh1N3dPeO2jw0OArDktOm9x7GH2K+kcgzgw2j16tUzbrtmzRoA1q5de7jKkdTinAOWpEIMYEkqxCmINjD6+C5GNm2bdruxZ0cBmHfU9H9MRh/fVa1zlLRfBvAcdygX6AYbFwa7F8/gPRZ7cVA6GAN4jvPCoNS6nAOWpELm5Ah4YGCA/v7+/X5/4lfriRHeC61cuZKenp5aapOkCXMygA+mq6urdAmSNDcDuKenxxGspJbnHLAkFWIAS1IhBrAkFWIAS1IhBrAkFWIAS1IhBrAkFWIAS1IhBrAkFWIAS1IhBrAkFWIAS1IhRTbjiYhe4CpgIfBHmfm5EnVIUklND+CIOAW4BngNsAv4dkRszMz7ml1LM7lHsaQXKjECXg58IzOHASLiFuBC4OoCtbSMEnsU+6EglVUigE8GhiYdDwGvL1BHU83GPYrduF6qV4kAngeMTzruAMYK1NH2ZuOHgjSXlLgLYhuwZNLxYmB7gTokqagSI+ANwCci4kTgaeBXgMsK1CFJRTV9BJyZDwMfBTYCPwD6MvO7za5Dkkorch9wZvYBfSX6lqRW4Uo4SSrEAJakQgxgSSrEAJakQgxgSSrEAJakQorchjZD8wEeeeSR0nVI0j719PS8HNiWmaNTOX82BfASgIsvvrh0HZK0P1uBVwAPTuXk2RTAfw/8AtXuaXsK1yJJ+7Ntqid2jI+PH/wsSdJh50U4SSrEAJakQgxgSSrEAJakQgxgSSrEAJakQgxgSSrEAJakQmbTSrjDIiJ6gauAhcAfZebnCpcEQEQcB3wb+KXMfLBwOUTEx4FfbRzenplXlKwHICKuBi4ExoHrM/O6wiXtFRGfAU7IzEtaoJaNwEnA7sZLqzPzroIlERFvBz4OHA30Z+aHS9YDEBFXAr8B7AJuzsxrml1DW42AI+IU4BrgzcB5wGUR8XNlq4KIeAPwTeCs0rUARMRyYCVwPtV/p9dExDsK1/QW4K3AOcBrgQ9GRJSsaUJE9ADvKV0HQER0UP0cnZuZ5zX+lA7fbuALwH+k+v/36ohYVbim5UAv8Dqqn/M3RMQ7m11HWwUwsBz4RmYOZ+bTwC1UI6rS3gdcDmwvXUjDEPDbmflcZu4GfgicVrKgzPwbYFljl6mTqH57e7pkTQARsYjqQ/33StfSMPGh1B8R/xgRHyhaTeUdVCPMbY2fp3cBRT8UqEL3rzPzp5m5B/i/VB8QTdVuUxAnU4XLhCHg9YVq2SszLwVokQEdmbl54uuIOJNqKuJN5SqqZObuiPgk8BHgL4GHC5cEsA74KPCy0oU0dAEDwAepptk2RURm5vqCNZ0BPBcRX6f6IL8N+FjBegC+D/xhRFwL7AR+mQID0nYbAc+jmj+c0AGMFaql5UXE2cB64Hcyc0vpegAy8+PAiVSB976StUTEpcCPMnOgZB2TZeZ3MvM/ZeYTmbkDuB54W+GyFlD99vle4OeBN1B4yqbx/+zLwCaq0e83geeaXUe7BfA2GvsKNyymdX7tbykR8SaqkdSVmfmVFqjnlRFxHkBm7gS+SjWfWNK7gJUR8QPgauCXI+IPSxYUEW9uzElP6ODfLsaV8giwITMfy8xngL+i8G+eEXEscGtmnpOZS6kuxD3Q7DrabQpiA/CJiDiRav7wV4DLypbUeiLiZcDXgHdl5jdK19PQDXwyIt5M9VvMBcANJQvKzBUTX0fEJcDSzPwv5SoC4Hjg6oh4I9UUxHuA95ctiduAr0TE8cCTwCqqn6+SXgH874h4LdWdGe9t/GmqthoBZ+bDVPN1G4EfAH2Z+d2yVbWkjwBHAddFxA8af4r+Jc7MO4DbgbuB7wHfzsw/L1lTK8rM23j+f6cbMvM7hWu6C/g01a/59wH/CvyvwjXdA9wK3AN8l+qW1G81uw43ZJekQtpqBCxJrcQAlqRCDGBJKsQAlqRCDGBJKqTd7gPWHBQRL6e6if6fJr3cAfxxZh7yvcIRsQn408y85VDfS5rMANZc8Uxmnjdx0Nj57t6I+IfGPZ9SyzGANSdl5sMRsQU4PyI+ApwJvJRqJVZvZmZjZDsMvBL4PNUGP19oHI8BX8jMzzbe8oKI+B2q5esbgPdlpvuI6JA4B6w5KSJ+nmoXrjHg8cz8+cw8C/h7YPIWjSOZ+XOZ+SfA/wT+OTNfSbVpzGURcUbjvGOBNwKvolpKW3x3OM1+joA1V3Q2NsWB6ud6B3BxZt4ZEZsj4oNUgbwUmLw09/9N+no5cAVAZj4B/HvYu03ozY19Y3c2RtYn1fjvojZhAGuueN4c8ISI+C2qDZf+FOijmnJ4xaRTnpr09SiTtittPMlhR+Nw8o5i41QX+aRD4hSE5rpfBL6cmdcDCbwdmL+fczdQPSOMiPgZqu04z2xGkWpPBrDmus8AqyPiHqrphu9TTUXsyweAVzXO/RZwbWZ+rzllqh25G5okFeIIWJIKMYAlqRADWJIKMYAlqRADWJIKMYAlqRADWJIK+f/6Z6m9tQwSggAAAABJRU5ErkJggg==\n",
      "text/plain": [
       "<Figure size 360x360 with 1 Axes>"
      ]
     },
     "metadata": {
      "needs_background": "light"
     },
     "output_type": "display_data"
    },
    {
     "data": {
      "image/png": "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\n",
      "text/plain": [
       "<Figure size 360x360 with 1 Axes>"
      ]
     },
     "metadata": {
      "needs_background": "light"
     },
     "output_type": "display_data"
    }
   ],
   "source": [
    "# Explore Age vs Sex, Parch, Pclass and SibSp\n",
    "g = sns.factorplot(y = \"Age\", x = \"Sex\", data=dataset, kind=\"box\")\n",
    "g = sns.factorplot(y = \"Age\", x = \"Sex\", hue=\"Pclass\", data=dataset, kind = \"box\")\n",
    "g = sns.factorplot(y = \"Age\", x = \"Parch\", data=dataset, kind=\"box\")\n",
    "g = sns.factorplot(y = \"Age\", x = \"SibSp\", data=dataset, kind=\"box\")"
   ]
  },
  {
   "cell_type": "markdown",
   "metadata": {},
   "source": [
    "Age distribution seems to be the same in male and female subpopulations, so sex is not informative to predict age.\n",
    "\n",
    "However, 1st class passengers are older than 2nd class passengers who are also older than 3rd class passengers.\n",
    "\n",
    "Moreover, the more a passenger has parents/ children the older he is and the more passenger has siblings/ spouses the younger he is."
   ]
  },
  {
   "cell_type": "code",
   "execution_count": 33,
   "metadata": {},
   "outputs": [],
   "source": [
    "# convert sex into categorical value 0 for male and 1 for female\n",
    "dataset[\"Sex\"] = dataset[\"Sex\"].map({\"male\":0, \"female\":1})"
   ]
  },
  {
   "cell_type": "code",
   "execution_count": 34,
   "metadata": {},
   "outputs": [
    {
     "data": {
      "image/png": "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\n",
      "text/plain": [
       "<Figure size 432x288 with 2 Axes>"
      ]
     },
     "metadata": {
      "needs_background": "light"
     },
     "output_type": "display_data"
    }
   ],
   "source": [
    "g = sns.heatmap(dataset[[\"Age\", \"Sex\", \"SibSp\", \"Parch\", \"Pclass\"]].corr(), cmap=\"BrBG\", annot=True)"
   ]
  },
  {
   "cell_type": "markdown",
   "metadata": {},
   "source": [
    "The correlation map confirms the factorplots observations except for Parch. Age is not correlated with sex, but is negatively correlated with Pclass, Parch and SibSp.\n",
    "\n",
    "In the plot of Age in function of Parch, Age is growing with the number of parents / children.\n",
    "But the general correlation is negative.\n",
    "\n",
    "So, I decided to use SibSp, Parch and Pclass in order to impute the missing ages.\n",
    "\n",
    "The strategy is to fill age with the median age of similar rows according to pclass, parch and sibsp."
   ]
  },
  {
   "cell_type": "code",
   "execution_count": 35,
   "metadata": {},
   "outputs": [
    {
     "name": "stderr",
     "output_type": "stream",
     "text": [
      "/Users/heojeong-wook/anaconda3/lib/python3.7/site-packages/pandas/core/indexing.py:189: SettingWithCopyWarning: \n",
      "A value is trying to be set on a copy of a slice from a DataFrame\n",
      "\n",
      "See the caveats in the documentation: http://pandas.pydata.org/pandas-docs/stable/indexing.html#indexing-view-versus-copy\n",
      "  self._setitem_with_indexer(indexer, value)\n"
     ]
    }
   ],
   "source": [
    "# Filling missing value of Age\n",
    "\n",
    "## Fill age with the median age of similar rows according to pclass, parch and sibsp\n",
    "# Index of nan age rows\n",
    "index_NaN_age = list(dataset[\"Age\"][dataset[\"Age\"].isnull()].index)\n",
    "\n",
    "for i in index_NaN_age : \n",
    "    age_med = dataset[\"Age\"].median()\n",
    "    age_pred = dataset[\"Age\"][((dataset['SibSp'] == dataset.iloc[i][\"SibSp\"]) & (dataset['Parch'] == dataset.iloc[i][\"Parch\"]) & (dataset['Pclass'] == dataset.iloc[i][\"Pclass\"]))].median()\n",
    "    if not np.isnan(age_pred):\n",
    "        dataset['Age'].iloc[i] = age_pred\n",
    "    else :\n",
    "        dataset['Age'].iloc[i] = age_med"
   ]
  },
  {
   "cell_type": "code",
   "execution_count": 36,
   "metadata": {},
   "outputs": [
    {
     "name": "stderr",
     "output_type": "stream",
     "text": [
      "/Users/heojeong-wook/anaconda3/lib/python3.7/site-packages/seaborn/categorical.py:3666: UserWarning: The `factorplot` function has been renamed to `catplot`. The original name will be removed in a future release. Please update your code. Note that the default `kind` in `factorplot` (`'point'`) has changed `'strip'` in `catplot`.\n",
      "  warnings.warn(msg)\n",
      "/Users/heojeong-wook/anaconda3/lib/python3.7/site-packages/seaborn/categorical.py:3666: UserWarning: The `factorplot` function has been renamed to `catplot`. The original name will be removed in a future release. Please update your code. Note that the default `kind` in `factorplot` (`'point'`) has changed `'strip'` in `catplot`.\n",
      "  warnings.warn(msg)\n"
     ]
    },
    {
     "data": {
      "image/png": "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\n",
      "text/plain": [
       "<Figure size 360x360 with 1 Axes>"
      ]
     },
     "metadata": {
      "needs_background": "light"
     },
     "output_type": "display_data"
    },
    {
     "data": {
      "image/png": "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\n",
      "text/plain": [
       "<Figure size 360x360 with 1 Axes>"
      ]
     },
     "metadata": {
      "needs_background": "light"
     },
     "output_type": "display_data"
    }
   ],
   "source": [
    "g = sns.factorplot(x=\"Survived\", y = \"Age\", data = train, kind = \"box\")\n",
    "g = sns.factorplot(x=\"Survived\", y = \"Age\", data = train, kind = \"violin\")"
   ]
  },
  {
   "cell_type": "markdown",
   "metadata": {},
   "source": [
    "No difference between median value of age in survived and not survived subpopulation.\n",
    "\n",
    "But in the violin plot of survived passengers, we still notice that very young passengers have higher survival rate."
   ]
  },
  {
   "cell_type": "markdown",
   "metadata": {},
   "source": [
    "# 5.Feature engineerning"
   ]
  },
  {
   "cell_type": "markdown",
   "metadata": {},
   "source": [
    "## 5.1 Name/ Title"
   ]
  },
  {
   "cell_type": "code",
   "execution_count": 37,
   "metadata": {},
   "outputs": [
    {
     "data": {
      "text/plain": [
       "0                              Braund, Mr. Owen Harris\n",
       "1    Cumings, Mrs. John Bradley (Florence Briggs Th...\n",
       "2                               Heikkinen, Miss. Laina\n",
       "3         Futrelle, Mrs. Jacques Heath (Lily May Peel)\n",
       "4                             Allen, Mr. William Henry\n",
       "Name: Name, dtype: object"
      ]
     },
     "execution_count": 37,
     "metadata": {},
     "output_type": "execute_result"
    }
   ],
   "source": [
    "dataset[\"Name\"].head()"
   ]
  },
  {
   "cell_type": "markdown",
   "metadata": {},
   "source": [
    "The name feature contains information on passenger's title.\n",
    "\n",
    "Since some passenger with distingused title may be preferred during the evacuation, it is interesting to add them to the model."
   ]
  },
  {
   "cell_type": "code",
   "execution_count": 38,
   "metadata": {},
   "outputs": [
    {
     "data": {
      "text/plain": [
       "0      Mr\n",
       "1     Mrs\n",
       "2    Miss\n",
       "3     Mrs\n",
       "4      Mr\n",
       "Name: Title, dtype: object"
      ]
     },
     "execution_count": 38,
     "metadata": {},
     "output_type": "execute_result"
    }
   ],
   "source": [
    "# Get title from name\n",
    "dataset_title = [i.split(\",\")[1].split(\".\")[0].strip() for i in dataset[\"Name\"]]\n",
    "dataset[\"Title\"] = pd.Series(dataset_title)\n",
    "dataset[\"Title\"].head()"
   ]
  },
  {
   "cell_type": "code",
   "execution_count": 39,
   "metadata": {},
   "outputs": [
    {
     "data": {
      "image/png": "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\n",
      "text/plain": [
       "<Figure size 432x288 with 1 Axes>"
      ]
     },
     "metadata": {
      "needs_background": "light"
     },
     "output_type": "display_data"
    }
   ],
   "source": [
    "g = sns.countplot(x=\"Title\", data=dataset)\n",
    "g = plt.setp(g.get_xticklabels(), rotation = 45)"
   ]
  },
  {
   "cell_type": "markdown",
   "metadata": {},
   "source": [
    "There is 17 title in the dataset, most of them are very rare and we can group them in 4 categories."
   ]
  },
  {
   "cell_type": "code",
   "execution_count": 40,
   "metadata": {},
   "outputs": [],
   "source": [
    "# Convert to categorical values Title \n",
    "dataset[\"Title\"] = dataset[\"Title\"].replace(['Lady', 'the Countess','Countess','Capt', 'Col','Don', 'Dr', 'Major', 'Rev', 'Sir', 'Jonkheer', 'Dona'], 'Rare')\n",
    "dataset[\"Title\"] = dataset[\"Title\"].map({\"Master\":0, \"Miss\":1, \"Ms\" : 1 , \"Mme\":1, \"Mlle\":1, \"Mrs\":1, \"Mr\":2, \"Rare\":3})\n",
    "dataset[\"Title\"] = dataset[\"Title\"].astype(int)"
   ]
  },
  {
   "cell_type": "code",
   "execution_count": 41,
   "metadata": {},
   "outputs": [
    {
     "data": {
      "image/png": "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\n",
      "text/plain": [
       "<Figure size 432x288 with 1 Axes>"
      ]
     },
     "metadata": {
      "needs_background": "light"
     },
     "output_type": "display_data"
    }
   ],
   "source": [
    "g = sns.countplot(dataset[\"Title\"])\n",
    "g = g.set_xticklabels([\"Master\", \"Miss/Ms/Mme/Mlle/Mrs\", \"Mr\", \"Rare\"])"
   ]
  },
  {
   "cell_type": "code",
   "execution_count": 42,
   "metadata": {},
   "outputs": [
    {
     "name": "stderr",
     "output_type": "stream",
     "text": [
      "/Users/heojeong-wook/anaconda3/lib/python3.7/site-packages/seaborn/categorical.py:3666: UserWarning: The `factorplot` function has been renamed to `catplot`. The original name will be removed in a future release. Please update your code. Note that the default `kind` in `factorplot` (`'point'`) has changed `'strip'` in `catplot`.\n",
      "  warnings.warn(msg)\n"
     ]
    },
    {
     "data": {
      "image/png": "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\n",
      "text/plain": [
       "<Figure size 360x360 with 1 Axes>"
      ]
     },
     "metadata": {
      "needs_background": "light"
     },
     "output_type": "display_data"
    }
   ],
   "source": [
    "g = sns.factorplot(x = \"Title\", y = \"Survived\", data=dataset, kind=\"bar\")\n",
    "g = g.set_xticklabels([\"Master\", \"Miss-Mrs\", \"Mr\", \"Rare\"])\n",
    "g = g.set_ylabels(\"survival probability\")"
   ]
  },
  {
   "cell_type": "markdown",
   "metadata": {},
   "source": [
    "\"Women and children first\"\n",
    "\n",
    "it is interesting to note that passengers with rare title have more chance to survive."
   ]
  },
  {
   "cell_type": "code",
   "execution_count": 43,
   "metadata": {},
   "outputs": [],
   "source": [
    "# Drop name variable\n",
    "dataset.drop(labels = [\"Name\"], axis = 1, inplace = True)"
   ]
  },
  {
   "cell_type": "markdown",
   "metadata": {},
   "source": [
    "## 5.2 Family size\n",
    "We can imagine that large families will have more difficulties to evacuate, looking for theirs sisters/ brothers/ parents during the evacuation. So, I choosed to create a \"Fize\" (familiy size) feature which is the sum of SibSp, Parch and 1 (including the passenger)."
   ]
  },
  {
   "cell_type": "code",
   "execution_count": 44,
   "metadata": {},
   "outputs": [],
   "source": [
    "# Create a family size descriptor from SibSp and Parch\n",
    "dataset[\"Fsize\"] = dataset[\"SibSp\"] + dataset[\"Parch\"] + 1"
   ]
  },
  {
   "cell_type": "code",
   "execution_count": 45,
   "metadata": {},
   "outputs": [
    {
     "name": "stderr",
     "output_type": "stream",
     "text": [
      "/Users/heojeong-wook/anaconda3/lib/python3.7/site-packages/seaborn/categorical.py:3666: UserWarning: The `factorplot` function has been renamed to `catplot`. The original name will be removed in a future release. Please update your code. Note that the default `kind` in `factorplot` (`'point'`) has changed `'strip'` in `catplot`.\n",
      "  warnings.warn(msg)\n"
     ]
    },
    {
     "data": {
      "image/png": "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\n",
      "text/plain": [
       "<Figure size 360x360 with 1 Axes>"
      ]
     },
     "metadata": {
      "needs_background": "light"
     },
     "output_type": "display_data"
    }
   ],
   "source": [
    "g = sns.factorplot(x=\"Fsize\", y=\"Survived\", data = dataset)\n",
    "g = g.set_ylabels(\"Survival probability\")"
   ]
  },
  {
   "cell_type": "markdown",
   "metadata": {},
   "source": [
    "The family size seems to play an important role, survival probability is worst for large families.\n",
    "\n",
    "Additionaly, I decided to created 4 categories of familiy size."
   ]
  },
  {
   "cell_type": "code",
   "execution_count": 46,
   "metadata": {},
   "outputs": [],
   "source": [
    "# Create new feature of family size\n",
    "dataset['Single'] = dataset['Fsize'].map(lambda s:1 if s==1 else 0)\n",
    "dataset['SmallF'] = dataset['Fsize'].map(lambda s:1 if s==2 else 0)\n",
    "dataset['MedF'] = dataset['Fsize'].map(lambda s:1 if 3<= s <= 4 else 0)\n",
    "dataset['LargeF'] = dataset['Fsize'].map(lambda s:1 if s >= 5 else 0)"
   ]
  },
  {
   "cell_type": "code",
   "execution_count": 47,
   "metadata": {},
   "outputs": [
    {
     "name": "stderr",
     "output_type": "stream",
     "text": [
      "/Users/heojeong-wook/anaconda3/lib/python3.7/site-packages/seaborn/categorical.py:3666: UserWarning: The `factorplot` function has been renamed to `catplot`. The original name will be removed in a future release. Please update your code. Note that the default `kind` in `factorplot` (`'point'`) has changed `'strip'` in `catplot`.\n",
      "  warnings.warn(msg)\n",
      "/Users/heojeong-wook/anaconda3/lib/python3.7/site-packages/seaborn/categorical.py:3666: UserWarning: The `factorplot` function has been renamed to `catplot`. The original name will be removed in a future release. Please update your code. Note that the default `kind` in `factorplot` (`'point'`) has changed `'strip'` in `catplot`.\n",
      "  warnings.warn(msg)\n",
      "/Users/heojeong-wook/anaconda3/lib/python3.7/site-packages/seaborn/categorical.py:3666: UserWarning: The `factorplot` function has been renamed to `catplot`. The original name will be removed in a future release. Please update your code. Note that the default `kind` in `factorplot` (`'point'`) has changed `'strip'` in `catplot`.\n",
      "  warnings.warn(msg)\n",
      "/Users/heojeong-wook/anaconda3/lib/python3.7/site-packages/seaborn/categorical.py:3666: UserWarning: The `factorplot` function has been renamed to `catplot`. The original name will be removed in a future release. Please update your code. Note that the default `kind` in `factorplot` (`'point'`) has changed `'strip'` in `catplot`.\n",
      "  warnings.warn(msg)\n"
     ]
    },
    {
     "data": {
      "image/png": "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\n",
      "text/plain": [
       "<Figure size 360x360 with 1 Axes>"
      ]
     },
     "metadata": {
      "needs_background": "light"
     },
     "output_type": "display_data"
    },
    {
     "data": {
      "image/png": "iVBORw0KGgoAAAANSUhEUgAAAWAAAAFgCAYAAACFYaNMAAAABHNCSVQICAgIfAhkiAAAAAlwSFlzAAALEgAACxIB0t1+/AAAADl0RVh0U29mdHdhcmUAbWF0cGxvdGxpYiB2ZXJzaW9uIDMuMC4yLCBodHRwOi8vbWF0cGxvdGxpYi5vcmcvOIA7rQAAFcRJREFUeJzt3X+0nVV95/H3DYkgIig2NglItVK+yx+VCCmmLU6rQVeLoragY0NtlaVpRykzQ1vKmIyCDmrxF7UiWrCmrV4tC6f+iMBqY1JEIaao/Cg430kVf4QkFiRqTPgRSOaP59yuwxly7pPcu+8+95z3a627ztnnec5zvpeED5t99t7P2N69e5Ekzbw5tQuQpFFlAEtSJQawJFViAEtSJQawJFViAEtSJQawJFViAEtSJQawJFViAEtSJXNrF3AgImIucDSwOTMfql2PJB2IWRnANOF75xe/+MXadUhSt7H9OdkhCEmqxACWpEoMYEmqxACWpEoMYEmqxACWpEoMYEmqxACWpEoMYEmqxACWpEoMYEmqxACWpEoMYEmqxACW1NeGDRs499xz2bBhQ+1Shs5s3Y5S0gxZvXo1mzZtYteuXSxdurR2OUPFHrCkvnbt2vWIR00fA1iSKjGAJakSA1iSKjGAJakSA1iSKjGAJakSA1iSKim6ECMilgOrgHnAJZl5ac/xAD4CPBHYBrw6M7eXrEmSBkWxHnBEHAVcBJwMLAZWRMQzu46PAZ8D3pWZxwPfAM4vVY8kDZqSQxCnAOsy897M3AlcBZzRdfwEYGdmXttpvwO4FEkaESWHIBYBW7vaW4GTutrHAtsi4qPAc4FvAn9UsB5JGigle8BzgL1d7TFgT1d7LvDrwGWZeQLwbeB9BeuRpIFSMoA3Awu72guALV3tbcCmzLyp0/4kj+whS9JQKxnAa4FlETE/Ig4FTgeu7Tp+AzA/Io7vtE8DvlawHkkaKMUCODPvAlYC64GbgfHM3BgRV0fEksy8D/gt4PKIuB14IfDHpeqRpEFTdB5wZo4D4z2vndr1/Ks47CBpRLkSTpIqMYAlqRIDWJIqMYAlqRIDWJIqMYAlqRIDWJIqMYAlqRIDWJIqMYAlqRIDWJIqMYAlqRIDWJIqMYAlqRIDWJIqMYClKdjz0O7aJWiazeSfadEN2aVhN2fuPL528etrl1HUA9t/8B+Pw/67Apx43hUz9ln2gCWpEgNYkioxgCWpEgNYkioxgCWpEgNYkioxgCWpEgNYkioxgCWpEgNYkioxgCWpEgNYkioxgCWpEgNYkioxgCWpEgNYkioxgCWpEgNYkioxgCWpkqL3hIuI5cAqYB5wSWZe2nP8rcBZwPbOS5f3niNJw6pYAEfEUcBFwInAA8ANEbE+M+/oOm0J8OrMvLFUHZI0qEoOQZwCrMvMezNzJ3AVcEbPOUuAN0fErRHxwYg4pGA9kjRQSgbwImBrV3srcPREIyIOA74B/ClwAvAE4H8WrEeSBkrJMeA5wN6u9hiwZ6KRmT8FTp1oR8R7gb8GVhasSZIGRske8GZgYVd7AbBlohERx0TEWV3Hx4DdBeuRpIFSsge8FrggIuYDO4HTgRVdx+8DLo6I9cB3gDcB/1CwHkkaKMV6wJl5F81wwnrgZmA8MzdGxNURsSQz7wb+APg8kDQ94PeWqkeSBk3RecCZOQ6M97x2atfzTwOfLlmDJA0qV8JJUiUGsCRVYgBLUiUGsCRVYgBL6uvguXMe8ajp4z9RSX29+Ngn8vNPPIQXH/vE2qUMnaLT0CTNfs+YfyjPmH9o7TKGkj1gSarEAJakSgxgSarEAJakSgxgSarEAJakSgxgSarEAJakSgxgSarEAJakSgxgSarEAJakSgxgSarEAJakSgxgSapk0gCOiNMiYmwmipGkUdKmB3wOcGdErIqIBaULkqRRMWkAZ+aLgGXAYcBXI+LKiHhh8cokaci1GgPOzG8BK4FzgSXApyLitoj4pZLFSdIwm/SecBFxLPAG4DXArcB/A9YAzwOuBJ5WskBJGlZtbsq5EVgN/Fpmbup6/caIuK5IVZI0AtoMQZydmed2h29EvAYgM19bqjBJGnb77AFHxGnAPODtEXEfMDEVbR5wIfB35cuTpOHVbwhiMfBC4Mk0U9EmPAS8v2RRkjQK9hnAmfl2mt7vGzPzQzNYkySNhH5DEL+bmR8HHhsR5/Yez8z3Fa1MkoZcvyGIX+g8PnsmCpGkUdNvCOKtncfXzVw5kjQ6+g1B3Abs3dfxzHxOkYokaUT0G4I4e8aqkKQR1G8hxg8y8zpgxz5+JhURyyPijojYFBFv6nPeSyLizv2oW5JmvX494PcALwU+/SjH9gI/3+/CEXEUcBFwIvAAcENErM/MO3rO+9nOZ7nnsKSR0u9LuJd2Hg90s51TgHWZeS9ARFwFnAG8ree8K2hW1r3rAD9HkmalNruhPQ5YBbwI2A1cDfx5Zj44yVsXAVu72luBk3qufQ7wdWDDftQsSUOhzW5oH6IZKz6v8/gG4APAH07yvjk8chbFGLBnohERzwZOp9ns/ej2JUvScGgTwM/tnnIWEeuBW1q8bzPw/K72AmBLV/uVwELgJuAxwKKIuD4zu98jSUOrzXaU2yPiyK72YcCPWrxvLbAsIuZHxKE0vd1rJw5m5lsz87jMXAycCmwxfCWNkn4LMT7Qebob+FpE/G/gYeBlwB37et+EzLwrIlYC62l6uFdk5saIuBp4S2beNOXqJWkW6zcE8cPO4/WdnwmfbHvxzBwHxnteO/VRzvsO8NS211U7GzZs4Morr+RVr3oVS5curV2OpB79pqFduK9jnZkRGnCrV69m06ZN7Nq1ywCWBlCbaWgvp5m7exjNTIaDgCOBx5ctTVO1a9euRzxKGixtvoR7D/AO4HvAG2m+SPtwyaIkaRS0CeCdmfn3NIsl7gf+C80SZUnSFLQJ4Psj4mDg34DFmbmHPttUSpLaabMQ43PAF4DfB26MiOcD9xStSpJGwKQ94Mx8B3BWZt4FvBz4Es2mOpKkKWjTAwZ4RmfjnN3AtZn57wVrkqSRMGkPOCLeDLwf2EWzEu7yfpurS5LaadMDXg48LzN3AETEe4EvA5eWLEyShl2bWRD3AT+daGTmdprpaJKkKei3Gc9vd54m8JmIuIJmCOL3aLaQlCRNQb8hiD/qaZ/b9fzJBWqRpJHSbzOeF3S3I2IuMJaZu4tXJUkjoM0siCdHxDXATppVcesiYlH50iRpuLX5Eu6DNPtA/CzN0MP1wGUli5KkUdBmGtpxmfmqrvZbI+L2UgVJ0qho0wOeFxGHTDQ693eb1ZvxPLj74dolaJr5Z6rZqE0P+FPA2oj4GE3wngVcVbSqwh4z7yCWn/eJ2mUUd889OwDYds+Oof99xy8+s3YJ0n6bNIAz8+0RsRn4DZq7YawGPlq4Lkkaem1uSfTFzFwGfGwG6pGkkdFmDPgJ3oRTkqZfmzHgncB3I+JWHrknxMuKVSVJI6BNADveK0kF9A3giHg2sAP4aueOGJKkabLPMeCIeB3N7Yf+DLglIl48Y1VJ0gjo9yXcOcCzM/N5wGnA+TNTkiSNhr6zIDJzS+fxRmD+jFQkSSOiXwD3Ljd+qGQhkjRq2swDnjCr93+QpEHTbxbEcyLiJ13tQzvtMWBvZh5etjRJGm79AvjpM1aFJI2gfrck+u5MFqLpN3bQvEc8Shos+zMGrFnmsEUnMO+wBRy26ITapUh6FG2WImuWOviIp3DwEU+pXYakfbAHLEmV7LMHHBG30WfqWWY+Z7KLR8RyYBUwD7gkMy/tOf5bwIU0G73/C7AiMx9sV7okzW79hiDOnsqFI+Io4CLgROAB4IaIWJ+Zd3SOP47mjssnZOYPIuJTwGuBv5rK50rSbNFvFsR1E88j4kjgcTRzgA8Cjm1x7VOAdZl5b+caVwFnAG/rXH9nRDw1M3d3bvT5ZGD7gf4ikjTbTDoGHBFvA34AfBtI4N+A97W49iJga1d7K3B09wmd8P1N4PvAzwD/2K5sSZr92nwJ93vAMTR3Qv4FmmGC21teu3sMeQzY03tSZl6TmU8C1gCXtbiuJA2FNgH875m5FfgmcHxm/h3wiy3etxlY2NVeAGyZaETEkT17DH8CmPSLPUkaFm0CeHdEPJ1m+OH5ETEXOKTF+9YCyyJifmeM93Tg2q7jY8DHI+KYTvuVwJfbly5Js1ubAH4nzcyENcBv04zXrpvsTZ1bGK0E1gM3A+OZuTEiro6IJZn5Q2AFsCYibgGC5u4bkjQS2qyEuz4z1wBExGKaceBb21w8M8eB8Z7XTu16/hngM62rlaQh0iaA74yINcDlmXk9cEvhmiRpJLQJ4KcBvwO8JyKOAK4A/iYz7y5amSQNuUnHgDPzx5n54c7NOf8zzWKK7xevTJKGXKvd0CLiBJr5v6+k2bPhlQVrkqSRMGkAR8StNMuQPwacOHGnZEnS1LTpAf9xZv5T8UokacT0247yvMy8GHhZRJzWezwzzylamSQNuX494B93Hu+ZiUIkadT0247yI52n22hWse2YmZIkaTS0WYr8AuDbEfHRiPjl0gVJ0qhoMw/41cBxwNeAv4iIf42I/1q8Mkkacq1uypmZ22k25Hkn8FPg/JJFSdIoaDMP+LnAWTSLL74OXAx8rnBdkjT02swD/izwUeCkzPxe4XokaWS0CeAvZ+aFxSuRpBHTZgz4WRExVrwSSRoxbXrAW4HbI2IDzRdwgCvhJGmq2gTwjZ0fSdI0mjSAHf+VpDLaTEO7Ddjb+3pmegt5SZqCNkMQZ3c9fwzwauDbZcqRpNHRZgjiuu52RKwFbgAuKlWUJI2CVkuRezwJWDTdhUjSqNnfMeAx4BjgI/t+hySpjf0dA94L3J2Z3yxUjySNjL5DEJ0VcF/pjAN/HfgZ4KGZKEySht0+AzgingncCfxGRDwW2Ejzxds/R8SLZqg+SRpa/XrA7wZWZuYamqlnY8CzgKXABeVLk6Th1i+Aj8nMT3SevwD4TGbuyczvA0eUL02Shlu/AH646/mvAF/qah9SphxJGh39ZkHcGxHHA48HFgLXAUTErwB3zUBtkjTU+gXwm4G1NMMN52Xmzoj4E2Al8IqZKE6Shtk+AzgzN0TEUcChmfmjzss30NyaaNOMVCdJQ6zvQozMfBB4sKt9Q/GKJGlEHMheEJKkaWAAS1IlbfaCOGARsRxYBcwDLsnMS3uOvxy4kGaRx53A6zJze8maJGlQFOsBd77Auwg4GVgMrOgsb544fjhwGfCSzDweuBVX2EkaISWHIE4B1mXmvZm5E7gKOKPr+DzgTZk5Maf4VpqtLiVpJJQcglhEc0v7CVuBkyYamflD4B8AOpv9nA/8ZcF6JGmglOwBz+GRN/McA/b0nhQRRwBfAG7JzL8pWI8kDZSSAbyZZgnzhAXAlu4TImIhcD3N8MPrC9YiSQOn5BDEWuCCiJgP7AROB1ZMHIyIg4DPA1dm5v8qWIckDaRiAZyZd0XESmA9ze3sr8jMjRFxNfAW4CnACcDciJj4cu6mzLQnLGkkFJ0HnJnjwHjPa6d2nt6EC0EkjTADUJIqMYAlqRIDWJIqMYAlqRIDWJIqMYAlqRIDWJIqMYAlqRIDWJIqMYAlqRIDWJIqMYAlqRIDWJIqMYAlqRIDWJIqMYAlqRIDWJIqMYAlqRIDWJIqMYAlqRIDWJIqMYAlqRIDWJIqMYAlqRIDWJIqMYAlqRIDWJIqMYAlqRIDWJIqMYAlqRIDWJIqMYAlqRIDWJIqMYAlqRIDWJIqMYAlqRIDWJIqmVvy4hGxHFgFzAMuycxL93He3wLrMnN1yXokaZAU6wFHxFHARcDJwGJgRUQ8s+ecRRHxeeCMUnVI0qAqOQRxCk2v9t7M3Alcxf8ftGcCnwWuLFiHJA2kkkMQi4CtXe2twEndJ2TmuwEi4uSCdUjSQCrZA54D7O1qjwF7Cn6eJM0qJQN4M7Cwq70A2FLw8yRpVik5BLEWuCAi5gM7gdOBFQU/T5JmlWI94My8C1gJrAduBsYzc2NEXB0RS0p9riTNFkXnAWfmODDe89qpj3Lea0vWIUmDyJVwklSJASxJlRjAklSJASxJlRjAklSJASxJlRjAklSJASxJlRjAklSJASxJlRjAklSJASxJlRjAklSJASxJlRjAklSJASxJlRjAklSJASxJlRjAklSJASxJlRjAklSJASxJlRjAklSJASxJlRjAklSJASxJlRjAklSJASxJlRjAklSJASxJlRjAklSJASxJlRjAklSJASxJlRjAklSJASxJlcwtefGIWA6sAuYBl2TmpT3HFwNXAIcDXwL+MDMfKlmTJA2KYj3giDgKuAg4GVgMrIiIZ/ac9nHg7Mw8DhgD3lCqHkkaNCV7wKcA6zLzXoCIuAo4A3hbp/1zwGMzc0Pn/NXAhcBlLa59EMC2bdsOuLgHdv3ogN+rwbN58+Zqn333jvurfbam31T+Li1btuypwOa2/ydfMoAXAVu72luBkyY5fnTLay8EOPPMM6dSn4bIsn/6QO0SNCyuXDaVd98JPA34TpuTSwbwHGBvV3sM2LMfx/v5F+D5NKH98BRqlKTp1roLXTKAN9OE5IQFwJae4wv7HN+nzHwA+PJUC5SkmkpOQ1sLLIuI+RFxKHA6cO3Ewcz8LnB/RPxq56XXANcUrEeSBkqxAM7Mu4CVwHrgZmA8MzdGxNURsaRz2pnA+yPi/wCHAQ7kSRoZY3v37p38LEnStHMlnCRVYgBLUiUGsCRVYgBLUiUGsCRVUnQ3NNUz2U50UlsRcThwA/DSzPxO5XKGij3gIdRyJzppUhHxPJpVp8fVrmUYGcDD6T92osvMncDETnTS/noD8CZabhOg/eMQxHCabCc6qZXMfD1ARNQuZSjZAx5OU9lpTtIMMYCH0wHvNCdp5jgEMZzWAhdExHxgJ81OdCvqliSplz3gIbSvnejqViWpl7uhSVIl9oAlqRIDWJIqMYAlqRIDWJIqMYAlqRLnAWtWi4ilwDuBJ9F0KL4P/Elm3j4N114N/Gtmvici9gLzaW4e+y3gtp7TP5eZb5nqZ2q0GMCatSLiYGAN8OLM/Hrntd8FromIp2Xmw4U++r7MXFzo2hohBrBms0OBJ9D0Sid8AvgJsCwiLgS+BwTNisB3Aed02p/OzP8eEXOA9wNLgcfT7Jvx+sz8yoz9FhpZBrBmrczcHhHnAddGxDbgKzSr/z5Fs/vbLwFvzMxvRMQ1wP8Afh04HNgSEe8Gfo5m97hfzsw9EXE+cD5wWp+PfmxE3NzVfigzl0zzr6cRYABrVsvM90XE5cCvAf8J+LPOz3nAnZn5jc6p3wJ+nJkPAvdExE+AIzPzxohYBfxBRDydJqB3TPKxDkFoWjgLQrNWRPxqRPxpZu7IzDWZeR7wLJqtOOcBD/S8ZfejXOMlwBc6zc8CH6YZhpCKM4A1m90NrIqIk7teWwgcQTMroo0XAZ/PzMuAm4BXAAdNa5XSPjgEoVkrM/9vRLwCeEdEHA3cD/wYeF3neRsfBj4ZEbfR/Pvwj8DpnS/npKLcDU2SKvG/8pJUiQEsSZUYwJJUiQEsSZUYwJJUiQEsSZUYwJJUyf8DYf1HUXyZj+AAAAAASUVORK5CYII=\n",
      "text/plain": [
       "<Figure size 360x360 with 1 Axes>"
      ]
     },
     "metadata": {
      "needs_background": "light"
     },
     "output_type": "display_data"
    },
    {
     "data": {
      "image/png": "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\n",
      "text/plain": [
       "<Figure size 360x360 with 1 Axes>"
      ]
     },
     "metadata": {
      "needs_background": "light"
     },
     "output_type": "display_data"
    },
    {
     "data": {
      "image/png": "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\n",
      "text/plain": [
       "<Figure size 360x360 with 1 Axes>"
      ]
     },
     "metadata": {
      "needs_background": "light"
     },
     "output_type": "display_data"
    }
   ],
   "source": [
    "g = sns.factorplot(x=\"Single\", y=\"Survived\", data=dataset, kind=\"bar\")\n",
    "g = g.set_ylabels(\"Survival Probability\")\n",
    "g = sns.factorplot(x=\"SmallF\", y=\"Survived\", data=dataset, kind=\"bar\")\n",
    "g = g.set_ylabels(\"Survival Probability\")\n",
    "g = sns.factorplot(x=\"MedF\", y=\"Survived\", data=dataset, kind=\"bar\")\n",
    "g = g.set_ylabels(\"Survival Probability\")\n",
    "g = sns.factorplot(x=\"LargeF\", y=\"Survived\", data=dataset, kind=\"bar\")\n",
    "g = g.set_ylabels(\"Survived Probability\")"
   ]
  },
  {
   "cell_type": "markdown",
   "metadata": {},
   "source": [
    "Factorplots of family size categories show that Small and Medium families have more chance to survive than single passenger and large families."
   ]
  },
  {
   "cell_type": "code",
   "execution_count": 48,
   "metadata": {},
   "outputs": [],
   "source": [
    "# Convert to indicator values Title and Embarked\n",
    "dataset = pd.get_dummies(dataset, columns = [\"Title\"])\n",
    "dataset = pd.get_dummies(dataset, columns = [\"Embarked\"], prefix=\"Em\")"
   ]
  },
  {
   "cell_type": "code",
   "execution_count": 49,
   "metadata": {},
   "outputs": [
    {
     "data": {
      "text/html": [
       "<div>\n",
       "<style scoped>\n",
       "    .dataframe tbody tr th:only-of-type {\n",
       "        vertical-align: middle;\n",
       "    }\n",
       "\n",
       "    .dataframe tbody tr th {\n",
       "        vertical-align: top;\n",
       "    }\n",
       "\n",
       "    .dataframe thead th {\n",
       "        text-align: right;\n",
       "    }\n",
       "</style>\n",
       "<table border=\"1\" class=\"dataframe\">\n",
       "  <thead>\n",
       "    <tr style=\"text-align: right;\">\n",
       "      <th></th>\n",
       "      <th>Age</th>\n",
       "      <th>Cabin</th>\n",
       "      <th>Fare</th>\n",
       "      <th>Parch</th>\n",
       "      <th>PassengerId</th>\n",
       "      <th>Pclass</th>\n",
       "      <th>Sex</th>\n",
       "      <th>SibSp</th>\n",
       "      <th>Survived</th>\n",
       "      <th>Ticket</th>\n",
       "      <th>...</th>\n",
       "      <th>SmallF</th>\n",
       "      <th>MedF</th>\n",
       "      <th>LargeF</th>\n",
       "      <th>Title_0</th>\n",
       "      <th>Title_1</th>\n",
       "      <th>Title_2</th>\n",
       "      <th>Title_3</th>\n",
       "      <th>Em_C</th>\n",
       "      <th>Em_Q</th>\n",
       "      <th>Em_S</th>\n",
       "    </tr>\n",
       "  </thead>\n",
       "  <tbody>\n",
       "    <tr>\n",
       "      <th>0</th>\n",
       "      <td>22.0</td>\n",
       "      <td>NaN</td>\n",
       "      <td>1.981001</td>\n",
       "      <td>0</td>\n",
       "      <td>1</td>\n",
       "      <td>3</td>\n",
       "      <td>0</td>\n",
       "      <td>1</td>\n",
       "      <td>0.0</td>\n",
       "      <td>A/5 21171</td>\n",
       "      <td>...</td>\n",
       "      <td>1</td>\n",
       "      <td>0</td>\n",
       "      <td>0</td>\n",
       "      <td>0</td>\n",
       "      <td>0</td>\n",
       "      <td>1</td>\n",
       "      <td>0</td>\n",
       "      <td>0</td>\n",
       "      <td>0</td>\n",
       "      <td>1</td>\n",
       "    </tr>\n",
       "    <tr>\n",
       "      <th>1</th>\n",
       "      <td>38.0</td>\n",
       "      <td>C85</td>\n",
       "      <td>4.266662</td>\n",
       "      <td>0</td>\n",
       "      <td>2</td>\n",
       "      <td>1</td>\n",
       "      <td>1</td>\n",
       "      <td>1</td>\n",
       "      <td>1.0</td>\n",
       "      <td>PC 17599</td>\n",
       "      <td>...</td>\n",
       "      <td>1</td>\n",
       "      <td>0</td>\n",
       "      <td>0</td>\n",
       "      <td>0</td>\n",
       "      <td>1</td>\n",
       "      <td>0</td>\n",
       "      <td>0</td>\n",
       "      <td>1</td>\n",
       "      <td>0</td>\n",
       "      <td>0</td>\n",
       "    </tr>\n",
       "    <tr>\n",
       "      <th>2</th>\n",
       "      <td>26.0</td>\n",
       "      <td>NaN</td>\n",
       "      <td>2.070022</td>\n",
       "      <td>0</td>\n",
       "      <td>3</td>\n",
       "      <td>3</td>\n",
       "      <td>1</td>\n",
       "      <td>0</td>\n",
       "      <td>1.0</td>\n",
       "      <td>STON/O2. 3101282</td>\n",
       "      <td>...</td>\n",
       "      <td>0</td>\n",
       "      <td>0</td>\n",
       "      <td>0</td>\n",
       "      <td>0</td>\n",
       "      <td>1</td>\n",
       "      <td>0</td>\n",
       "      <td>0</td>\n",
       "      <td>0</td>\n",
       "      <td>0</td>\n",
       "      <td>1</td>\n",
       "    </tr>\n",
       "    <tr>\n",
       "      <th>3</th>\n",
       "      <td>35.0</td>\n",
       "      <td>C123</td>\n",
       "      <td>3.972177</td>\n",
       "      <td>0</td>\n",
       "      <td>4</td>\n",
       "      <td>1</td>\n",
       "      <td>1</td>\n",
       "      <td>1</td>\n",
       "      <td>1.0</td>\n",
       "      <td>113803</td>\n",
       "      <td>...</td>\n",
       "      <td>1</td>\n",
       "      <td>0</td>\n",
       "      <td>0</td>\n",
       "      <td>0</td>\n",
       "      <td>1</td>\n",
       "      <td>0</td>\n",
       "      <td>0</td>\n",
       "      <td>0</td>\n",
       "      <td>0</td>\n",
       "      <td>1</td>\n",
       "    </tr>\n",
       "    <tr>\n",
       "      <th>4</th>\n",
       "      <td>35.0</td>\n",
       "      <td>NaN</td>\n",
       "      <td>2.085672</td>\n",
       "      <td>0</td>\n",
       "      <td>5</td>\n",
       "      <td>3</td>\n",
       "      <td>0</td>\n",
       "      <td>0</td>\n",
       "      <td>0.0</td>\n",
       "      <td>373450</td>\n",
       "      <td>...</td>\n",
       "      <td>0</td>\n",
       "      <td>0</td>\n",
       "      <td>0</td>\n",
       "      <td>0</td>\n",
       "      <td>0</td>\n",
       "      <td>1</td>\n",
       "      <td>0</td>\n",
       "      <td>0</td>\n",
       "      <td>0</td>\n",
       "      <td>1</td>\n",
       "    </tr>\n",
       "  </tbody>\n",
       "</table>\n",
       "<p>5 rows × 22 columns</p>\n",
       "</div>"
      ],
      "text/plain": [
       "    Age Cabin      Fare  Parch  PassengerId  Pclass  Sex  SibSp  Survived  \\\n",
       "0  22.0   NaN  1.981001      0            1       3    0      1       0.0   \n",
       "1  38.0   C85  4.266662      0            2       1    1      1       1.0   \n",
       "2  26.0   NaN  2.070022      0            3       3    1      0       1.0   \n",
       "3  35.0  C123  3.972177      0            4       1    1      1       1.0   \n",
       "4  35.0   NaN  2.085672      0            5       3    0      0       0.0   \n",
       "\n",
       "             Ticket  ...   SmallF  MedF  LargeF  Title_0  Title_1  Title_2  \\\n",
       "0         A/5 21171  ...        1     0       0        0        0        1   \n",
       "1          PC 17599  ...        1     0       0        0        1        0   \n",
       "2  STON/O2. 3101282  ...        0     0       0        0        1        0   \n",
       "3            113803  ...        1     0       0        0        1        0   \n",
       "4            373450  ...        0     0       0        0        0        1   \n",
       "\n",
       "   Title_3  Em_C  Em_Q  Em_S  \n",
       "0        0     0     0     1  \n",
       "1        0     1     0     0  \n",
       "2        0     0     0     1  \n",
       "3        0     0     0     1  \n",
       "4        0     0     0     1  \n",
       "\n",
       "[5 rows x 22 columns]"
      ]
     },
     "execution_count": 49,
     "metadata": {},
     "output_type": "execute_result"
    }
   ],
   "source": [
    "dataset.head()"
   ]
  },
  {
   "cell_type": "markdown",
   "metadata": {},
   "source": [
    "At this stage, we have 22 features."
   ]
  },
  {
   "cell_type": "markdown",
   "metadata": {},
   "source": [
    "## 5.3 Cabin"
   ]
  },
  {
   "cell_type": "code",
   "execution_count": 50,
   "metadata": {},
   "outputs": [
    {
     "data": {
      "text/plain": [
       "0     NaN\n",
       "1     C85\n",
       "2     NaN\n",
       "3    C123\n",
       "4     NaN\n",
       "Name: Cabin, dtype: object"
      ]
     },
     "execution_count": 50,
     "metadata": {},
     "output_type": "execute_result"
    }
   ],
   "source": [
    "dataset[\"Cabin\"].head()"
   ]
  },
  {
   "cell_type": "code",
   "execution_count": 51,
   "metadata": {},
   "outputs": [
    {
     "data": {
      "text/plain": [
       "count                 292\n",
       "unique                186\n",
       "top       B57 B59 B63 B66\n",
       "freq                    5\n",
       "Name: Cabin, dtype: object"
      ]
     },
     "execution_count": 51,
     "metadata": {},
     "output_type": "execute_result"
    }
   ],
   "source": [
    "dataset[\"Cabin\"].describe()"
   ]
  },
  {
   "cell_type": "code",
   "execution_count": 52,
   "metadata": {},
   "outputs": [
    {
     "data": {
      "text/plain": [
       "1007"
      ]
     },
     "execution_count": 52,
     "metadata": {},
     "output_type": "execute_result"
    }
   ],
   "source": [
    "dataset[\"Cabin\"].isnull().sum()"
   ]
  },
  {
   "cell_type": "markdown",
   "metadata": {},
   "source": [
    "The cabin feature column contains 292 values and 1007 missing values.\n",
    "\n",
    "I supposed that passengers without a cabin have a missing value displayed instead of the cabin number."
   ]
  },
  {
   "cell_type": "code",
   "execution_count": 53,
   "metadata": {},
   "outputs": [
    {
     "data": {
      "text/plain": [
       "1      C85\n",
       "3     C123\n",
       "6      E46\n",
       "10      G6\n",
       "11    C103\n",
       "Name: Cabin, dtype: object"
      ]
     },
     "execution_count": 53,
     "metadata": {},
     "output_type": "execute_result"
    }
   ],
   "source": [
    "dataset[\"Cabin\"][dataset[\"Cabin\"].notnull()].head()"
   ]
  },
  {
   "cell_type": "code",
   "execution_count": 54,
   "metadata": {},
   "outputs": [],
   "source": [
    "# Replace the Cabin number by the type of cabin 'X' if not\n",
    "dataset[\"Cabin\"] = pd.Series([i[0] if not pd.isnull(i) else 'X' for i in dataset['Cabin']])"
   ]
  },
  {
   "cell_type": "markdown",
   "metadata": {},
   "source": [
    "The first letter of the cabin indicates the Desk, I choosed to keep this information only, since it indicates the probable location of the passenger in the Titanic."
   ]
  },
  {
   "cell_type": "code",
   "execution_count": 55,
   "metadata": {},
   "outputs": [
    {
     "data": {
      "image/png": "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\n",
      "text/plain": [
       "<Figure size 432x288 with 1 Axes>"
      ]
     },
     "metadata": {
      "needs_background": "light"
     },
     "output_type": "display_data"
    }
   ],
   "source": [
    "g = sns.countplot(dataset[\"Cabin\"], order=['A','B','C','D','E','F','G','T','X'])"
   ]
  },
  {
   "cell_type": "code",
   "execution_count": 56,
   "metadata": {},
   "outputs": [
    {
     "name": "stderr",
     "output_type": "stream",
     "text": [
      "/Users/heojeong-wook/anaconda3/lib/python3.7/site-packages/seaborn/categorical.py:3666: UserWarning: The `factorplot` function has been renamed to `catplot`. The original name will be removed in a future release. Please update your code. Note that the default `kind` in `factorplot` (`'point'`) has changed `'strip'` in `catplot`.\n",
      "  warnings.warn(msg)\n"
     ]
    },
    {
     "data": {
      "image/png": "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\n",
      "text/plain": [
       "<Figure size 360x360 with 1 Axes>"
      ]
     },
     "metadata": {
      "needs_background": "light"
     },
     "output_type": "display_data"
    }
   ],
   "source": [
    "g = sns.factorplot(y=\"Survived\", x=\"Cabin\", data=dataset, kind=\"bar\", order=['A','B','C','D','E','F','G','T','X'])\n",
    "g = g.set_ylabels(\"Survival Probability\")"
   ]
  },
  {
   "cell_type": "markdown",
   "metadata": {},
   "source": [
    "Because of the low number of passenger that have a cabin, survival probabilities have an important standard deviation and we can't distinguish between survival probability of passengers in the different desks.\n",
    "\n",
    "But we can see that passengers with a cabin have generally more chance to survive than passengers without (X).\n",
    "\n",
    "It is particularly true for cabin B,C,D,E and F."
   ]
  },
  {
   "cell_type": "code",
   "execution_count": 57,
   "metadata": {},
   "outputs": [],
   "source": [
    "dataset = pd.get_dummies(dataset, columns = [\"Cabin\"], prefix=\"Cabin\")"
   ]
  },
  {
   "cell_type": "markdown",
   "metadata": {},
   "source": [
    "## 5.4 Ticket"
   ]
  },
  {
   "cell_type": "code",
   "execution_count": 58,
   "metadata": {},
   "outputs": [
    {
     "data": {
      "text/plain": [
       "0           A/5 21171\n",
       "1            PC 17599\n",
       "2    STON/O2. 3101282\n",
       "3              113803\n",
       "4              373450\n",
       "Name: Ticket, dtype: object"
      ]
     },
     "execution_count": 58,
     "metadata": {},
     "output_type": "execute_result"
    }
   ],
   "source": [
    "dataset[\"Ticket\"].head()"
   ]
  },
  {
   "cell_type": "markdown",
   "metadata": {},
   "source": [
    "It could mean that tickets sharing the same prefixes could be booked for cabins placed together. It could therefore lead to the actual placement of the cabins withing the ship.\n",
    "\n",
    "Tickets with same prefixes may have a similar class and survival.\n",
    "\n",
    "So I decided to replace the Ticket feature column by the ticket prefix. Which may be more informative."
   ]
  },
  {
   "cell_type": "code",
   "execution_count": 59,
   "metadata": {},
   "outputs": [
    {
     "data": {
      "text/plain": [
       "0        A5\n",
       "1        PC\n",
       "2    STONO2\n",
       "3         X\n",
       "4         X\n",
       "Name: Ticket, dtype: object"
      ]
     },
     "execution_count": 59,
     "metadata": {},
     "output_type": "execute_result"
    }
   ],
   "source": [
    "## Treat Ticket by extracticg the ticket prefix. When there is no prefix it returns X.\n",
    "\n",
    "Ticket = []\n",
    "for i in list(dataset.Ticket):\n",
    "    if not i.isdigit():\n",
    "        Ticket.append(i.replace(\".\",\"\").replace(\"/\",\"\").strip().split(' ')[0])\n",
    "    else:\n",
    "            Ticket.append(\"X\")\n",
    "            \n",
    "dataset[\"Ticket\"] = Ticket\n",
    "dataset[\"Ticket\"].head()"
   ]
  },
  {
   "cell_type": "code",
   "execution_count": 60,
   "metadata": {},
   "outputs": [],
   "source": [
    "dataset = pd.get_dummies(dataset, columns = [\"Ticket\"], prefix=\"T\")"
   ]
  },
  {
   "cell_type": "code",
   "execution_count": 61,
   "metadata": {},
   "outputs": [],
   "source": [
    "# Create categorical values for Pclass\n",
    "dataset[\"Pclass\"] = dataset[\"Pclass\"].astype(\"category\")\n",
    "dataset = pd.get_dummies(dataset, columns = [\"Pclass\"], prefix=\"Pc\")"
   ]
  },
  {
   "cell_type": "code",
   "execution_count": 62,
   "metadata": {},
   "outputs": [],
   "source": [
    "# Drop useless variables\n",
    "dataset.drop(labels = [\"PassengerId\"], axis = 1, inplace = True)"
   ]
  },
  {
   "cell_type": "code",
   "execution_count": 63,
   "metadata": {},
   "outputs": [
    {
     "data": {
      "text/html": [
       "<div>\n",
       "<style scoped>\n",
       "    .dataframe tbody tr th:only-of-type {\n",
       "        vertical-align: middle;\n",
       "    }\n",
       "\n",
       "    .dataframe tbody tr th {\n",
       "        vertical-align: top;\n",
       "    }\n",
       "\n",
       "    .dataframe thead th {\n",
       "        text-align: right;\n",
       "    }\n",
       "</style>\n",
       "<table border=\"1\" class=\"dataframe\">\n",
       "  <thead>\n",
       "    <tr style=\"text-align: right;\">\n",
       "      <th></th>\n",
       "      <th>Age</th>\n",
       "      <th>Fare</th>\n",
       "      <th>Parch</th>\n",
       "      <th>Sex</th>\n",
       "      <th>SibSp</th>\n",
       "      <th>Survived</th>\n",
       "      <th>Fsize</th>\n",
       "      <th>Single</th>\n",
       "      <th>SmallF</th>\n",
       "      <th>MedF</th>\n",
       "      <th>...</th>\n",
       "      <th>T_STONO</th>\n",
       "      <th>T_STONO2</th>\n",
       "      <th>T_STONOQ</th>\n",
       "      <th>T_SWPP</th>\n",
       "      <th>T_WC</th>\n",
       "      <th>T_WEP</th>\n",
       "      <th>T_X</th>\n",
       "      <th>Pc_1</th>\n",
       "      <th>Pc_2</th>\n",
       "      <th>Pc_3</th>\n",
       "    </tr>\n",
       "  </thead>\n",
       "  <tbody>\n",
       "    <tr>\n",
       "      <th>0</th>\n",
       "      <td>22.0</td>\n",
       "      <td>1.981001</td>\n",
       "      <td>0</td>\n",
       "      <td>0</td>\n",
       "      <td>1</td>\n",
       "      <td>0.0</td>\n",
       "      <td>2</td>\n",
       "      <td>0</td>\n",
       "      <td>1</td>\n",
       "      <td>0</td>\n",
       "      <td>...</td>\n",
       "      <td>0</td>\n",
       "      <td>0</td>\n",
       "      <td>0</td>\n",
       "      <td>0</td>\n",
       "      <td>0</td>\n",
       "      <td>0</td>\n",
       "      <td>0</td>\n",
       "      <td>0</td>\n",
       "      <td>0</td>\n",
       "      <td>1</td>\n",
       "    </tr>\n",
       "    <tr>\n",
       "      <th>1</th>\n",
       "      <td>38.0</td>\n",
       "      <td>4.266662</td>\n",
       "      <td>0</td>\n",
       "      <td>1</td>\n",
       "      <td>1</td>\n",
       "      <td>1.0</td>\n",
       "      <td>2</td>\n",
       "      <td>0</td>\n",
       "      <td>1</td>\n",
       "      <td>0</td>\n",
       "      <td>...</td>\n",
       "      <td>0</td>\n",
       "      <td>0</td>\n",
       "      <td>0</td>\n",
       "      <td>0</td>\n",
       "      <td>0</td>\n",
       "      <td>0</td>\n",
       "      <td>0</td>\n",
       "      <td>1</td>\n",
       "      <td>0</td>\n",
       "      <td>0</td>\n",
       "    </tr>\n",
       "    <tr>\n",
       "      <th>2</th>\n",
       "      <td>26.0</td>\n",
       "      <td>2.070022</td>\n",
       "      <td>0</td>\n",
       "      <td>1</td>\n",
       "      <td>0</td>\n",
       "      <td>1.0</td>\n",
       "      <td>1</td>\n",
       "      <td>1</td>\n",
       "      <td>0</td>\n",
       "      <td>0</td>\n",
       "      <td>...</td>\n",
       "      <td>0</td>\n",
       "      <td>1</td>\n",
       "      <td>0</td>\n",
       "      <td>0</td>\n",
       "      <td>0</td>\n",
       "      <td>0</td>\n",
       "      <td>0</td>\n",
       "      <td>0</td>\n",
       "      <td>0</td>\n",
       "      <td>1</td>\n",
       "    </tr>\n",
       "    <tr>\n",
       "      <th>3</th>\n",
       "      <td>35.0</td>\n",
       "      <td>3.972177</td>\n",
       "      <td>0</td>\n",
       "      <td>1</td>\n",
       "      <td>1</td>\n",
       "      <td>1.0</td>\n",
       "      <td>2</td>\n",
       "      <td>0</td>\n",
       "      <td>1</td>\n",
       "      <td>0</td>\n",
       "      <td>...</td>\n",
       "      <td>0</td>\n",
       "      <td>0</td>\n",
       "      <td>0</td>\n",
       "      <td>0</td>\n",
       "      <td>0</td>\n",
       "      <td>0</td>\n",
       "      <td>1</td>\n",
       "      <td>1</td>\n",
       "      <td>0</td>\n",
       "      <td>0</td>\n",
       "    </tr>\n",
       "    <tr>\n",
       "      <th>4</th>\n",
       "      <td>35.0</td>\n",
       "      <td>2.085672</td>\n",
       "      <td>0</td>\n",
       "      <td>0</td>\n",
       "      <td>0</td>\n",
       "      <td>0.0</td>\n",
       "      <td>1</td>\n",
       "      <td>1</td>\n",
       "      <td>0</td>\n",
       "      <td>0</td>\n",
       "      <td>...</td>\n",
       "      <td>0</td>\n",
       "      <td>0</td>\n",
       "      <td>0</td>\n",
       "      <td>0</td>\n",
       "      <td>0</td>\n",
       "      <td>0</td>\n",
       "      <td>1</td>\n",
       "      <td>0</td>\n",
       "      <td>0</td>\n",
       "      <td>1</td>\n",
       "    </tr>\n",
       "  </tbody>\n",
       "</table>\n",
       "<p>5 rows × 67 columns</p>\n",
       "</div>"
      ],
      "text/plain": [
       "    Age      Fare  Parch  Sex  SibSp  Survived  Fsize  Single  SmallF  MedF  \\\n",
       "0  22.0  1.981001      0    0      1       0.0      2       0       1     0   \n",
       "1  38.0  4.266662      0    1      1       1.0      2       0       1     0   \n",
       "2  26.0  2.070022      0    1      0       1.0      1       1       0     0   \n",
       "3  35.0  3.972177      0    1      1       1.0      2       0       1     0   \n",
       "4  35.0  2.085672      0    0      0       0.0      1       1       0     0   \n",
       "\n",
       "   ...   T_STONO  T_STONO2  T_STONOQ  T_SWPP  T_WC  T_WEP  T_X  Pc_1  Pc_2  \\\n",
       "0  ...         0         0         0       0     0      0    0     0     0   \n",
       "1  ...         0         0         0       0     0      0    0     1     0   \n",
       "2  ...         0         1         0       0     0      0    0     0     0   \n",
       "3  ...         0         0         0       0     0      0    1     1     0   \n",
       "4  ...         0         0         0       0     0      0    1     0     0   \n",
       "\n",
       "   Pc_3  \n",
       "0     1  \n",
       "1     0  \n",
       "2     1  \n",
       "3     0  \n",
       "4     1  \n",
       "\n",
       "[5 rows x 67 columns]"
      ]
     },
     "execution_count": 63,
     "metadata": {},
     "output_type": "execute_result"
    }
   ],
   "source": [
    "dataset.head()"
   ]
  },
  {
   "cell_type": "markdown",
   "metadata": {},
   "source": [
    "# 6.Modeling"
   ]
  },
  {
   "cell_type": "code",
   "execution_count": 64,
   "metadata": {},
   "outputs": [
    {
     "name": "stderr",
     "output_type": "stream",
     "text": [
      "/Users/heojeong-wook/anaconda3/lib/python3.7/site-packages/pandas/core/frame.py:3697: SettingWithCopyWarning: \n",
      "A value is trying to be set on a copy of a slice from a DataFrame\n",
      "\n",
      "See the caveats in the documentation: http://pandas.pydata.org/pandas-docs/stable/indexing.html#indexing-view-versus-copy\n",
      "  errors=errors)\n"
     ]
    }
   ],
   "source": [
    "## Separate train dataset and test dataset\n",
    "\n",
    "train = dataset[:train_len]\n",
    "test = dataset[train_len:]\n",
    "test.drop(labels=[\"Survived\"], axis = 1, inplace=True)"
   ]
  },
  {
   "cell_type": "code",
   "execution_count": 65,
   "metadata": {},
   "outputs": [
    {
     "name": "stderr",
     "output_type": "stream",
     "text": [
      "/Users/heojeong-wook/anaconda3/lib/python3.7/site-packages/ipykernel_launcher.py:3: SettingWithCopyWarning: \n",
      "A value is trying to be set on a copy of a slice from a DataFrame.\n",
      "Try using .loc[row_indexer,col_indexer] = value instead\n",
      "\n",
      "See the caveats in the documentation: http://pandas.pydata.org/pandas-docs/stable/indexing.html#indexing-view-versus-copy\n",
      "  This is separate from the ipykernel package so we can avoid doing imports until\n"
     ]
    }
   ],
   "source": [
    "## Separate train features and label\n",
    "\n",
    "train[\"Survivied\"] = train[\"Survived\"].astype(int)\n",
    "\n",
    "Y_train = train[\"Survived\"]\n",
    "\n",
    "X_train = train.drop(labels = [\"Survived\"], axis = 1)"
   ]
  },
  {
   "cell_type": "markdown",
   "metadata": {},
   "source": [
    "## 6.1 Simple modeling"
   ]
  },
  {
   "cell_type": "markdown",
   "metadata": {},
   "source": [
    "### 6.1.1 Cross validate models\n",
    "I compared 10 popular classifiers and evauate the mean accuracy of each of them by a stratified kfold cross validation procedure.\n",
    "\n",
    "- SVC\n",
    "- Decision Tree\n",
    "- AdaBoost\n",
    "- Random Forest\n",
    "- Extra Trees\n",
    "- Gradient Boosting\n",
    "- Multiple layer perception (neural network)\n",
    "- KNN\n",
    "- Logisitic regression\n",
    "- Linear Discriminant Analysis"
   ]
  },
  {
   "cell_type": "code",
   "execution_count": 73,
   "metadata": {},
   "outputs": [],
   "source": [
    "# Cross validate model with Kfold stratified cross val\n",
    "kfold = StratifiedKFold(n_splits=10)"
   ]
  },
  {
   "cell_type": "code",
   "execution_count": 74,
   "metadata": {},
   "outputs": [
    {
     "data": {
      "image/png": "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\n",
      "text/plain": [
       "<Figure size 432x288 with 1 Axes>"
      ]
     },
     "metadata": {
      "needs_background": "light"
     },
     "output_type": "display_data"
    }
   ],
   "source": [
    "# Modeling step Test differents algorithms \n",
    "\n",
    "random_state = 2\n",
    "classifiers = []\n",
    "classifiers.append(SVC(random_state=random_state))\n",
    "classifiers.append(DecisionTreeClassifier(random_state=random_state))\n",
    "classifiers.append(AdaBoostClassifier(DecisionTreeClassifier(random_state=random_state),random_state=random_state,learning_rate=0.1))\n",
    "classifiers.append(RandomForestClassifier(random_state=random_state))\n",
    "classifiers.append(ExtraTreesClassifier(random_state=random_state))\n",
    "classifiers.append(GradientBoostingClassifier(random_state=random_state))\n",
    "classifiers.append(MLPClassifier(random_state=random_state))\n",
    "classifiers.append(KNeighborsClassifier())\n",
    "classifiers.append(LogisticRegression(random_state = random_state))\n",
    "classifiers.append(LinearDiscriminantAnalysis())\n",
    "\n",
    "cv_results = []\n",
    "for classifier in classifiers :\n",
    "    cv_results.append(cross_val_score(classifier, X_train, y = Y_train, scoring = \"accuracy\", cv = kfold, n_jobs=4))\n",
    "\n",
    "cv_means = []\n",
    "cv_std = []\n",
    "for cv_result in cv_results:\n",
    "    cv_means.append(cv_result.mean())\n",
    "    cv_std.append(cv_result.std())\n",
    "\n",
    "cv_res = pd.DataFrame({\"CrossValMeans\":cv_means,\"CrossValerrors\": cv_std,\"Algorithm\":[\"SVC\",\"DecisionTree\",\"AdaBoost\",\n",
    "\"RandomForest\",\"ExtraTrees\",\"GradientBoosting\",\"MultipleLayerPerceptron\",\"KNeighboors\",\"LogisticRegression\",\"LinearDiscriminantAnalysis\"]})\n",
    "\n",
    "g = sns.barplot(\"CrossValMeans\",\"Algorithm\",data = cv_res, palette=\"Set3\",orient = \"h\",**{'xerr':cv_std})\n",
    "g.set_xlabel(\"Mean Accuracy\")\n",
    "g = g.set_title(\"Cross validation scores\")"
   ]
  },
  {
   "cell_type": "markdown",
   "metadata": {},
   "source": [
    "I decided to choose the SVC, AdaBoost, RandomForest, ExtraTrees and the GradientBoosting classifiers for the ensemble modeling."
   ]
  },
  {
   "cell_type": "markdown",
   "metadata": {},
   "source": [
    "### 6.1.2 Hyperparameter tunnung for best models\n",
    "I performed a grid search optimization for AdaBoost, ExtraTrees, RandomForest, GradientBoosting and SVC classifiers.\n",
    "\n",
    "I Set the \"n_jobs\" parameter to 4 since I have 4 cpu. The computation time is clearly reduced.\n",
    "\n",
    "But be carecul, this step can __take a long time__, I took me 15 min in total on 4 cpu."
   ]
  },
  {
   "cell_type": "code",
   "execution_count": 75,
   "metadata": {},
   "outputs": [
    {
     "name": "stdout",
     "output_type": "stream",
     "text": [
      "Fitting 10 folds for each of 112 candidates, totalling 1120 fits\n"
     ]
    },
    {
     "name": "stderr",
     "output_type": "stream",
     "text": [
      "[Parallel(n_jobs=4)]: Using backend LokyBackend with 4 concurrent workers.\n",
      "[Parallel(n_jobs=4)]: Done 348 tasks      | elapsed:    1.6s\n",
      "[Parallel(n_jobs=4)]: Done 1120 out of 1120 | elapsed:    4.8s finished\n"
     ]
    }
   ],
   "source": [
    "### META MODELING  WITH ADABOOST, RF, EXTRATREES and GRADIENTBOOSTING\n",
    "\n",
    "# Adaboost\n",
    "DTC = DecisionTreeClassifier()\n",
    "\n",
    "adaDTC = AdaBoostClassifier(DTC, random_state=7)\n",
    "\n",
    "ada_param_grid = {\"base_estimator__criterion\" : [\"gini\", \"entropy\"],\n",
    "              \"base_estimator__splitter\" :   [\"best\", \"random\"],\n",
    "              \"algorithm\" : [\"SAMME\",\"SAMME.R\"],\n",
    "              \"n_estimators\" :[1,2],\n",
    "              \"learning_rate\":  [0.0001, 0.001, 0.01, 0.1, 0.2, 0.3,1.5]}\n",
    "\n",
    "gsadaDTC = GridSearchCV(adaDTC,param_grid = ada_param_grid, cv=kfold, scoring=\"accuracy\", n_jobs= 4, verbose = 1)\n",
    "\n",
    "gsadaDTC.fit(X_train,Y_train)\n",
    "\n",
    "ada_best = gsadaDTC.best_estimator_"
   ]
  },
  {
   "cell_type": "code",
   "execution_count": 76,
   "metadata": {},
   "outputs": [
    {
     "data": {
      "text/plain": [
       "1.0"
      ]
     },
     "execution_count": 76,
     "metadata": {},
     "output_type": "execute_result"
    }
   ],
   "source": [
    "gsadaDTC.best_score_"
   ]
  },
  {
   "cell_type": "code",
   "execution_count": 77,
   "metadata": {},
   "outputs": [
    {
     "name": "stdout",
     "output_type": "stream",
     "text": [
      "Fitting 10 folds for each of 54 candidates, totalling 540 fits\n"
     ]
    },
    {
     "name": "stderr",
     "output_type": "stream",
     "text": [
      "[Parallel(n_jobs=4)]: Using backend LokyBackend with 4 concurrent workers.\n",
      "[Parallel(n_jobs=4)]: Done  42 tasks      | elapsed:    6.7s\n",
      "[Parallel(n_jobs=4)]: Done 192 tasks      | elapsed:   24.0s\n",
      "[Parallel(n_jobs=4)]: Done 442 tasks      | elapsed:   57.4s\n",
      "[Parallel(n_jobs=4)]: Done 540 out of 540 | elapsed:  1.2min finished\n"
     ]
    },
    {
     "data": {
      "text/plain": [
       "1.0"
      ]
     },
     "execution_count": 77,
     "metadata": {},
     "output_type": "execute_result"
    }
   ],
   "source": [
    "# ExtraTrees\n",
    "ExtC = ExtraTreesClassifier()\n",
    "\n",
    "## Search grid for optimal parameters\n",
    "ex_param_grid = {\"max_depth\":[None],\n",
    "                \"max_features\":[1,3,10],\n",
    "                \"min_samples_split\":[2,3,10],\n",
    "                \"min_samples_leaf\":[1,3,10],\n",
    "                \"bootstrap\":[False],\n",
    "                \"n_estimators\":[100,300],\n",
    "                \"criterion\":[\"gini\"]}\n",
    "\n",
    "gsExtC = GridSearchCV(ExtC, param_grid = ex_param_grid, cv=kfold, scoring = \"accuracy\", n_jobs = 4, verbose = 1)\n",
    "\n",
    "gsExtC.fit(X_train, Y_train)\n",
    "\n",
    "ExtC_best = gsExtC.best_estimator_\n",
    "\n",
    "# Best score\n",
    "gsExtC.best_score_"
   ]
  },
  {
   "cell_type": "code",
   "execution_count": 78,
   "metadata": {},
   "outputs": [
    {
     "name": "stdout",
     "output_type": "stream",
     "text": [
      "Fitting 10 folds for each of 54 candidates, totalling 540 fits\n"
     ]
    },
    {
     "name": "stderr",
     "output_type": "stream",
     "text": [
      "[Parallel(n_jobs=4)]: Using backend LokyBackend with 4 concurrent workers.\n",
      "[Parallel(n_jobs=4)]: Done  42 tasks      | elapsed:    8.2s\n",
      "[Parallel(n_jobs=4)]: Done 192 tasks      | elapsed:   27.9s\n",
      "[Parallel(n_jobs=4)]: Done 442 tasks      | elapsed:  1.2min\n",
      "[Parallel(n_jobs=4)]: Done 540 out of 540 | elapsed:  1.5min finished\n"
     ]
    },
    {
     "data": {
      "text/plain": [
       "1.0"
      ]
     },
     "execution_count": 78,
     "metadata": {},
     "output_type": "execute_result"
    }
   ],
   "source": [
    "# RFC Parameters tunning\n",
    "RFC = RandomForestClassifier()\n",
    "\n",
    "## Search grid for optimal parameters\n",
    "rf_param_grid = {\"max_depth\": [None],\n",
    "                \"max_features\": [1,3,10],\n",
    "                \"min_samples_split\": [2,3,10],\n",
    "                \"min_samples_leaf\": [1,3,10],\n",
    "                \"bootstrap\": [False],\n",
    "                \"n_estimators\": [100,300],\n",
    "                \"criterion\": [\"gini\"]}\n",
    "\n",
    "gsRFC = GridSearchCV(RFC, param_grid = rf_param_grid, cv=kfold, scoring=\"accuracy\", n_jobs=4, verbose = 1)\n",
    "\n",
    "gsRFC.fit(X_train, Y_train)\n",
    "\n",
    "RFC_best = gsRFC.best_estimator_\n",
    "\n",
    "# Best score\n",
    "gsRFC.best_score_"
   ]
  },
  {
   "cell_type": "code",
   "execution_count": null,
   "metadata": {},
   "outputs": [
    {
     "name": "stdout",
     "output_type": "stream",
     "text": [
      "Fitting 10 folds for each of 72 candidates, totalling 720 fits\n"
     ]
    },
    {
     "name": "stderr",
     "output_type": "stream",
     "text": [
      "[Parallel(n_jobs=4)]: Using backend LokyBackend with 4 concurrent workers.\n",
      "[Parallel(n_jobs=4)]: Done  42 tasks      | elapsed:   23.2s\n",
      "[Parallel(n_jobs=4)]: Done 192 tasks      | elapsed:   52.6s\n",
      "[Parallel(n_jobs=4)]: Done 442 tasks      | elapsed:  1.4min\n"
     ]
    }
   ],
   "source": [
    "# Gradient boosting tunning\n",
    "\n",
    "GBC = GradientBoostingClassifier()\n",
    "gb_param_grid = {'loss' : [\"deviance\"],\n",
    "                'n_estimators' : [100,200,300],\n",
    "                'learning_rate': [0.1,0.05,0.01],\n",
    "                'max_depth' : [4,8,],\n",
    "                'min_samples_leaf': [100,150],\n",
    "                'max_features': [0.3,0.1]}\n",
    "\n",
    "gsGBC = GridSearchCV(GBC, param_grid = gb_param_grid, cv=kfold, scoring = \"accuracy\", n_jobs = 4, verbose = 1)\n",
    "\n",
    "gsGBC.fit(X_train, Y_train)\n",
    "\n",
    "GBC_best = gsGBC.best_estimator_\n",
    "\n",
    "# Best score\n",
    "gsGBC.best_score_"
   ]
  },
  {
   "cell_type": "code",
   "execution_count": null,
   "metadata": {},
   "outputs": [],
   "source": []
  },
  {
   "cell_type": "code",
   "execution_count": null,
   "metadata": {},
   "outputs": [],
   "source": []
  },
  {
   "cell_type": "code",
   "execution_count": null,
   "metadata": {},
   "outputs": [],
   "source": []
  },
  {
   "cell_type": "code",
   "execution_count": null,
   "metadata": {},
   "outputs": [],
   "source": []
  },
  {
   "cell_type": "code",
   "execution_count": null,
   "metadata": {},
   "outputs": [],
   "source": []
  },
  {
   "cell_type": "code",
   "execution_count": null,
   "metadata": {},
   "outputs": [],
   "source": []
  },
  {
   "cell_type": "code",
   "execution_count": null,
   "metadata": {},
   "outputs": [],
   "source": []
  },
  {
   "cell_type": "code",
   "execution_count": null,
   "metadata": {},
   "outputs": [],
   "source": []
  },
  {
   "cell_type": "code",
   "execution_count": null,
   "metadata": {},
   "outputs": [],
   "source": []
  },
  {
   "cell_type": "code",
   "execution_count": null,
   "metadata": {},
   "outputs": [],
   "source": []
  },
  {
   "cell_type": "code",
   "execution_count": null,
   "metadata": {},
   "outputs": [],
   "source": []
  },
  {
   "cell_type": "code",
   "execution_count": null,
   "metadata": {},
   "outputs": [],
   "source": []
  },
  {
   "cell_type": "code",
   "execution_count": null,
   "metadata": {},
   "outputs": [],
   "source": []
  },
  {
   "cell_type": "code",
   "execution_count": null,
   "metadata": {},
   "outputs": [],
   "source": []
  },
  {
   "cell_type": "code",
   "execution_count": null,
   "metadata": {},
   "outputs": [],
   "source": []
  },
  {
   "cell_type": "code",
   "execution_count": null,
   "metadata": {},
   "outputs": [],
   "source": []
  },
  {
   "cell_type": "code",
   "execution_count": null,
   "metadata": {},
   "outputs": [],
   "source": []
  },
  {
   "cell_type": "code",
   "execution_count": null,
   "metadata": {},
   "outputs": [],
   "source": []
  },
  {
   "cell_type": "code",
   "execution_count": null,
   "metadata": {},
   "outputs": [],
   "source": []
  },
  {
   "cell_type": "code",
   "execution_count": null,
   "metadata": {},
   "outputs": [],
   "source": []
  },
  {
   "cell_type": "code",
   "execution_count": null,
   "metadata": {},
   "outputs": [],
   "source": []
  },
  {
   "cell_type": "code",
   "execution_count": null,
   "metadata": {},
   "outputs": [],
   "source": []
  },
  {
   "cell_type": "code",
   "execution_count": null,
   "metadata": {},
   "outputs": [],
   "source": []
  },
  {
   "cell_type": "code",
   "execution_count": null,
   "metadata": {},
   "outputs": [],
   "source": []
  },
  {
   "cell_type": "code",
   "execution_count": null,
   "metadata": {},
   "outputs": [],
   "source": []
  },
  {
   "cell_type": "code",
   "execution_count": null,
   "metadata": {},
   "outputs": [],
   "source": []
  },
  {
   "cell_type": "code",
   "execution_count": null,
   "metadata": {},
   "outputs": [],
   "source": []
  },
  {
   "cell_type": "code",
   "execution_count": null,
   "metadata": {},
   "outputs": [],
   "source": []
  },
  {
   "cell_type": "code",
   "execution_count": null,
   "metadata": {},
   "outputs": [],
   "source": []
  },
  {
   "cell_type": "code",
   "execution_count": null,
   "metadata": {},
   "outputs": [],
   "source": []
  },
  {
   "cell_type": "code",
   "execution_count": null,
   "metadata": {},
   "outputs": [],
   "source": []
  },
  {
   "cell_type": "code",
   "execution_count": null,
   "metadata": {},
   "outputs": [],
   "source": []
  },
  {
   "cell_type": "code",
   "execution_count": null,
   "metadata": {},
   "outputs": [],
   "source": []
  },
  {
   "cell_type": "code",
   "execution_count": null,
   "metadata": {},
   "outputs": [],
   "source": []
  },
  {
   "cell_type": "code",
   "execution_count": null,
   "metadata": {},
   "outputs": [],
   "source": []
  },
  {
   "cell_type": "code",
   "execution_count": null,
   "metadata": {},
   "outputs": [],
   "source": []
  },
  {
   "cell_type": "code",
   "execution_count": null,
   "metadata": {},
   "outputs": [],
   "source": []
  },
  {
   "cell_type": "code",
   "execution_count": null,
   "metadata": {},
   "outputs": [],
   "source": []
  },
  {
   "cell_type": "code",
   "execution_count": null,
   "metadata": {},
   "outputs": [],
   "source": []
  },
  {
   "cell_type": "code",
   "execution_count": null,
   "metadata": {},
   "outputs": [],
   "source": []
  },
  {
   "cell_type": "code",
   "execution_count": null,
   "metadata": {},
   "outputs": [],
   "source": []
  },
  {
   "cell_type": "code",
   "execution_count": null,
   "metadata": {},
   "outputs": [],
   "source": []
  },
  {
   "cell_type": "code",
   "execution_count": null,
   "metadata": {},
   "outputs": [],
   "source": []
  },
  {
   "cell_type": "code",
   "execution_count": null,
   "metadata": {},
   "outputs": [],
   "source": []
  },
  {
   "cell_type": "code",
   "execution_count": null,
   "metadata": {},
   "outputs": [],
   "source": []
  },
  {
   "cell_type": "code",
   "execution_count": null,
   "metadata": {},
   "outputs": [],
   "source": []
  }
 ],
 "metadata": {
  "kernelspec": {
   "display_name": "Python 3",
   "language": "python",
   "name": "python3"
  },
  "language_info": {
   "codemirror_mode": {
    "name": "ipython",
    "version": 3
   },
   "file_extension": ".py",
   "mimetype": "text/x-python",
   "name": "py